{
 "cells": [
  {
   "cell_type": "code",
   "execution_count": 41,
   "metadata": {},
   "outputs": [],
   "source": [
    "import numpy as np\n",
    "import matplotlib.pyplot as plt\n",
    "from tkinter import *"
   ]
  },
  {
   "cell_type": "code",
   "execution_count": 42,
   "metadata": {},
   "outputs": [],
   "source": [
    "class Location:\n",
    "    def __init__(self, name=None, distance=None):\n",
    "        self.name = name\n",
    "        self.distance = distance"
   ]
  },
  {
   "cell_type": "code",
   "execution_count": 43,
   "metadata": {},
   "outputs": [],
   "source": [
    "class Call:\n",
    "    nb_call = 0 \n",
    "    def __init__(self, initial_time=None, final_time=None, status=None, location=None):\n",
    "        Call.nb_call = Call.nb_call + 1 \n",
    "        self.ID = Call.nb_call\n",
    "        self.initial_time = initial_time\n",
    "        self.final_time = final_time\n",
    "        self.status = status \n",
    "        self.location = location\n",
    "        \n",
    "    def detail(self):\n",
    "        print('Call from {} at a distance of {} received at {}'.format(self.location.name, self.location.distance, self.initial_time))"
   ]
  },
  {
   "cell_type": "code",
   "execution_count": 44,
   "metadata": {},
   "outputs": [],
   "source": [
    "class Intervention: \n",
    "    def __init__(self, travel_time=None, TOS=None, response_time=None, boat=None, call=None):\n",
    "        self.travel_time = travel_time\n",
    "        self.TOS = TOS\n",
    "        self.response_time = response_time \n",
    "        self.boat = boat\n",
    "        self.call = call"
   ]
  },
  {
   "cell_type": "code",
   "execution_count": 45,
   "metadata": {},
   "outputs": [],
   "source": [
    "class Boat: \n",
    "    def __init__(self, ID=None, speed=None, status=None): \n",
    "        self.ID = ID\n",
    "        self.speed = speed \n",
    "        self.status = status "
   ]
  },
  {
   "cell_type": "code",
   "execution_count": 65,
   "metadata": {},
   "outputs": [],
   "source": [
    "def generate_Call(beta, locations, distance, p, lastCall=None):\n",
    "    location = Location()\n",
    "    location.name = np.random.choice(locations, 1, p)\n",
    "    location.distance = distance[' '.join(location.name)]\n",
    "    \n",
    "    call = Call()\n",
    "    if (lastCall==None):\n",
    "        call.initial_time = float (np.random.exponential(scale=beta, size=1))\n",
    "    else:    \n",
    "        call.initial_time = float (lastCall.initial_time + np.random.exponential(scale=beta, size=1))\n",
    "    call.status = \"received\"\n",
    "    call.location = location\n",
    "    \n",
    "    return call"
   ]
  },
  {
   "cell_type": "code",
   "execution_count": 55,
   "metadata": {},
   "outputs": [],
   "source": [
    "def dispatch_list(call_list, boat_list):\n",
    "    j = 0 \n",
    "    while(j != len(call_list) and call_list[j].status != \"running\"):\n",
    "        i = 0 \n",
    "        while(i != len(boat_list) and boat_list[i].status != 0): #while you don't have a boat available \n",
    "            i = i + 1\n",
    "        if(i != len(boat_list) and boat_list[i].status == 0): #if you have a boat available \n",
    "            intervention = Intervention()\n",
    "            intervention.boat = boat_list[i]\n",
    "            intervention.call = call_list[j]\n",
    "            intervention.response_time = call_list[j].location.distance/boat_list[i].speed\n",
    "            intervention.TOS = 20\n",
    "            intervention.travel_time = 2*intervention.response_time + intervention.TOS\n",
    "            inter_list.append(intervention)\n",
    "            call.final_time = call.initial_time + intervention.travel_time\n",
    "            call_list[j].status = \"running\" \n",
    "            boat_list[i].status = 1               \n",
    "    return inter_list  "
   ]
  },
  {
   "cell_type": "code",
   "execution_count": null,
   "metadata": {},
   "outputs": [],
   "source": [
    "def procedure(call_list, boat_list):\n",
    "    for i in range(len(call_list)): \n",
    "        if(call_list[i].initial_time > call_list[i-1].final_time "
   ]
  },
  {
   "cell_type": "code",
   "execution_count": 66,
   "metadata": {},
   "outputs": [
    {
     "name": "stdout",
     "output_type": "stream",
     "text": [
      "Call from ['Christopher'] at a distance of 400 received at 20.7849038389402\n",
      "Call from ['piglet'] at a distance of 300 received at 31.72373493273637\n",
      "Call from ['rabbit'] at a distance of 200 received at 42.20213845709649\n",
      "Call from ['pooh'] at a distance of 100 received at 46.187760777444126\n",
      "Call from ['rabbit'] at a distance of 200 received at 80.13795899573142\n",
      "Call from ['piglet'] at a distance of 300 received at 89.14435800576112\n",
      "Call from ['rabbit'] at a distance of 200 received at 92.50188603315777\n",
      "Call from ['piglet'] at a distance of 300 received at 164.24411175820467\n",
      "Call from ['rabbit'] at a distance of 200 received at 175.70418069327084\n",
      "Call from ['piglet'] at a distance of 300 received at 178.86255641325522\n",
      "Call from ['pooh'] at a distance of 100 received at 222.4260687835823\n"
     ]
    }
   ],
   "source": [
    "locations = ['pooh', 'rabbit', 'piglet', 'Christopher']\n",
    "distance = {\"pooh\":100, \"rabbit\":200, \"piglet\":300, \"Christopher\":400}\n",
    "p=[0.5, 0.1, 0.1, 0.3]\n",
    "\n",
    "call_list = []\n",
    "teste = generate_Call(15,locations, distance,p)\n",
    "call_list.append(teste)\n",
    "\n",
    "for i in range (10):\n",
    "    call_list.append(generate_Call(38, locations, distance, p, call_list[-1]))\n",
    "for call in call_list: \n",
    "    call.detail()"
   ]
  },
  {
   "cell_type": "code",
   "execution_count": null,
   "metadata": {},
   "outputs": [],
   "source": []
  }
 ],
 "metadata": {
  "kernelspec": {
   "display_name": "Python 3",
   "language": "python",
   "name": "python3"
  },
  "language_info": {
   "codemirror_mode": {
    "name": "ipython",
    "version": 3
   },
   "file_extension": ".py",
   "mimetype": "text/x-python",
   "name": "python",
   "nbconvert_exporter": "python",
   "pygments_lexer": "ipython3",
   "version": "3.6.4"
  }
 },
 "nbformat": 4,
 "nbformat_minor": 2
}
