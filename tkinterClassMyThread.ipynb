{
 "cells": [
  {
   "cell_type": "code",
   "execution_count": 1,
   "metadata": {},
   "outputs": [],
   "source": [
    "import tkinter as tk\n",
    "import time \n",
    "import threading \n",
    "import simpy\n",
    "import random\n",
    "import sys\n",
    "import mttkinter\n",
    "sys.setrecursionlimit(50000)"
   ]
  },
  {
   "cell_type": "code",
   "execution_count": 2,
   "metadata": {},
   "outputs": [
    {
     "name": "stdout",
     "output_type": "stream",
     "text": [
      "[<myThread(Thread-7, initial)>]\n",
      "[<myThread(Thread-7, started 1848)>, <myThread(Thread-8, initial)>]\n",
      "[<myThread(Thread-7, started 1848)>, <myThread(Thread-8, started 5380)>, <myThread(Thread-9, initial)>]\n",
      "[<myThread(Thread-7, started 1848)>, <myThread(Thread-8, started 5380)>, <myThread(Thread-9, started 6244)>, <myThread(Thread-10, initial)>]\n",
      "delete\n",
      "delete\n",
      "delete\n",
      "delete\n"
     ]
    }
   ],
   "source": [
    "fenetre = tk.Tk()\n",
    "\n",
    "canvas = tk.Canvas(fenetre, width=500, height=500, background='yellow')\n",
    "rect = canvas.create_rectangle(100, 100, 150, 400,fill='red')\n",
    "line = canvas.create_line(300,235,300,285, fill='red')\n",
    "c = []\n",
    "coords = []\n",
    "t = []\n",
    "coord_rect = (100,100,150,400)\n",
    "coord_line = (300,235,300,285)\n",
    "timeInBank = 5.0\n",
    "\n",
    "class myThread(threading.Thread):\n",
    "\n",
    "    def __init__(self, i):\n",
    "        threading.Thread.__init__(self)\n",
    "        self.i = i\n",
    "        \n",
    "    def run(self):\n",
    "        self.running = True\n",
    "        while(self.running): \n",
    "            if(coords[self.i][0] > coord_rect[2] ):\n",
    "                if(coords[self.i][0] != coord_line[0] or coords[self.i-1][0] == 0):\n",
    "                    if(self.i==0):\n",
    "                        coords[self.i] = (coords[self.i][0] - 1, coords[self.i][1])\n",
    "                        canvas.coords(c[self.i], coords[self.i][0], coords[self.i][1], coords[self.i][0]+20, coords[self.i][1]+20)\n",
    "                    if(self.i>0 and coords[self.i][0] > coords[self.i-1][0]+25 ):\n",
    "                        coords[self.i] = (coords[self.i][0] - 1, coords[self.i][1])\n",
    "                        canvas.coords(c[self.i], coords[self.i][0], coords[self.i][1], coords[self.i][0]+20, coords[self.i][1]+20)\n",
    "                time.sleep(0.001)\n",
    "                fenetre.after(1, self.run())\n",
    "                \n",
    "            if(coords[self.i][0] == coord_rect[2]):\n",
    "                time.sleep(2.0)\n",
    "                canvas.delete(fenetre, c[self.i])\n",
    "                print(\"delete\")\n",
    "                coords[self.i] = (0,0)\n",
    "                self.running = False \n",
    "   \n",
    "        \n",
    "def source():\n",
    "    time.sleep(2.0)\n",
    "    for i in range(0,4): #fonctionne pour 3 pas pour 4 ou 5 \n",
    "        c.append(canvas.create_rectangle(250+100*i,250,270+100*i,270,fill='blue'))\n",
    "        fenetre.update()\n",
    "        \n",
    "        coords.append((250+100*i, 250))    \n",
    "\n",
    "        t.append(myThread(i))\n",
    "        print(t)\n",
    "        t[i].start()\n",
    "        \n",
    "        \n",
    "        \n",
    "random.seed()  \n",
    "\n",
    "canvas.pack()\n",
    "draw = threading.Thread(target=source)\n",
    "draw.start()\n",
    "\n",
    "\n",
    "fenetre.mainloop()"
   ]
  },
  {
   "cell_type": "code",
   "execution_count": null,
   "metadata": {},
   "outputs": [],
   "source": []
  }
 ],
 "metadata": {
  "kernelspec": {
   "display_name": "Python 3",
   "language": "python",
   "name": "python3"
  },
  "language_info": {
   "codemirror_mode": {
    "name": "ipython",
    "version": 3
   },
   "file_extension": ".py",
   "mimetype": "text/x-python",
   "name": "python",
   "nbconvert_exporter": "python",
   "pygments_lexer": "ipython3",
   "version": "3.6.4"
  }
 },
 "nbformat": 4,
 "nbformat_minor": 2
}
