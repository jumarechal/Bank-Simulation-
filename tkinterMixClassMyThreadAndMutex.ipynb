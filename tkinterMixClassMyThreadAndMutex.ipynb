{
 "cells": [
  {
   "cell_type": "code",
   "execution_count": 2,
   "metadata": {},
   "outputs": [],
   "source": [
    "import tkinter as tk\n",
    "import time \n",
    "import threading \n",
    "import simpy\n",
    "import random\n",
    "import sys\n",
    "sys.setrecursionlimit(10000000)"
   ]
  },
  {
   "cell_type": "code",
   "execution_count": null,
   "metadata": {},
   "outputs": [],
   "source": [
    "fenetre = tk.Tk()\n",
    "\n",
    "canvas = tk.Canvas(fenetre, width=500, height=500, background='yellow')\n",
    "rect = canvas.create_rectangle(100, 100, 150, 400,fill='red')\n",
    "line = canvas.create_line(300,235,300,285, fill='red')\n",
    "c = []\n",
    "coords = []\n",
    "t = []\n",
    "wait = []\n",
    "coord_rect = (100,100,150,400)\n",
    "coord_line = (300,235,300,285)\n",
    "timeInBank = 5.0\n",
    "nb_counter = 2\n",
    "counter = [True]*nb_counter\n",
    "\n",
    "\n",
    "class myThread(threading.Thread):\n",
    "\n",
    "    def __init__(self, i):\n",
    "        threading.Thread.__init__(self)\n",
    "        self.i = i\n",
    "        self.going = False\n",
    "        self.comptoir = -1\n",
    "        self.deplacement = 0\n",
    "        \n",
    "    def run(self):\n",
    "        self.running = True\n",
    "        global wait\n",
    "        global counter_dispo \n",
    "        global counter_avail\n",
    "        while(self.running): \n",
    "            if(coords[self.i][0] > coord_rect[2] ):\n",
    "                if(coords[self.i][0] > coord_line[0]):\n",
    "                    if(self.i==0):\n",
    "                        coords[self.i] = (coords[self.i][0] - 1, coords[self.i][1])\n",
    "                        canvas.coords(c[self.i], coords[self.i][0], coords[self.i][1], coords[self.i][0]+20, coords[self.i][1]+20)\n",
    "                    if(self.i>0 and coords[self.i][0] > coords[self.i-1][0]+25 ):\n",
    "                        coords[self.i] = (coords[self.i][0] - 1, coords[self.i][1])\n",
    "                        canvas.coords(c[self.i], coords[self.i][0], coords[self.i][1], coords[self.i][0]+20, coords[self.i][1]+20)\n",
    "                    else: \n",
    "                        wait[self.i] = wait[self.i] + 1 \n",
    "                        if(wait[self.i] > 50):\n",
    "                            if(wait[self.i] > 400):\n",
    "                                canvas.itemconfigure(c[self.i], fill='purple')\n",
    "                            else:\n",
    "                                canvas.itemconfigure(c[self.i], fill='violet')\n",
    "                else:\n",
    "                    i = 0  \n",
    "                    if(self.comptoir == -1):\n",
    "                        while(i != len(counter) and not counter[i]):\n",
    "                            i = i + 1 \n",
    "                        if(i != len(counter) and counter[i]): \n",
    "                            self.going = True \n",
    "                            self.comptoir = i\n",
    "                            self.deplacement = (2*i - (nb_counter - 1))/nb_counter\n",
    "                            counter[i] = False\n",
    "                    if(self.going):\n",
    "                        coords[self.i] = (coords[self.i][0] - 1, coords[self.i][1] + self.deplacement)\n",
    "                        canvas.coords(c[self.i], coords[self.i][0], coords[self.i][1], coords[self.i][0]+20, coords[self.i][1]+20)\n",
    "                        fenetre.update()\n",
    "                    else: \n",
    "                        wait[self.i] = wait[self.i] + 1 \n",
    "                        if(wait[self.i] > 50):\n",
    "                            if(wait[self.i] > 400):\n",
    "                                canvas.itemconfigure(c[self.i], fill='purple')\n",
    "                            else:\n",
    "                                canvas.itemconfigure(c[self.i], fill='violet')\n",
    "                time.sleep(0.001)\n",
    "                fenetre.after(1, self.run())\n",
    "                \n",
    "            if(coords[self.i][0] <= coord_rect[2]):\n",
    "                time.sleep(2.0)\n",
    "                canvas.delete(fenetre, c[self.i])\n",
    "                print(\"delete\")\n",
    "                coords[self.i] = (0,0)\n",
    "                counter[self.comptoir] = True \n",
    "                t[i].arret()\n",
    "                \n",
    "                 \n",
    "                \n",
    "    def arret(self): \n",
    "        self.running = False \n",
    "        \n",
    "def source():\n",
    "    time.sleep(2.0)\n",
    "    for i in range(0,20): #fonctionne pour 3 pas pour 4 ou 5 \n",
    "        c.append(canvas.create_rectangle(350+30*i,250,270+30*i,270,fill='blue'))\n",
    "        fenetre.update()\n",
    "        \n",
    "        coords.append((350+30*i, 250))    \n",
    "        wait.append(0)\n",
    "        t.append(myThread(i))\n",
    "        print(t)\n",
    "        t[i].start()\n",
    "        \n",
    "        \n",
    "        \n",
    "random.seed()  \n",
    "\n",
    "canvas.pack()\n",
    "draw = threading.Thread(target=source)\n",
    "draw.start()\n",
    "\n",
    "\n",
    "fenetre.mainloop()"
   ]
  },
  {
   "cell_type": "code",
   "execution_count": 4,
   "metadata": {},
   "outputs": [
    {
     "name": "stdout",
     "output_type": "stream",
     "text": [
      "delete\n"
     ]
    },
    {
     "name": "stderr",
     "output_type": "stream",
     "text": [
      "Exception in thread Thread-40:\n",
      "Traceback (most recent call last):\n",
      "  File \"C:\\Users\\A15-03\\Anaconda3\\lib\\threading.py\", line 916, in _bootstrap_inner\n",
      "    self.run()\n",
      "  File \"<ipython-input-4-948f85271f53>\", line 78, in run\n",
      "    fenetre.after(1, self.run())\n",
      "  File \"<ipython-input-4-948f85271f53>\", line 78, in run\n",
      "    fenetre.after(1, self.run())\n",
      "  File \"<ipython-input-4-948f85271f53>\", line 78, in run\n",
      "    fenetre.after(1, self.run())\n",
      "  [Previous line repeated 256 more times]\n",
      "  File \"<ipython-input-4-948f85271f53>\", line 89, in run\n",
      "    t[i].arret()\n",
      "UnboundLocalError: local variable 'i' referenced before assignment\n",
      "\n"
     ]
    },
    {
     "name": "stdout",
     "output_type": "stream",
     "text": [
      "delete\n"
     ]
    },
    {
     "name": "stderr",
     "output_type": "stream",
     "text": [
      "Exception in thread Thread-39:\n",
      "Traceback (most recent call last):\n",
      "  File \"C:\\Users\\A15-03\\Anaconda3\\lib\\threading.py\", line 916, in _bootstrap_inner\n",
      "    self.run()\n",
      "  File \"<ipython-input-4-948f85271f53>\", line 78, in run\n",
      "    fenetre.after(1, self.run())\n",
      "  File \"<ipython-input-4-948f85271f53>\", line 78, in run\n",
      "    fenetre.after(1, self.run())\n",
      "  File \"<ipython-input-4-948f85271f53>\", line 78, in run\n",
      "    fenetre.after(1, self.run())\n",
      "  [Previous line repeated 226 more times]\n",
      "  File \"<ipython-input-4-948f85271f53>\", line 89, in run\n",
      "    t[i].arret()\n",
      "UnboundLocalError: local variable 'i' referenced before assignment\n",
      "\n"
     ]
    },
    {
     "name": "stdout",
     "output_type": "stream",
     "text": [
      "delete\n",
      "delete\n"
     ]
    },
    {
     "name": "stderr",
     "output_type": "stream",
     "text": [
      "Exception in thread Thread-42:\n",
      "Traceback (most recent call last):\n",
      "  File \"C:\\Users\\A15-03\\Anaconda3\\lib\\threading.py\", line 916, in _bootstrap_inner\n",
      "    self.run()\n",
      "  File \"<ipython-input-4-948f85271f53>\", line 78, in run\n",
      "    fenetre.after(1, self.run())\n",
      "  File \"<ipython-input-4-948f85271f53>\", line 78, in run\n",
      "    fenetre.after(1, self.run())\n",
      "  File \"<ipython-input-4-948f85271f53>\", line 78, in run\n",
      "    fenetre.after(1, self.run())\n",
      "  [Previous line repeated 316 more times]\n",
      "  File \"<ipython-input-4-948f85271f53>\", line 89, in run\n",
      "    t[i].arret()\n",
      "UnboundLocalError: local variable 'i' referenced before assignment\n",
      "\n",
      "Exception in thread Thread-38:\n",
      "Traceback (most recent call last):\n",
      "  File \"C:\\Users\\A15-03\\Anaconda3\\lib\\threading.py\", line 916, in _bootstrap_inner\n",
      "    self.run()\n",
      "  File \"<ipython-input-4-948f85271f53>\", line 78, in run\n",
      "    fenetre.after(1, self.run())\n",
      "  File \"<ipython-input-4-948f85271f53>\", line 78, in run\n",
      "    fenetre.after(1, self.run())\n",
      "  File \"<ipython-input-4-948f85271f53>\", line 78, in run\n",
      "    fenetre.after(1, self.run())\n",
      "  [Previous line repeated 196 more times]\n",
      "  File \"<ipython-input-4-948f85271f53>\", line 89, in run\n",
      "    t[i].arret()\n",
      "UnboundLocalError: local variable 'i' referenced before assignment\n",
      "\n"
     ]
    },
    {
     "name": "stdout",
     "output_type": "stream",
     "text": [
      "delete\n"
     ]
    },
    {
     "name": "stderr",
     "output_type": "stream",
     "text": [
      "Exception in thread Thread-43:\n",
      "Traceback (most recent call last):\n",
      "  File \"C:\\Users\\A15-03\\Anaconda3\\lib\\threading.py\", line 916, in _bootstrap_inner\n",
      "    self.run()\n",
      "  File \"<ipython-input-4-948f85271f53>\", line 78, in run\n",
      "    fenetre.after(1, self.run())\n",
      "  File \"<ipython-input-4-948f85271f53>\", line 78, in run\n",
      "    fenetre.after(1, self.run())\n",
      "  File \"<ipython-input-4-948f85271f53>\", line 78, in run\n",
      "    fenetre.after(1, self.run())\n",
      "  [Previous line repeated 346 more times]\n",
      "  File \"<ipython-input-4-948f85271f53>\", line 89, in run\n",
      "    t[i].arret()\n",
      "UnboundLocalError: local variable 'i' referenced before assignment\n",
      "\n"
     ]
    },
    {
     "name": "stdout",
     "output_type": "stream",
     "text": [
      "delete\n"
     ]
    },
    {
     "name": "stderr",
     "output_type": "stream",
     "text": [
      "Exception in thread Thread-41:\n",
      "Traceback (most recent call last):\n",
      "  File \"C:\\Users\\A15-03\\Anaconda3\\lib\\threading.py\", line 916, in _bootstrap_inner\n",
      "    self.run()\n",
      "  File \"<ipython-input-4-948f85271f53>\", line 78, in run\n",
      "    fenetre.after(1, self.run())\n",
      "  File \"<ipython-input-4-948f85271f53>\", line 78, in run\n",
      "    fenetre.after(1, self.run())\n",
      "  File \"<ipython-input-4-948f85271f53>\", line 78, in run\n",
      "    fenetre.after(1, self.run())\n",
      "  [Previous line repeated 286 more times]\n",
      "  File \"<ipython-input-4-948f85271f53>\", line 89, in run\n",
      "    t[i].arret()\n",
      "UnboundLocalError: local variable 'i' referenced before assignment\n",
      "\n"
     ]
    },
    {
     "name": "stdout",
     "output_type": "stream",
     "text": [
      "delete\n"
     ]
    },
    {
     "name": "stderr",
     "output_type": "stream",
     "text": [
      "Exception in thread Thread-44:\n",
      "Traceback (most recent call last):\n",
      "  File \"C:\\Users\\A15-03\\Anaconda3\\lib\\threading.py\", line 916, in _bootstrap_inner\n",
      "    self.run()\n",
      "  File \"<ipython-input-4-948f85271f53>\", line 78, in run\n",
      "    fenetre.after(1, self.run())\n",
      "  File \"<ipython-input-4-948f85271f53>\", line 78, in run\n",
      "    fenetre.after(1, self.run())\n",
      "  File \"<ipython-input-4-948f85271f53>\", line 78, in run\n",
      "    fenetre.after(1, self.run())\n",
      "  [Previous line repeated 471 more times]\n",
      "  File \"<ipython-input-4-948f85271f53>\", line 89, in run\n",
      "    t[i].arret()\n",
      "UnboundLocalError: local variable 'i' referenced before assignment\n",
      "\n"
     ]
    },
    {
     "name": "stdout",
     "output_type": "stream",
     "text": [
      "delete\n"
     ]
    },
    {
     "name": "stderr",
     "output_type": "stream",
     "text": [
      "Exception in thread Thread-45:\n",
      "Traceback (most recent call last):\n",
      "  File \"C:\\Users\\A15-03\\Anaconda3\\lib\\threading.py\", line 916, in _bootstrap_inner\n",
      "    self.run()\n",
      "  File \"<ipython-input-4-948f85271f53>\", line 78, in run\n",
      "    fenetre.after(1, self.run())\n",
      "  File \"<ipython-input-4-948f85271f53>\", line 78, in run\n",
      "    fenetre.after(1, self.run())\n",
      "  File \"<ipython-input-4-948f85271f53>\", line 78, in run\n",
      "    fenetre.after(1, self.run())\n",
      "  [Previous line repeated 504 more times]\n",
      "  File \"<ipython-input-4-948f85271f53>\", line 89, in run\n",
      "    t[i].arret()\n",
      "UnboundLocalError: local variable 'i' referenced before assignment\n",
      "\n"
     ]
    },
    {
     "name": "stdout",
     "output_type": "stream",
     "text": [
      "delete\n",
      "delete\n"
     ]
    },
    {
     "name": "stderr",
     "output_type": "stream",
     "text": [
      "Exception in thread Thread-47:\n",
      "Traceback (most recent call last):\n",
      "  File \"C:\\Users\\A15-03\\Anaconda3\\lib\\threading.py\", line 916, in _bootstrap_inner\n",
      "    self.run()\n",
      "  File \"<ipython-input-4-948f85271f53>\", line 78, in run\n",
      "    fenetre.after(1, self.run())\n",
      "  File \"<ipython-input-4-948f85271f53>\", line 78, in run\n",
      "    fenetre.after(1, self.run())\n",
      "  File \"<ipython-input-4-948f85271f53>\", line 78, in run\n",
      "    fenetre.after(1, self.run())\n",
      "  [Previous line repeated 558 more times]\n",
      "  File \"<ipython-input-4-948f85271f53>\", line 89, in run\n",
      "    t[i].arret()\n",
      "UnboundLocalError: local variable 'i' referenced before assignment\n",
      "\n",
      "Exception in thread Thread-49:\n",
      "Traceback (most recent call last):\n",
      "  File \"C:\\Users\\A15-03\\Anaconda3\\lib\\threading.py\", line 916, in _bootstrap_inner\n",
      "    self.run()\n",
      "  File \"<ipython-input-4-948f85271f53>\", line 78, in run\n",
      "    fenetre.after(1, self.run())\n",
      "  File \"<ipython-input-4-948f85271f53>\", line 78, in run\n",
      "    fenetre.after(1, self.run())\n",
      "  File \"<ipython-input-4-948f85271f53>\", line 78, in run\n",
      "    fenetre.after(1, self.run())\n",
      "  [Previous line repeated 757 more times]\n",
      "  File \"<ipython-input-4-948f85271f53>\", line 89, in run\n",
      "    t[i].arret()\n",
      "UnboundLocalError: local variable 'i' referenced before assignment\n",
      "\n"
     ]
    },
    {
     "name": "stdout",
     "output_type": "stream",
     "text": [
      "delete\n"
     ]
    },
    {
     "name": "stderr",
     "output_type": "stream",
     "text": [
      "Exception in thread Thread-46:\n",
      "Traceback (most recent call last):\n",
      "  File \"C:\\Users\\A15-03\\Anaconda3\\lib\\threading.py\", line 916, in _bootstrap_inner\n",
      "    self.run()\n",
      "  File \"<ipython-input-4-948f85271f53>\", line 78, in run\n",
      "    fenetre.after(1, self.run())\n",
      "  File \"<ipython-input-4-948f85271f53>\", line 78, in run\n",
      "    fenetre.after(1, self.run())\n",
      "  File \"<ipython-input-4-948f85271f53>\", line 78, in run\n",
      "    fenetre.after(1, self.run())\n",
      "  [Previous line repeated 530 more times]\n",
      "  File \"<ipython-input-4-948f85271f53>\", line 89, in run\n",
      "    t[i].arret()\n",
      "UnboundLocalError: local variable 'i' referenced before assignment\n",
      "\n"
     ]
    },
    {
     "name": "stdout",
     "output_type": "stream",
     "text": [
      "delete\n"
     ]
    },
    {
     "name": "stderr",
     "output_type": "stream",
     "text": [
      "Exception in thread Thread-51:\n",
      "Traceback (most recent call last):\n",
      "  File \"C:\\Users\\A15-03\\Anaconda3\\lib\\threading.py\", line 916, in _bootstrap_inner\n",
      "    self.run()\n",
      "  File \"<ipython-input-4-948f85271f53>\", line 78, in run\n",
      "    fenetre.after(1, self.run())\n",
      "  File \"<ipython-input-4-948f85271f53>\", line 78, in run\n",
      "    fenetre.after(1, self.run())\n",
      "  File \"<ipython-input-4-948f85271f53>\", line 78, in run\n",
      "    fenetre.after(1, self.run())\n",
      "  [Previous line repeated 910 more times]\n",
      "  File \"<ipython-input-4-948f85271f53>\", line 89, in run\n",
      "    t[i].arret()\n",
      "UnboundLocalError: local variable 'i' referenced before assignment\n",
      "\n"
     ]
    },
    {
     "name": "stdout",
     "output_type": "stream",
     "text": [
      "delete\n"
     ]
    },
    {
     "name": "stderr",
     "output_type": "stream",
     "text": [
      "Exception in thread Thread-52:\n",
      "Traceback (most recent call last):\n",
      "  File \"C:\\Users\\A15-03\\Anaconda3\\lib\\threading.py\", line 916, in _bootstrap_inner\n",
      "    self.run()\n",
      "  File \"<ipython-input-4-948f85271f53>\", line 78, in run\n",
      "    fenetre.after(1, self.run())\n",
      "  File \"<ipython-input-4-948f85271f53>\", line 78, in run\n",
      "    fenetre.after(1, self.run())\n",
      "  File \"<ipython-input-4-948f85271f53>\", line 78, in run\n",
      "    fenetre.after(1, self.run())\n",
      "  [Previous line repeated 961 more times]\n",
      "  File \"<ipython-input-4-948f85271f53>\", line 89, in run\n",
      "    t[i].arret()\n",
      "UnboundLocalError: local variable 'i' referenced before assignment\n",
      "\n"
     ]
    },
    {
     "name": "stdout",
     "output_type": "stream",
     "text": [
      "delete\n",
      "delete\n"
     ]
    },
    {
     "name": "stderr",
     "output_type": "stream",
     "text": [
      "Exception in thread Thread-54:\n",
      "Traceback (most recent call last):\n",
      "  File \"C:\\Users\\A15-03\\Anaconda3\\lib\\threading.py\", line 916, in _bootstrap_inner\n",
      "    self.run()\n",
      "  File \"<ipython-input-4-948f85271f53>\", line 78, in run\n",
      "    fenetre.after(1, self.run())\n",
      "  File \"<ipython-input-4-948f85271f53>\", line 78, in run\n",
      "    fenetre.after(1, self.run())\n",
      "  File \"<ipython-input-4-948f85271f53>\", line 78, in run\n",
      "    fenetre.after(1, self.run())\n",
      "  [Previous line repeated 1061 more times]\n",
      "  File \"<ipython-input-4-948f85271f53>\", line 89, in run\n",
      "    t[i].arret()\n",
      "UnboundLocalError: local variable 'i' referenced before assignment\n",
      "\n",
      "Exception in thread Thread-50:\n",
      "Traceback (most recent call last):\n",
      "  File \"C:\\Users\\A15-03\\Anaconda3\\lib\\threading.py\", line 916, in _bootstrap_inner\n",
      "    self.run()\n",
      "  File \"<ipython-input-4-948f85271f53>\", line 78, in run\n",
      "    fenetre.after(1, self.run())\n",
      "  File \"<ipython-input-4-948f85271f53>\", line 78, in run\n",
      "    fenetre.after(1, self.run())\n",
      "  File \"<ipython-input-4-948f85271f53>\", line 78, in run\n",
      "    fenetre.after(1, self.run())\n",
      "  [Previous line repeated 879 more times]\n",
      "  File \"<ipython-input-4-948f85271f53>\", line 89, in run\n",
      "    t[i].arret()\n",
      "UnboundLocalError: local variable 'i' referenced before assignment\n",
      "\n"
     ]
    },
    {
     "name": "stdout",
     "output_type": "stream",
     "text": [
      "delete\n"
     ]
    },
    {
     "name": "stderr",
     "output_type": "stream",
     "text": [
      "Exception in thread Thread-48:\n",
      "Traceback (most recent call last):\n",
      "  File \"C:\\Users\\A15-03\\Anaconda3\\lib\\threading.py\", line 916, in _bootstrap_inner\n",
      "    self.run()\n",
      "  File \"<ipython-input-4-948f85271f53>\", line 78, in run\n",
      "    fenetre.after(1, self.run())\n",
      "  File \"<ipython-input-4-948f85271f53>\", line 78, in run\n",
      "    fenetre.after(1, self.run())\n",
      "  File \"<ipython-input-4-948f85271f53>\", line 78, in run\n",
      "    fenetre.after(1, self.run())\n",
      "  [Previous line repeated 690 more times]\n",
      "  File \"<ipython-input-4-948f85271f53>\", line 89, in run\n",
      "    t[i].arret()\n",
      "UnboundLocalError: local variable 'i' referenced before assignment\n",
      "\n"
     ]
    },
    {
     "name": "stdout",
     "output_type": "stream",
     "text": [
      "delete\n"
     ]
    },
    {
     "name": "stderr",
     "output_type": "stream",
     "text": [
      "Exception in thread Thread-53:\n",
      "Traceback (most recent call last):\n",
      "  File \"C:\\Users\\A15-03\\Anaconda3\\lib\\threading.py\", line 916, in _bootstrap_inner\n",
      "    self.run()\n",
      "  File \"<ipython-input-4-948f85271f53>\", line 78, in run\n",
      "    fenetre.after(1, self.run())\n",
      "  File \"<ipython-input-4-948f85271f53>\", line 78, in run\n",
      "    fenetre.after(1, self.run())\n",
      "  File \"<ipython-input-4-948f85271f53>\", line 78, in run\n",
      "    fenetre.after(1, self.run())\n",
      "  [Previous line repeated 988 more times]\n",
      "  File \"<ipython-input-4-948f85271f53>\", line 89, in run\n",
      "    t[i].arret()\n",
      "UnboundLocalError: local variable 'i' referenced before assignment\n",
      "\n"
     ]
    },
    {
     "name": "stdout",
     "output_type": "stream",
     "text": [
      "delete\n",
      "delete\n"
     ]
    },
    {
     "name": "stderr",
     "output_type": "stream",
     "text": [
      "Exception in thread Thread-57:\n",
      "Traceback (most recent call last):\n",
      "  File \"C:\\Users\\A15-03\\Anaconda3\\lib\\threading.py\", line 916, in _bootstrap_inner\n",
      "    self.run()\n",
      "  File \"<ipython-input-4-948f85271f53>\", line 78, in run\n",
      "    fenetre.after(1, self.run())\n",
      "  File \"<ipython-input-4-948f85271f53>\", line 78, in run\n",
      "    fenetre.after(1, self.run())\n",
      "  File \"<ipython-input-4-948f85271f53>\", line 78, in run\n",
      "    fenetre.after(1, self.run())\n",
      "  [Previous line repeated 1281 more times]\n",
      "  File \"<ipython-input-4-948f85271f53>\", line 89, in run\n",
      "    t[i].arret()\n",
      "UnboundLocalError: local variable 'i' referenced before assignment\n",
      "\n",
      "Exception in thread Thread-59:\n",
      "Traceback (most recent call last):\n",
      "  File \"C:\\Users\\A15-03\\Anaconda3\\lib\\threading.py\", line 916, in _bootstrap_inner\n",
      "    self.run()\n",
      "  File \"<ipython-input-4-948f85271f53>\", line 78, in run\n",
      "    fenetre.after(1, self.run())\n",
      "  File \"<ipython-input-4-948f85271f53>\", line 78, in run\n",
      "    fenetre.after(1, self.run())\n",
      "  File \"<ipython-input-4-948f85271f53>\", line 78, in run\n",
      "    fenetre.after(1, self.run())\n",
      "  [Previous line repeated 1348 more times]\n",
      "  File \"<ipython-input-4-948f85271f53>\", line 89, in run\n",
      "    t[i].arret()\n",
      "UnboundLocalError: local variable 'i' referenced before assignment\n",
      "\n"
     ]
    },
    {
     "name": "stdout",
     "output_type": "stream",
     "text": [
      "delete\n"
     ]
    },
    {
     "name": "stderr",
     "output_type": "stream",
     "text": [
      "Exception in thread Thread-55:\n",
      "Traceback (most recent call last):\n",
      "  File \"C:\\Users\\A15-03\\Anaconda3\\lib\\threading.py\", line 916, in _bootstrap_inner\n",
      "    self.run()\n",
      "  File \"<ipython-input-4-948f85271f53>\", line 78, in run\n",
      "    fenetre.after(1, self.run())\n",
      "  File \"<ipython-input-4-948f85271f53>\", line 78, in run\n",
      "    fenetre.after(1, self.run())\n",
      "  File \"<ipython-input-4-948f85271f53>\", line 78, in run\n",
      "    fenetre.after(1, self.run())\n",
      "  [Previous line repeated 1129 more times]\n",
      "  File \"<ipython-input-4-948f85271f53>\", line 89, in run\n",
      "    t[i].arret()\n",
      "UnboundLocalError: local variable 'i' referenced before assignment\n",
      "\n"
     ]
    },
    {
     "name": "stdout",
     "output_type": "stream",
     "text": [
      "delete\n"
     ]
    },
    {
     "name": "stderr",
     "output_type": "stream",
     "text": [
      "Exception in thread Thread-60:\n",
      "Traceback (most recent call last):\n",
      "  File \"C:\\Users\\A15-03\\Anaconda3\\lib\\threading.py\", line 916, in _bootstrap_inner\n",
      "    self.run()\n",
      "  File \"<ipython-input-4-948f85271f53>\", line 78, in run\n",
      "    fenetre.after(1, self.run())\n",
      "  File \"<ipython-input-4-948f85271f53>\", line 78, in run\n",
      "    fenetre.after(1, self.run())\n",
      "  File \"<ipython-input-4-948f85271f53>\", line 78, in run\n",
      "    fenetre.after(1, self.run())\n",
      "  [Previous line repeated 1467 more times]\n",
      "  File \"<ipython-input-4-948f85271f53>\", line 89, in run\n",
      "    t[i].arret()\n",
      "UnboundLocalError: local variable 'i' referenced before assignment\n",
      "\n"
     ]
    },
    {
     "name": "stdout",
     "output_type": "stream",
     "text": [
      "delete\n",
      "delete\n"
     ]
    },
    {
     "name": "stderr",
     "output_type": "stream",
     "text": [
      "Exception in thread Thread-58:\n",
      "Traceback (most recent call last):\n",
      "  File \"C:\\Users\\A15-03\\Anaconda3\\lib\\threading.py\", line 916, in _bootstrap_inner\n",
      "    self.run()\n",
      "  File \"<ipython-input-4-948f85271f53>\", line 78, in run\n",
      "    fenetre.after(1, self.run())\n",
      "  File \"<ipython-input-4-948f85271f53>\", line 78, in run\n",
      "    fenetre.after(1, self.run())\n",
      "  File \"<ipython-input-4-948f85271f53>\", line 78, in run\n",
      "    fenetre.after(1, self.run())\n",
      "  [Previous line repeated 1306 more times]\n",
      "  File \"<ipython-input-4-948f85271f53>\", line 89, in run\n",
      "    t[i].arret()\n",
      "UnboundLocalError: local variable 'i' referenced before assignment\n",
      "\n",
      "Exception in thread Thread-56:\n",
      "Traceback (most recent call last):\n",
      "  File \"C:\\Users\\A15-03\\Anaconda3\\lib\\threading.py\", line 916, in _bootstrap_inner\n",
      "    self.run()\n",
      "  File \"<ipython-input-4-948f85271f53>\", line 78, in run\n",
      "    fenetre.after(1, self.run())\n",
      "  File \"<ipython-input-4-948f85271f53>\", line 78, in run\n",
      "    fenetre.after(1, self.run())\n",
      "  File \"<ipython-input-4-948f85271f53>\", line 78, in run\n",
      "    fenetre.after(1, self.run())\n",
      "  [Previous line repeated 1243 more times]\n",
      "  File \"<ipython-input-4-948f85271f53>\", line 89, in run\n",
      "    t[i].arret()\n",
      "UnboundLocalError: local variable 'i' referenced before assignment\n",
      "\n"
     ]
    },
    {
     "name": "stdout",
     "output_type": "stream",
     "text": [
      "delete\n"
     ]
    },
    {
     "name": "stderr",
     "output_type": "stream",
     "text": [
      "Exception in thread Thread-62:\n",
      "Traceback (most recent call last):\n",
      "  File \"C:\\Users\\A15-03\\Anaconda3\\lib\\threading.py\", line 916, in _bootstrap_inner\n",
      "    self.run()\n",
      "  File \"<ipython-input-4-948f85271f53>\", line 78, in run\n",
      "    fenetre.after(1, self.run())\n",
      "  File \"<ipython-input-4-948f85271f53>\", line 78, in run\n",
      "    fenetre.after(1, self.run())\n",
      "  File \"<ipython-input-4-948f85271f53>\", line 78, in run\n",
      "    fenetre.after(1, self.run())\n",
      "  [Previous line repeated 1591 more times]\n",
      "  File \"<ipython-input-4-948f85271f53>\", line 89, in run\n",
      "    t[i].arret()\n",
      "UnboundLocalError: local variable 'i' referenced before assignment\n",
      "\n"
     ]
    },
    {
     "name": "stdout",
     "output_type": "stream",
     "text": [
      "delete\n"
     ]
    },
    {
     "name": "stderr",
     "output_type": "stream",
     "text": [
      "Exception in thread Thread-61:\n",
      "Traceback (most recent call last):\n",
      "  File \"C:\\Users\\A15-03\\Anaconda3\\lib\\threading.py\", line 916, in _bootstrap_inner\n",
      "    self.run()\n",
      "  File \"<ipython-input-4-948f85271f53>\", line 78, in run\n",
      "    fenetre.after(1, self.run())\n",
      "  File \"<ipython-input-4-948f85271f53>\", line 78, in run\n",
      "    fenetre.after(1, self.run())\n",
      "  File \"<ipython-input-4-948f85271f53>\", line 78, in run\n",
      "    fenetre.after(1, self.run())\n",
      "  [Previous line repeated 1563 more times]\n",
      "  File \"<ipython-input-4-948f85271f53>\", line 89, in run\n",
      "    t[i].arret()\n",
      "UnboundLocalError: local variable 'i' referenced before assignment\n",
      "\n"
     ]
    },
    {
     "name": "stdout",
     "output_type": "stream",
     "text": [
      "delete\n"
     ]
    },
    {
     "name": "stderr",
     "output_type": "stream",
     "text": [
      "Exception in thread Thread-63:\n",
      "Traceback (most recent call last):\n",
      "  File \"C:\\Users\\A15-03\\Anaconda3\\lib\\threading.py\", line 916, in _bootstrap_inner\n",
      "    self.run()\n",
      "  File \"<ipython-input-4-948f85271f53>\", line 78, in run\n",
      "    fenetre.after(1, self.run())\n",
      "  File \"<ipython-input-4-948f85271f53>\", line 78, in run\n",
      "    fenetre.after(1, self.run())\n",
      "  File \"<ipython-input-4-948f85271f53>\", line 78, in run\n",
      "    fenetre.after(1, self.run())\n",
      "  [Previous line repeated 1673 more times]\n",
      "  File \"<ipython-input-4-948f85271f53>\", line 89, in run\n",
      "    t[i].arret()\n",
      "UnboundLocalError: local variable 'i' referenced before assignment\n",
      "\n"
     ]
    },
    {
     "name": "stdout",
     "output_type": "stream",
     "text": [
      "delete\n"
     ]
    },
    {
     "name": "stderr",
     "output_type": "stream",
     "text": [
      "Exception in thread Thread-64:\n",
      "Traceback (most recent call last):\n",
      "  File \"C:\\Users\\A15-03\\Anaconda3\\lib\\threading.py\", line 916, in _bootstrap_inner\n",
      "    self.run()\n",
      "  File \"<ipython-input-4-948f85271f53>\", line 78, in run\n",
      "    fenetre.after(1, self.run())\n",
      "  File \"<ipython-input-4-948f85271f53>\", line 78, in run\n",
      "    fenetre.after(1, self.run())\n",
      "  File \"<ipython-input-4-948f85271f53>\", line 78, in run\n",
      "    fenetre.after(1, self.run())\n",
      "  [Previous line repeated 1751 more times]\n",
      "  File \"<ipython-input-4-948f85271f53>\", line 89, in run\n",
      "    t[i].arret()\n",
      "UnboundLocalError: local variable 'i' referenced before assignment\n",
      "\n"
     ]
    },
    {
     "name": "stdout",
     "output_type": "stream",
     "text": [
      "delete\n"
     ]
    },
    {
     "name": "stderr",
     "output_type": "stream",
     "text": [
      "Exception in thread Thread-66:\n",
      "Traceback (most recent call last):\n",
      "  File \"C:\\Users\\A15-03\\Anaconda3\\lib\\threading.py\", line 916, in _bootstrap_inner\n",
      "    self.run()\n",
      "  File \"<ipython-input-4-948f85271f53>\", line 78, in run\n",
      "    fenetre.after(1, self.run())\n",
      "  File \"<ipython-input-4-948f85271f53>\", line 78, in run\n",
      "    fenetre.after(1, self.run())\n",
      "  File \"<ipython-input-4-948f85271f53>\", line 78, in run\n",
      "    fenetre.after(1, self.run())\n",
      "  [Previous line repeated 1935 more times]\n",
      "  File \"<ipython-input-4-948f85271f53>\", line 89, in run\n",
      "    t[i].arret()\n",
      "UnboundLocalError: local variable 'i' referenced before assignment\n",
      "\n"
     ]
    },
    {
     "name": "stdout",
     "output_type": "stream",
     "text": [
      "delete\n"
     ]
    },
    {
     "name": "stderr",
     "output_type": "stream",
     "text": [
      "Exception in thread Thread-67:\n",
      "Traceback (most recent call last):\n",
      "  File \"C:\\Users\\A15-03\\Anaconda3\\lib\\threading.py\", line 916, in _bootstrap_inner\n",
      "    self.run()\n",
      "  File \"<ipython-input-4-948f85271f53>\", line 78, in run\n",
      "    fenetre.after(1, self.run())\n",
      "  File \"<ipython-input-4-948f85271f53>\", line 78, in run\n",
      "    fenetre.after(1, self.run())\n",
      "  File \"<ipython-input-4-948f85271f53>\", line 78, in run\n",
      "    fenetre.after(1, self.run())\n",
      "  [Previous line repeated 2061 more times]\n",
      "  File \"<ipython-input-4-948f85271f53>\", line 89, in run\n",
      "    t[i].arret()\n",
      "UnboundLocalError: local variable 'i' referenced before assignment\n",
      "\n"
     ]
    },
    {
     "name": "stdout",
     "output_type": "stream",
     "text": [
      "delete\n"
     ]
    },
    {
     "name": "stderr",
     "output_type": "stream",
     "text": [
      "Exception in thread Thread-65:\n",
      "Traceback (most recent call last):\n",
      "  File \"C:\\Users\\A15-03\\Anaconda3\\lib\\threading.py\", line 916, in _bootstrap_inner\n",
      "    self.run()\n",
      "  File \"<ipython-input-4-948f85271f53>\", line 78, in run\n",
      "    fenetre.after(1, self.run())\n",
      "  File \"<ipython-input-4-948f85271f53>\", line 78, in run\n",
      "    fenetre.after(1, self.run())\n",
      "  File \"<ipython-input-4-948f85271f53>\", line 78, in run\n",
      "    fenetre.after(1, self.run())\n",
      "  [Previous line repeated 1904 more times]\n",
      "  File \"<ipython-input-4-948f85271f53>\", line 89, in run\n",
      "    t[i].arret()\n",
      "UnboundLocalError: local variable 'i' referenced before assignment\n",
      "\n"
     ]
    },
    {
     "name": "stdout",
     "output_type": "stream",
     "text": [
      "delete\n"
     ]
    },
    {
     "name": "stderr",
     "output_type": "stream",
     "text": [
      "Exception in thread Thread-69:\n",
      "Traceback (most recent call last):\n",
      "  File \"C:\\Users\\A15-03\\Anaconda3\\lib\\threading.py\", line 916, in _bootstrap_inner\n",
      "    self.run()\n",
      "  File \"<ipython-input-4-948f85271f53>\", line 78, in run\n",
      "    fenetre.after(1, self.run())\n",
      "  File \"<ipython-input-4-948f85271f53>\", line 78, in run\n",
      "    fenetre.after(1, self.run())\n",
      "  File \"<ipython-input-4-948f85271f53>\", line 78, in run\n",
      "    fenetre.after(1, self.run())\n",
      "  [Previous line repeated 2206 more times]\n",
      "  File \"<ipython-input-4-948f85271f53>\", line 89, in run\n",
      "    t[i].arret()\n",
      "UnboundLocalError: local variable 'i' referenced before assignment\n",
      "\n"
     ]
    },
    {
     "name": "stdout",
     "output_type": "stream",
     "text": [
      "delete\n"
     ]
    },
    {
     "name": "stderr",
     "output_type": "stream",
     "text": [
      "Exception in thread Thread-70:\n",
      "Traceback (most recent call last):\n",
      "  File \"C:\\Users\\A15-03\\Anaconda3\\lib\\threading.py\", line 916, in _bootstrap_inner\n",
      "    self.run()\n",
      "  File \"<ipython-input-4-948f85271f53>\", line 78, in run\n",
      "    fenetre.after(1, self.run())\n",
      "  File \"<ipython-input-4-948f85271f53>\", line 78, in run\n",
      "    fenetre.after(1, self.run())\n",
      "  File \"<ipython-input-4-948f85271f53>\", line 78, in run\n",
      "    fenetre.after(1, self.run())\n",
      "  [Previous line repeated 2347 more times]\n",
      "  File \"<ipython-input-4-948f85271f53>\", line 89, in run\n",
      "    t[i].arret()\n",
      "UnboundLocalError: local variable 'i' referenced before assignment\n",
      "\n"
     ]
    },
    {
     "name": "stdout",
     "output_type": "stream",
     "text": [
      "delete\n"
     ]
    },
    {
     "name": "stderr",
     "output_type": "stream",
     "text": [
      "Exception in thread Thread-71:\n",
      "Traceback (most recent call last):\n",
      "  File \"C:\\Users\\A15-03\\Anaconda3\\lib\\threading.py\", line 916, in _bootstrap_inner\n",
      "    self.run()\n",
      "  File \"<ipython-input-4-948f85271f53>\", line 78, in run\n",
      "    fenetre.after(1, self.run())\n",
      "  File \"<ipython-input-4-948f85271f53>\", line 78, in run\n",
      "    fenetre.after(1, self.run())\n",
      "  File \"<ipython-input-4-948f85271f53>\", line 78, in run\n",
      "    fenetre.after(1, self.run())\n",
      "  [Previous line repeated 2467 more times]\n",
      "  File \"<ipython-input-4-948f85271f53>\", line 89, in run\n",
      "    t[i].arret()\n",
      "UnboundLocalError: local variable 'i' referenced before assignment\n",
      "\n"
     ]
    },
    {
     "name": "stdout",
     "output_type": "stream",
     "text": [
      "delete\n"
     ]
    },
    {
     "name": "stderr",
     "output_type": "stream",
     "text": [
      "Exception in thread Thread-68:\n",
      "Traceback (most recent call last):\n",
      "  File \"C:\\Users\\A15-03\\Anaconda3\\lib\\threading.py\", line 916, in _bootstrap_inner\n",
      "    self.run()\n",
      "  File \"<ipython-input-4-948f85271f53>\", line 78, in run\n",
      "    fenetre.after(1, self.run())\n",
      "  File \"<ipython-input-4-948f85271f53>\", line 78, in run\n",
      "    fenetre.after(1, self.run())\n",
      "  File \"<ipython-input-4-948f85271f53>\", line 78, in run\n",
      "    fenetre.after(1, self.run())\n",
      "  [Previous line repeated 2159 more times]\n",
      "  File \"<ipython-input-4-948f85271f53>\", line 89, in run\n",
      "    t[i].arret()\n",
      "UnboundLocalError: local variable 'i' referenced before assignment\n",
      "\n"
     ]
    },
    {
     "name": "stdout",
     "output_type": "stream",
     "text": [
      "delete\n"
     ]
    },
    {
     "name": "stderr",
     "output_type": "stream",
     "text": [
      "Exception in thread Thread-76:\n",
      "Traceback (most recent call last):\n",
      "  File \"C:\\Users\\A15-03\\Anaconda3\\lib\\threading.py\", line 916, in _bootstrap_inner\n",
      "    self.run()\n",
      "  File \"<ipython-input-4-948f85271f53>\", line 78, in run\n",
      "    fenetre.after(1, self.run())\n",
      "  File \"<ipython-input-4-948f85271f53>\", line 78, in run\n",
      "    fenetre.after(1, self.run())\n",
      "  File \"<ipython-input-4-948f85271f53>\", line 78, in run\n",
      "    fenetre.after(1, self.run())\n",
      "  [Previous line repeated 2684 more times]\n",
      "  File \"<ipython-input-4-948f85271f53>\", line 89, in run\n",
      "    t[i].arret()\n",
      "UnboundLocalError: local variable 'i' referenced before assignment\n",
      "\n"
     ]
    },
    {
     "name": "stdout",
     "output_type": "stream",
     "text": [
      "delete\n"
     ]
    },
    {
     "name": "stderr",
     "output_type": "stream",
     "text": [
      "Exception in thread Thread-72:\n",
      "Traceback (most recent call last):\n",
      "  File \"C:\\Users\\A15-03\\Anaconda3\\lib\\threading.py\", line 916, in _bootstrap_inner\n",
      "    self.run()\n",
      "  File \"<ipython-input-4-948f85271f53>\", line 78, in run\n",
      "    fenetre.after(1, self.run())\n",
      "  File \"<ipython-input-4-948f85271f53>\", line 78, in run\n",
      "    fenetre.after(1, self.run())\n",
      "  File \"<ipython-input-4-948f85271f53>\", line 78, in run\n",
      "    fenetre.after(1, self.run())\n",
      "  [Previous line repeated 2531 more times]\n",
      "  File \"<ipython-input-4-948f85271f53>\", line 89, in run\n",
      "    t[i].arret()\n",
      "UnboundLocalError: local variable 'i' referenced before assignment\n",
      "\n"
     ]
    },
    {
     "name": "stdout",
     "output_type": "stream",
     "text": [
      "delete\n",
      "delete\n",
      "delete\n"
     ]
    },
    {
     "name": "stderr",
     "output_type": "stream",
     "text": [
      "Exception in thread Thread-73:\n",
      "Traceback (most recent call last):\n",
      "  File \"C:\\Users\\A15-03\\Anaconda3\\lib\\threading.py\", line 916, in _bootstrap_inner\n",
      "    self.run()\n",
      "  File \"<ipython-input-4-948f85271f53>\", line 78, in run\n",
      "    fenetre.after(1, self.run())\n",
      "  File \"<ipython-input-4-948f85271f53>\", line 78, in run\n",
      "    fenetre.after(1, self.run())\n",
      "  File \"<ipython-input-4-948f85271f53>\", line 78, in run\n",
      "    fenetre.after(1, self.run())\n",
      "  [Previous line repeated 2564 more times]\n",
      "  File \"<ipython-input-4-948f85271f53>\", line 89, in run\n",
      "    t[i].arret()\n",
      "UnboundLocalError: local variable 'i' referenced before assignment\n",
      "\n",
      "Exception in thread Thread-77:\n",
      "Traceback (most recent call last):\n",
      "  File \"C:\\Users\\A15-03\\Anaconda3\\lib\\threading.py\", line 916, in _bootstrap_inner\n",
      "    self.run()\n",
      "  File \"<ipython-input-4-948f85271f53>\", line 78, in run\n",
      "    fenetre.after(1, self.run())\n",
      "  File \"<ipython-input-4-948f85271f53>\", line 78, in run\n",
      "    fenetre.after(1, self.run())\n",
      "  File \"<ipython-input-4-948f85271f53>\", line 78, in run\n",
      "    fenetre.after(1, self.run())\n",
      "  [Previous line repeated 2752 more times]\n",
      "  File \"<ipython-input-4-948f85271f53>\", line 89, in run\n",
      "    t[i].arret()\n",
      "UnboundLocalError: local variable 'i' referenced before assignment\n",
      "\n",
      "Exception in thread Thread-75:\n",
      "Traceback (most recent call last):\n",
      "  File \"C:\\Users\\A15-03\\Anaconda3\\lib\\threading.py\", line 916, in _bootstrap_inner\n",
      "    self.run()\n",
      "  File \"<ipython-input-4-948f85271f53>\", line 78, in run\n",
      "    fenetre.after(1, self.run())\n",
      "  File \"<ipython-input-4-948f85271f53>\", line 78, in run\n",
      "    fenetre.after(1, self.run())\n",
      "  File \"<ipython-input-4-948f85271f53>\", line 78, in run\n",
      "    fenetre.after(1, self.run())\n",
      "  [Previous line repeated 2637 more times]\n",
      "  File \"<ipython-input-4-948f85271f53>\", line 89, in run\n",
      "    t[i].arret()\n",
      "UnboundLocalError: local variable 'i' referenced before assignment\n",
      "\n"
     ]
    },
    {
     "name": "stdout",
     "output_type": "stream",
     "text": [
      "delete\n"
     ]
    },
    {
     "name": "stderr",
     "output_type": "stream",
     "text": [
      "Exception in thread Thread-74:\n",
      "Traceback (most recent call last):\n",
      "  File \"C:\\Users\\A15-03\\Anaconda3\\lib\\threading.py\", line 916, in _bootstrap_inner\n",
      "    self.run()\n",
      "  File \"<ipython-input-4-948f85271f53>\", line 78, in run\n",
      "    fenetre.after(1, self.run())\n",
      "  File \"<ipython-input-4-948f85271f53>\", line 78, in run\n",
      "    fenetre.after(1, self.run())\n",
      "  File \"<ipython-input-4-948f85271f53>\", line 78, in run\n",
      "    fenetre.after(1, self.run())\n",
      "  [Previous line repeated 2608 more times]\n",
      "  File \"<ipython-input-4-948f85271f53>\", line 89, in run\n",
      "    t[i].arret()\n",
      "UnboundLocalError: local variable 'i' referenced before assignment\n",
      "\n"
     ]
    }
   ],
   "source": [
    "#all clients arrive at the same time \n",
    "\n",
    "fenetre = tk.Tk()\n",
    "\n",
    "canvas = tk.Canvas(fenetre, width=900, height=500, background='yellow')\n",
    "rect = canvas.create_rectangle(100, 100, 150, 400,fill='red')\n",
    "line = canvas.create_line(300,235,300,285, fill='red')\n",
    "c = []\n",
    "coords = []\n",
    "t = []\n",
    "wait = []\n",
    "coord_rect = (100,100,150,400)\n",
    "coord_line = (300,235,300,285)\n",
    "timeInBank = 8.0\n",
    "arrInt = 5.0\n",
    "nb_counter = 6\n",
    "counter = [True]*nb_counter\n",
    "dispo = []\n",
    "for k in range(nb_counter): \n",
    "    dispo.append(canvas.create_rectangle(130,250 + 150*(2*k - (nb_counter - 1))/nb_counter,150,270 + 150*(2*k - (nb_counter - 1))/nb_counter,fill='green'))\n",
    "\n",
    "def modif_ind(tab, i): \n",
    "    for j in range(i, len(tab)):\n",
    "        tab[j].i = tab[j].i - 1 \n",
    "\n",
    "class myThread(threading.Thread):\n",
    "\n",
    "    def __init__(self, i):\n",
    "        threading.Thread.__init__(self)\n",
    "        self.i = i\n",
    "        self.going = False\n",
    "        self.comptoir = -1\n",
    "        self.deplacement = 0\n",
    "        \n",
    "    def run(self):\n",
    "        self.running = True\n",
    "        global wait\n",
    "        global counter_dispo \n",
    "        global counter_avail\n",
    "        while(self.running): \n",
    "            if(coords[self.i][0] > coord_rect[2] ):\n",
    "                if(coords[self.i][0] > coord_line[0]):\n",
    "                    if(self.i==0):\n",
    "                        coords[self.i] = (coords[self.i][0] - 1, coords[self.i][1])\n",
    "                        canvas.coords(c[self.i], coords[self.i][0], coords[self.i][1], coords[self.i][0]+20, coords[self.i][1]+20)\n",
    "                    if(self.i>0 and coords[self.i][0] > coords[self.i-1][0]+25 ):\n",
    "                        coords[self.i] = (coords[self.i][0] - 1, coords[self.i][1])\n",
    "                        canvas.coords(c[self.i], coords[self.i][0], coords[self.i][1], coords[self.i][0]+20, coords[self.i][1]+20)\n",
    "                    else: \n",
    "                        wait[self.i] = wait[self.i] + 1 \n",
    "                        if(wait[self.i] > 50):\n",
    "                            if(wait[self.i] > 400):\n",
    "                                canvas.itemconfigure(c[self.i], fill='purple')\n",
    "                            else:\n",
    "                                canvas.itemconfigure(c[self.i], fill='violet')\n",
    "                else:\n",
    "                    i = 0  \n",
    "                    if(self.comptoir == -1):\n",
    "                        while(i != len(counter) and not counter[i]):\n",
    "                            i = i + 1 \n",
    "                        if(i != len(counter) and counter[i]): \n",
    "                            self.going = True \n",
    "                            self.comptoir = i\n",
    "                            self.deplacement = (2*i - (nb_counter - 1))/nb_counter\n",
    "                            counter[i] = False\n",
    "                    if(self.going):\n",
    "                        coords[self.i] = (coords[self.i][0] - 1, coords[self.i][1] + self.deplacement)\n",
    "                        canvas.coords(c[self.i], coords[self.i][0], coords[self.i][1], coords[self.i][0]+20, coords[self.i][1]+20)\n",
    "                        fenetre.update()\n",
    "                    else: \n",
    "                        wait[self.i] = wait[self.i] + 1 \n",
    "                        if(wait[self.i] > 50):\n",
    "                            if(wait[self.i] > 400):\n",
    "                                canvas.itemconfigure(c[self.i], fill='purple')\n",
    "                            else:\n",
    "                                canvas.itemconfigure(c[self.i], fill='violet')\n",
    "                time.sleep(0.001)\n",
    "                fenetre.after(1, self.run())\n",
    "                \n",
    "            if(coords[self.i][0] <= coord_rect[2]):\n",
    "                canvas.itemconfigure(dispo[self.comptoir], fill='orange')\n",
    "                counterTime = random.randint(1,timeInBank)\n",
    "                time.sleep(counterTime)\n",
    "                canvas.delete(fenetre, c[self.i])\n",
    "                print(\"delete\")\n",
    "                coords[self.i] = (0,0)\n",
    "                counter[self.comptoir] = True \n",
    "                canvas.itemconfigure(dispo[self.comptoir], fill='green')\n",
    "                t[i].arret()\n",
    "                        \n",
    "                \n",
    "    def arret(self): \n",
    "        self.running = False \n",
    "        \n",
    "def source():\n",
    "    time.sleep(2.0)\n",
    "    for i in range(0,40): #fonctionne pour 3 pas pour 4 ou 5 \n",
    "        c.append(canvas.create_rectangle(350+30*i,250,270+30*i,270,fill='blue'))\n",
    "        fenetre.update()\n",
    "        \n",
    "        coords.append((350+30*i, 250))    \n",
    "        wait.append(0)\n",
    "        t.append(myThread(i))\n",
    "        t[i].start()\n",
    "        \n",
    "        \n",
    "        \n",
    "random.seed()  \n",
    "\n",
    "canvas.pack()\n",
    "draw = threading.Thread(target=source)\n",
    "draw.start()\n",
    "\n",
    "\n",
    "fenetre.mainloop()"
   ]
  },
  {
   "cell_type": "code",
   "execution_count": null,
   "metadata": {},
   "outputs": [],
   "source": [
    "#clients arrive at a random time  \n",
    "\n",
    "fenetre = tk.Tk()\n",
    "\n",
    "canvas = tk.Canvas(fenetre, width=800, height=500, background='yellow')\n",
    "rect = canvas.create_rectangle(100, 100, 150, 400,fill='red')\n",
    "line = canvas.create_line(300,235,300,285, fill='red')\n",
    "c = []\n",
    "coords = []\n",
    "t = []\n",
    "wait = []\n",
    "coord_rect = (100,100,150,400)\n",
    "coord_line = (300,235,300,285)\n",
    "timeInBank = 10.0\n",
    "arrInt = 3.0\n",
    "nb_counter = 4\n",
    "counter = [True]*nb_counter\n",
    "dispo = []\n",
    "for k in range(nb_counter): \n",
    "    dispo.append(canvas.create_rectangle(130,250 + 150*(2*k - (nb_counter - 1))/nb_counter,150,270 + 150*(2*k - (nb_counter - 1))/nb_counter,fill='green'))\n",
    "def modif_ind(tab, i): \n",
    "    for j in range(i, len(tab)):\n",
    "        tab[j].i = tab[j].i - 1 \n",
    "\n",
    "class myThread(threading.Thread):\n",
    "\n",
    "    def __init__(self, i):\n",
    "        threading.Thread.__init__(self)\n",
    "        self.i = i\n",
    "        self.going = False\n",
    "        self.comptoir = -1\n",
    "        self.deplacement = 0\n",
    "        \n",
    "    def run(self):\n",
    "        self.running = True\n",
    "        global wait\n",
    "        global counter_dispo \n",
    "        global counter_avail\n",
    "        while(self.running): \n",
    "            if(coords[self.i][0] > coord_rect[2] ):\n",
    "                if(coords[self.i][0] > coord_line[0]):\n",
    "                    if(self.i==0):\n",
    "                        coords[self.i] = (coords[self.i][0] - 1, coords[self.i][1])\n",
    "                        canvas.coords(c[self.i], coords[self.i][0], coords[self.i][1], coords[self.i][0]+20, coords[self.i][1]+20)\n",
    "                    if(self.i>0 and coords[self.i][0] > coords[self.i-1][0]+25 ):\n",
    "                        coords[self.i] = (coords[self.i][0] - 1, coords[self.i][1])\n",
    "                        canvas.coords(c[self.i], coords[self.i][0], coords[self.i][1], coords[self.i][0]+20, coords[self.i][1]+20)\n",
    "                    else: \n",
    "                        wait[self.i] = wait[self.i] + 1 \n",
    "                        if(wait[self.i] > 50):\n",
    "                            if(wait[self.i] > 400):\n",
    "                                canvas.itemconfigure(c[self.i], fill='purple')\n",
    "                            else:\n",
    "                                canvas.itemconfigure(c[self.i], fill='violet')\n",
    "                else:\n",
    "                    i = 0  \n",
    "                    if(self.comptoir == -1):\n",
    "                        while(i != len(counter) and not counter[i]):\n",
    "                            i = i + 1 \n",
    "                        if(i != len(counter) and counter[i]): \n",
    "                            self.going = True \n",
    "                            self.comptoir = i\n",
    "                            self.deplacement = (2*i - (nb_counter - 1))/nb_counter\n",
    "                            counter[i] = False\n",
    "                    if(self.going):\n",
    "                        coords[self.i] = (coords[self.i][0] - 1, coords[self.i][1] + self.deplacement)\n",
    "                        canvas.coords(c[self.i], coords[self.i][0], coords[self.i][1], coords[self.i][0]+20, coords[self.i][1]+20)\n",
    "                        fenetre.update()\n",
    "                    else: \n",
    "                        wait[self.i] = wait[self.i] + 1 \n",
    "                        if(wait[self.i] > 50):\n",
    "                            if(wait[self.i] > 400):\n",
    "                                canvas.itemconfigure(c[self.i], fill='purple')\n",
    "                            else:\n",
    "                                canvas.itemconfigure(c[self.i], fill='violet')\n",
    "                time.sleep(0.001)\n",
    "                fenetre.after(1, self.run())\n",
    "                \n",
    "            if(coords[self.i][0] <= coord_rect[2]):\n",
    "                canvas.itemconfigure(dispo[self.comptoir], fill='orange')\n",
    "                counterTime = random.randint(1,timeInBank)\n",
    "                time.sleep(counterTime)\n",
    "                canvas.delete(fenetre, c[self.i])\n",
    "                print(\"delete\")\n",
    "                coords[self.i] = (0,0)\n",
    "                counter[self.comptoir] = True \n",
    "                canvas.itemconfigure(dispo[self.comptoir], fill='green')\n",
    "                t[i].arret()\n",
    "                \n",
    "                 \n",
    "                \n",
    "    def arret(self): \n",
    "        self.running = False \n",
    "        \n",
    "        \n",
    "def source():\n",
    "    time.sleep(2.0)\n",
    "    for i in range(0,30): #fonctionne pour 3 pas pour 4 ou 5 \n",
    "        if(i==0):\n",
    "            c.append(canvas.create_rectangle(350,250,370,270,fill='blue'))\n",
    "            coords.append((350, 250))\n",
    "        elif(coords[len(coords) - 1][0] < 325):\n",
    "            c.append(canvas.create_rectangle(350,250,370,270,fill='blue'))\n",
    "            coords.append((350, 250))\n",
    "        else: \n",
    "            c.append(canvas.create_rectangle(coords[len(coords) - 1][0] + 30,250,270,270,fill='blue'))\n",
    "            coords.append((coords[len(coords) - 1][0] + 30, 250))\n",
    "        fenetre.update()\n",
    "            \n",
    "        wait.append(0)\n",
    "        t.append(myThread(i))\n",
    "        t[i].start()\n",
    "        TBA = random.randint(1, arrInt)\n",
    "        time.sleep(TBA)\n",
    "        \n",
    "        \n",
    "        \n",
    "random.seed()  \n",
    "\n",
    "canvas.pack()\n",
    "draw = threading.Thread(target=source)\n",
    "draw.start()\n",
    "\n",
    "\n",
    "fenetre.mainloop()"
   ]
  },
  {
   "cell_type": "code",
   "execution_count": 5,
   "metadata": {},
   "outputs": [
    {
     "name": "stdout",
     "output_type": "stream",
     "text": [
      "delete\n"
     ]
    },
    {
     "name": "stderr",
     "output_type": "stream",
     "text": [
      "Exception in thread Thread-81:\n",
      "Traceback (most recent call last):\n",
      "  File \"C:\\Users\\A15-03\\Anaconda3\\lib\\threading.py\", line 916, in _bootstrap_inner\n",
      "    self.run()\n",
      "  File \"<ipython-input-5-f8ce188f61d4>\", line 87, in run\n",
      "    fenetre.after(1, self.run())\n",
      "  File \"<ipython-input-5-f8ce188f61d4>\", line 87, in run\n",
      "    fenetre.after(1, self.run())\n",
      "  File \"<ipython-input-5-f8ce188f61d4>\", line 87, in run\n",
      "    fenetre.after(1, self.run())\n",
      "  [Previous line repeated 196 more times]\n",
      "  File \"<ipython-input-5-f8ce188f61d4>\", line 90, in run\n",
      "    self.traitement()\n",
      "  File \"<ipython-input-5-f8ce188f61d4>\", line 124, in traitement\n",
      "    t[i].arret()\n",
      "NameError: name 'i' is not defined\n",
      "\n"
     ]
    },
    {
     "name": "stdout",
     "output_type": "stream",
     "text": [
      "delete\n"
     ]
    },
    {
     "name": "stderr",
     "output_type": "stream",
     "text": [
      "Exception in thread Thread-80:\n",
      "Traceback (most recent call last):\n",
      "  File \"C:\\Users\\A15-03\\Anaconda3\\lib\\threading.py\", line 916, in _bootstrap_inner\n",
      "    self.run()\n",
      "  File \"<ipython-input-5-f8ce188f61d4>\", line 87, in run\n",
      "    fenetre.after(1, self.run())\n",
      "  File \"<ipython-input-5-f8ce188f61d4>\", line 87, in run\n",
      "    fenetre.after(1, self.run())\n",
      "  File \"<ipython-input-5-f8ce188f61d4>\", line 87, in run\n",
      "    fenetre.after(1, self.run())\n",
      "  [Previous line repeated 196 more times]\n",
      "  File \"<ipython-input-5-f8ce188f61d4>\", line 90, in run\n",
      "    self.traitement()\n",
      "  File \"<ipython-input-5-f8ce188f61d4>\", line 124, in traitement\n",
      "    t[i].arret()\n",
      "NameError: name 'i' is not defined\n",
      "\n"
     ]
    },
    {
     "name": "stdout",
     "output_type": "stream",
     "text": [
      "delete\n",
      "delete\n"
     ]
    },
    {
     "name": "stderr",
     "output_type": "stream",
     "text": [
      "Exception in thread Thread-79:\n",
      "Traceback (most recent call last):\n",
      "  File \"C:\\Users\\A15-03\\Anaconda3\\lib\\threading.py\", line 916, in _bootstrap_inner\n",
      "    self.run()\n",
      "  File \"<ipython-input-5-f8ce188f61d4>\", line 87, in run\n",
      "    fenetre.after(1, self.run())\n",
      "  File \"<ipython-input-5-f8ce188f61d4>\", line 87, in run\n",
      "    fenetre.after(1, self.run())\n",
      "  File \"<ipython-input-5-f8ce188f61d4>\", line 87, in run\n",
      "    fenetre.after(1, self.run())\n",
      "  [Previous line repeated 196 more times]\n",
      "  File \"<ipython-input-5-f8ce188f61d4>\", line 90, in run\n",
      "    self.traitement()\n",
      "  File \"<ipython-input-5-f8ce188f61d4>\", line 124, in traitement\n",
      "    t[i].arret()\n",
      "NameError: name 'i' is not defined\n",
      "\n",
      "Exception in thread Thread-82:\n",
      "Traceback (most recent call last):\n",
      "  File \"C:\\Users\\A15-03\\Anaconda3\\lib\\threading.py\", line 916, in _bootstrap_inner\n",
      "    self.run()\n",
      "  File \"<ipython-input-5-f8ce188f61d4>\", line 87, in run\n",
      "    fenetre.after(1, self.run())\n",
      "  File \"<ipython-input-5-f8ce188f61d4>\", line 87, in run\n",
      "    fenetre.after(1, self.run())\n",
      "  File \"<ipython-input-5-f8ce188f61d4>\", line 87, in run\n",
      "    fenetre.after(1, self.run())\n",
      "  [Previous line repeated 196 more times]\n",
      "  File \"<ipython-input-5-f8ce188f61d4>\", line 90, in run\n",
      "    self.traitement()\n",
      "  File \"<ipython-input-5-f8ce188f61d4>\", line 124, in traitement\n",
      "    t[i].arret()\n",
      "NameError: name 'i' is not defined\n",
      "\n"
     ]
    },
    {
     "name": "stdout",
     "output_type": "stream",
     "text": [
      "delete\n"
     ]
    },
    {
     "name": "stderr",
     "output_type": "stream",
     "text": [
      "Exception in thread Thread-83:\n",
      "Traceback (most recent call last):\n",
      "  File \"C:\\Users\\A15-03\\Anaconda3\\lib\\threading.py\", line 916, in _bootstrap_inner\n",
      "    self.run()\n",
      "  File \"<ipython-input-5-f8ce188f61d4>\", line 87, in run\n",
      "    fenetre.after(1, self.run())\n",
      "  File \"<ipython-input-5-f8ce188f61d4>\", line 87, in run\n",
      "    fenetre.after(1, self.run())\n",
      "  File \"<ipython-input-5-f8ce188f61d4>\", line 87, in run\n",
      "    fenetre.after(1, self.run())\n",
      "  [Previous line repeated 539 more times]\n",
      "  File \"<ipython-input-5-f8ce188f61d4>\", line 90, in run\n",
      "    self.traitement()\n",
      "  File \"<ipython-input-5-f8ce188f61d4>\", line 124, in traitement\n",
      "    t[i].arret()\n",
      "NameError: name 'i' is not defined\n",
      "\n"
     ]
    },
    {
     "name": "stdout",
     "output_type": "stream",
     "text": [
      "delete\n"
     ]
    },
    {
     "name": "stderr",
     "output_type": "stream",
     "text": [
      "Exception in thread Thread-86:\n",
      "Traceback (most recent call last):\n",
      "  File \"C:\\Users\\A15-03\\Anaconda3\\lib\\threading.py\", line 916, in _bootstrap_inner\n",
      "    self.run()\n",
      "  File \"<ipython-input-5-f8ce188f61d4>\", line 87, in run\n",
      "    fenetre.after(1, self.run())\n",
      "  File \"<ipython-input-5-f8ce188f61d4>\", line 87, in run\n",
      "    fenetre.after(1, self.run())\n",
      "  File \"<ipython-input-5-f8ce188f61d4>\", line 87, in run\n",
      "    fenetre.after(1, self.run())\n",
      "  [Previous line repeated 503 more times]\n",
      "  File \"<ipython-input-5-f8ce188f61d4>\", line 90, in run\n",
      "    self.traitement()\n",
      "  File \"<ipython-input-5-f8ce188f61d4>\", line 124, in traitement\n",
      "    t[i].arret()\n",
      "NameError: name 'i' is not defined\n",
      "\n"
     ]
    },
    {
     "name": "stdout",
     "output_type": "stream",
     "text": [
      "delete\n"
     ]
    },
    {
     "name": "stderr",
     "output_type": "stream",
     "text": [
      "Exception in thread Thread-85:\n",
      "Traceback (most recent call last):\n",
      "  File \"C:\\Users\\A15-03\\Anaconda3\\lib\\threading.py\", line 916, in _bootstrap_inner\n",
      "    self.run()\n",
      "  File \"<ipython-input-5-f8ce188f61d4>\", line 87, in run\n",
      "    fenetre.after(1, self.run())\n",
      "  File \"<ipython-input-5-f8ce188f61d4>\", line 87, in run\n",
      "    fenetre.after(1, self.run())\n",
      "  File \"<ipython-input-5-f8ce188f61d4>\", line 87, in run\n",
      "    fenetre.after(1, self.run())\n",
      "  [Previous line repeated 668 more times]\n",
      "  File \"<ipython-input-5-f8ce188f61d4>\", line 90, in run\n",
      "    self.traitement()\n",
      "  File \"<ipython-input-5-f8ce188f61d4>\", line 124, in traitement\n",
      "    t[i].arret()\n",
      "NameError: name 'i' is not defined\n",
      "\n"
     ]
    },
    {
     "name": "stdout",
     "output_type": "stream",
     "text": [
      "delete\n"
     ]
    },
    {
     "name": "stderr",
     "output_type": "stream",
     "text": [
      "Exception in thread Thread-87:\n",
      "Traceback (most recent call last):\n",
      "  File \"C:\\Users\\A15-03\\Anaconda3\\lib\\threading.py\", line 916, in _bootstrap_inner\n",
      "    self.run()\n",
      "  File \"<ipython-input-5-f8ce188f61d4>\", line 87, in run\n",
      "    fenetre.after(1, self.run())\n",
      "  File \"<ipython-input-5-f8ce188f61d4>\", line 87, in run\n",
      "    fenetre.after(1, self.run())\n",
      "  File \"<ipython-input-5-f8ce188f61d4>\", line 87, in run\n",
      "    fenetre.after(1, self.run())\n",
      "  [Previous line repeated 751 more times]\n",
      "  File \"<ipython-input-5-f8ce188f61d4>\", line 90, in run\n",
      "    self.traitement()\n",
      "  File \"<ipython-input-5-f8ce188f61d4>\", line 124, in traitement\n",
      "    t[i].arret()\n",
      "NameError: name 'i' is not defined\n",
      "\n"
     ]
    },
    {
     "name": "stdout",
     "output_type": "stream",
     "text": [
      "delete\n"
     ]
    },
    {
     "name": "stderr",
     "output_type": "stream",
     "text": [
      "Exception in thread Thread-84:\n",
      "Traceback (most recent call last):\n",
      "  File \"C:\\Users\\A15-03\\Anaconda3\\lib\\threading.py\", line 916, in _bootstrap_inner\n",
      "    self.run()\n",
      "  File \"<ipython-input-5-f8ce188f61d4>\", line 87, in run\n",
      "    fenetre.after(1, self.run())\n",
      "  File \"<ipython-input-5-f8ce188f61d4>\", line 87, in run\n",
      "    fenetre.after(1, self.run())\n",
      "  File \"<ipython-input-5-f8ce188f61d4>\", line 87, in run\n",
      "    fenetre.after(1, self.run())\n",
      "  [Previous line repeated 604 more times]\n",
      "  File \"<ipython-input-5-f8ce188f61d4>\", line 90, in run\n",
      "    self.traitement()\n",
      "  File \"<ipython-input-5-f8ce188f61d4>\", line 124, in traitement\n",
      "    t[i].arret()\n",
      "NameError: name 'i' is not defined\n",
      "\n"
     ]
    },
    {
     "name": "stdout",
     "output_type": "stream",
     "text": [
      "delete\n"
     ]
    },
    {
     "name": "stderr",
     "output_type": "stream",
     "text": [
      "Exception in thread Thread-90:\n",
      "Traceback (most recent call last):\n",
      "  File \"C:\\Users\\A15-03\\Anaconda3\\lib\\threading.py\", line 916, in _bootstrap_inner\n",
      "    self.run()\n",
      "  File \"<ipython-input-5-f8ce188f61d4>\", line 87, in run\n",
      "    fenetre.after(1, self.run())\n",
      "  File \"<ipython-input-5-f8ce188f61d4>\", line 87, in run\n",
      "    fenetre.after(1, self.run())\n",
      "  File \"<ipython-input-5-f8ce188f61d4>\", line 87, in run\n",
      "    fenetre.after(1, self.run())\n",
      "  [Previous line repeated 707 more times]\n",
      "  File \"<ipython-input-5-f8ce188f61d4>\", line 90, in run\n",
      "    self.traitement()\n",
      "  File \"<ipython-input-5-f8ce188f61d4>\", line 124, in traitement\n",
      "    t[i].arret()\n",
      "NameError: name 'i' is not defined\n",
      "\n"
     ]
    },
    {
     "name": "stdout",
     "output_type": "stream",
     "text": [
      "delete\n"
     ]
    },
    {
     "name": "stderr",
     "output_type": "stream",
     "text": [
      "Exception in thread Thread-88:\n",
      "Traceback (most recent call last):\n",
      "  File \"C:\\Users\\A15-03\\Anaconda3\\lib\\threading.py\", line 916, in _bootstrap_inner\n",
      "    self.run()\n",
      "  File \"<ipython-input-5-f8ce188f61d4>\", line 87, in run\n",
      "    fenetre.after(1, self.run())\n",
      "  File \"<ipython-input-5-f8ce188f61d4>\", line 87, in run\n",
      "    fenetre.after(1, self.run())\n",
      "  File \"<ipython-input-5-f8ce188f61d4>\", line 87, in run\n",
      "    fenetre.after(1, self.run())\n",
      "  [Previous line repeated 584 more times]\n",
      "  File \"<ipython-input-5-f8ce188f61d4>\", line 90, in run\n",
      "    self.traitement()\n",
      "  File \"<ipython-input-5-f8ce188f61d4>\", line 124, in traitement\n",
      "    t[i].arret()\n",
      "NameError: name 'i' is not defined\n",
      "\n"
     ]
    },
    {
     "name": "stdout",
     "output_type": "stream",
     "text": [
      "delete\n"
     ]
    },
    {
     "name": "stderr",
     "output_type": "stream",
     "text": [
      "Exception in thread Thread-89:\n",
      "Traceback (most recent call last):\n",
      "  File \"C:\\Users\\A15-03\\Anaconda3\\lib\\threading.py\", line 916, in _bootstrap_inner\n",
      "    self.run()\n",
      "  File \"<ipython-input-5-f8ce188f61d4>\", line 87, in run\n",
      "    fenetre.after(1, self.run())\n",
      "  File \"<ipython-input-5-f8ce188f61d4>\", line 87, in run\n",
      "    fenetre.after(1, self.run())\n",
      "  File \"<ipython-input-5-f8ce188f61d4>\", line 87, in run\n",
      "    fenetre.after(1, self.run())\n",
      "  [Previous line repeated 558 more times]\n",
      "  File \"<ipython-input-5-f8ce188f61d4>\", line 90, in run\n",
      "    self.traitement()\n",
      "  File \"<ipython-input-5-f8ce188f61d4>\", line 124, in traitement\n",
      "    t[i].arret()\n",
      "NameError: name 'i' is not defined\n",
      "\n"
     ]
    },
    {
     "name": "stdout",
     "output_type": "stream",
     "text": [
      "delete\n"
     ]
    },
    {
     "name": "stderr",
     "output_type": "stream",
     "text": [
      "Exception in thread Thread-92:\n",
      "Traceback (most recent call last):\n",
      "  File \"C:\\Users\\A15-03\\Anaconda3\\lib\\threading.py\", line 916, in _bootstrap_inner\n",
      "    self.run()\n",
      "  File \"<ipython-input-5-f8ce188f61d4>\", line 87, in run\n",
      "    fenetre.after(1, self.run())\n",
      "  File \"<ipython-input-5-f8ce188f61d4>\", line 87, in run\n",
      "    fenetre.after(1, self.run())\n",
      "  File \"<ipython-input-5-f8ce188f61d4>\", line 87, in run\n",
      "    fenetre.after(1, self.run())\n",
      "  [Previous line repeated 794 more times]\n",
      "  File \"<ipython-input-5-f8ce188f61d4>\", line 90, in run\n",
      "    self.traitement()\n",
      "  File \"<ipython-input-5-f8ce188f61d4>\", line 124, in traitement\n",
      "    t[i].arret()\n",
      "NameError: name 'i' is not defined\n",
      "\n"
     ]
    },
    {
     "name": "stdout",
     "output_type": "stream",
     "text": [
      "delete\n"
     ]
    },
    {
     "name": "stderr",
     "output_type": "stream",
     "text": [
      "Exception in thread Thread-94:\n",
      "Traceback (most recent call last):\n",
      "  File \"C:\\Users\\A15-03\\Anaconda3\\lib\\threading.py\", line 916, in _bootstrap_inner\n",
      "    self.run()\n",
      "  File \"<ipython-input-5-f8ce188f61d4>\", line 87, in run\n",
      "    fenetre.after(1, self.run())\n",
      "  File \"<ipython-input-5-f8ce188f61d4>\", line 87, in run\n",
      "    fenetre.after(1, self.run())\n",
      "  File \"<ipython-input-5-f8ce188f61d4>\", line 87, in run\n",
      "    fenetre.after(1, self.run())\n",
      "  [Previous line repeated 1017 more times]\n",
      "  File \"<ipython-input-5-f8ce188f61d4>\", line 90, in run\n",
      "    self.traitement()\n",
      "  File \"<ipython-input-5-f8ce188f61d4>\", line 124, in traitement\n",
      "    t[i].arret()\n",
      "NameError: name 'i' is not defined\n",
      "\n"
     ]
    },
    {
     "name": "stdout",
     "output_type": "stream",
     "text": [
      "delete\n"
     ]
    },
    {
     "name": "stderr",
     "output_type": "stream",
     "text": [
      "Exception in thread Thread-93:\n",
      "Traceback (most recent call last):\n",
      "  File \"C:\\Users\\A15-03\\Anaconda3\\lib\\threading.py\", line 916, in _bootstrap_inner\n",
      "    self.run()\n",
      "  File \"<ipython-input-5-f8ce188f61d4>\", line 87, in run\n",
      "    fenetre.after(1, self.run())\n",
      "  File \"<ipython-input-5-f8ce188f61d4>\", line 87, in run\n",
      "    fenetre.after(1, self.run())\n",
      "  File \"<ipython-input-5-f8ce188f61d4>\", line 87, in run\n",
      "    fenetre.after(1, self.run())\n",
      "  [Previous line repeated 1045 more times]\n",
      "  File \"<ipython-input-5-f8ce188f61d4>\", line 90, in run\n",
      "    self.traitement()\n",
      "  File \"<ipython-input-5-f8ce188f61d4>\", line 124, in traitement\n",
      "    t[i].arret()\n",
      "NameError: name 'i' is not defined\n",
      "\n"
     ]
    },
    {
     "name": "stdout",
     "output_type": "stream",
     "text": [
      "delete\n"
     ]
    },
    {
     "name": "stderr",
     "output_type": "stream",
     "text": [
      "Exception in thread Thread-91:\n",
      "Traceback (most recent call last):\n",
      "  File \"C:\\Users\\A15-03\\Anaconda3\\lib\\threading.py\", line 916, in _bootstrap_inner\n",
      "    self.run()\n",
      "  File \"<ipython-input-5-f8ce188f61d4>\", line 87, in run\n",
      "    fenetre.after(1, self.run())\n",
      "  File \"<ipython-input-5-f8ce188f61d4>\", line 87, in run\n",
      "    fenetre.after(1, self.run())\n",
      "  File \"<ipython-input-5-f8ce188f61d4>\", line 87, in run\n",
      "    fenetre.after(1, self.run())\n",
      "  [Previous line repeated 749 more times]\n",
      "  File \"<ipython-input-5-f8ce188f61d4>\", line 90, in run\n",
      "    self.traitement()\n",
      "  File \"<ipython-input-5-f8ce188f61d4>\", line 124, in traitement\n",
      "    t[i].arret()\n",
      "NameError: name 'i' is not defined\n",
      "\n"
     ]
    },
    {
     "name": "stdout",
     "output_type": "stream",
     "text": [
      "delete\n"
     ]
    },
    {
     "name": "stderr",
     "output_type": "stream",
     "text": [
      "Exception in thread Thread-97:\n",
      "Traceback (most recent call last):\n",
      "  File \"C:\\Users\\A15-03\\Anaconda3\\lib\\threading.py\", line 916, in _bootstrap_inner\n",
      "    self.run()\n",
      "  File \"<ipython-input-5-f8ce188f61d4>\", line 87, in run\n",
      "    fenetre.after(1, self.run())\n",
      "  File \"<ipython-input-5-f8ce188f61d4>\", line 87, in run\n",
      "    fenetre.after(1, self.run())\n",
      "  File \"<ipython-input-5-f8ce188f61d4>\", line 87, in run\n",
      "    fenetre.after(1, self.run())\n",
      "  [Previous line repeated 1005 more times]\n",
      "  File \"<ipython-input-5-f8ce188f61d4>\", line 90, in run\n",
      "    self.traitement()\n",
      "  File \"<ipython-input-5-f8ce188f61d4>\", line 124, in traitement\n",
      "    t[i].arret()\n",
      "NameError: name 'i' is not defined\n",
      "\n"
     ]
    },
    {
     "name": "stdout",
     "output_type": "stream",
     "text": [
      "delete\n"
     ]
    },
    {
     "name": "stderr",
     "output_type": "stream",
     "text": [
      "Exception in thread Thread-96:\n",
      "Traceback (most recent call last):\n",
      "  File \"C:\\Users\\A15-03\\Anaconda3\\lib\\threading.py\", line 916, in _bootstrap_inner\n",
      "    self.run()\n",
      "  File \"<ipython-input-5-f8ce188f61d4>\", line 87, in run\n",
      "    fenetre.after(1, self.run())\n",
      "  File \"<ipython-input-5-f8ce188f61d4>\", line 87, in run\n",
      "    fenetre.after(1, self.run())\n",
      "  File \"<ipython-input-5-f8ce188f61d4>\", line 87, in run\n",
      "    fenetre.after(1, self.run())\n",
      "  [Previous line repeated 1105 more times]\n",
      "  File \"<ipython-input-5-f8ce188f61d4>\", line 90, in run\n",
      "    self.traitement()\n",
      "  File \"<ipython-input-5-f8ce188f61d4>\", line 124, in traitement\n",
      "    t[i].arret()\n",
      "NameError: name 'i' is not defined\n",
      "\n"
     ]
    },
    {
     "name": "stdout",
     "output_type": "stream",
     "text": [
      "delete\n"
     ]
    },
    {
     "name": "stderr",
     "output_type": "stream",
     "text": [
      "Exception in thread Thread-95:\n",
      "Traceback (most recent call last):\n",
      "  File \"C:\\Users\\A15-03\\Anaconda3\\lib\\threading.py\", line 916, in _bootstrap_inner\n",
      "    self.run()\n",
      "  File \"<ipython-input-5-f8ce188f61d4>\", line 87, in run\n",
      "    fenetre.after(1, self.run())\n",
      "  File \"<ipython-input-5-f8ce188f61d4>\", line 87, in run\n",
      "    fenetre.after(1, self.run())\n",
      "  File \"<ipython-input-5-f8ce188f61d4>\", line 87, in run\n",
      "    fenetre.after(1, self.run())\n",
      "  [Previous line repeated 1194 more times]\n",
      "  File \"<ipython-input-5-f8ce188f61d4>\", line 90, in run\n",
      "    self.traitement()\n",
      "  File \"<ipython-input-5-f8ce188f61d4>\", line 124, in traitement\n",
      "    t[i].arret()\n",
      "NameError: name 'i' is not defined\n",
      "\n"
     ]
    },
    {
     "name": "stdout",
     "output_type": "stream",
     "text": [
      "delete\n",
      "delete\n"
     ]
    },
    {
     "name": "stderr",
     "output_type": "stream",
     "text": [
      "Exception in thread Thread-101:\n",
      "Traceback (most recent call last):\n",
      "  File \"C:\\Users\\A15-03\\Anaconda3\\lib\\threading.py\", line 916, in _bootstrap_inner\n",
      "    self.run()\n",
      "  File \"<ipython-input-5-f8ce188f61d4>\", line 87, in run\n",
      "    fenetre.after(1, self.run())\n",
      "  File \"<ipython-input-5-f8ce188f61d4>\", line 87, in run\n",
      "    fenetre.after(1, self.run())\n",
      "  File \"<ipython-input-5-f8ce188f61d4>\", line 87, in run\n",
      "    fenetre.after(1, self.run())\n",
      "  [Previous line repeated 901 more times]\n",
      "  File \"<ipython-input-5-f8ce188f61d4>\", line 90, in run\n",
      "    self.traitement()\n",
      "  File \"<ipython-input-5-f8ce188f61d4>\", line 124, in traitement\n",
      "    t[i].arret()\n",
      "NameError: name 'i' is not defined\n",
      "\n",
      "Exception in thread Thread-99:\n",
      "Traceback (most recent call last):\n",
      "  File \"C:\\Users\\A15-03\\Anaconda3\\lib\\threading.py\", line 916, in _bootstrap_inner\n",
      "    self.run()\n",
      "  File \"<ipython-input-5-f8ce188f61d4>\", line 87, in run\n",
      "    fenetre.after(1, self.run())\n",
      "  File \"<ipython-input-5-f8ce188f61d4>\", line 87, in run\n",
      "    fenetre.after(1, self.run())\n",
      "  File \"<ipython-input-5-f8ce188f61d4>\", line 87, in run\n",
      "    fenetre.after(1, self.run())\n",
      "  [Previous line repeated 966 more times]\n",
      "  File \"<ipython-input-5-f8ce188f61d4>\", line 90, in run\n",
      "    self.traitement()\n",
      "  File \"<ipython-input-5-f8ce188f61d4>\", line 124, in traitement\n",
      "    t[i].arret()\n",
      "NameError: name 'i' is not defined\n",
      "\n"
     ]
    },
    {
     "name": "stdout",
     "output_type": "stream",
     "text": [
      "delete\n"
     ]
    },
    {
     "name": "stderr",
     "output_type": "stream",
     "text": [
      "Exception in thread Thread-100:\n",
      "Traceback (most recent call last):\n",
      "  File \"C:\\Users\\A15-03\\Anaconda3\\lib\\threading.py\", line 916, in _bootstrap_inner\n",
      "    self.run()\n",
      "  File \"<ipython-input-5-f8ce188f61d4>\", line 87, in run\n",
      "    fenetre.after(1, self.run())\n",
      "  File \"<ipython-input-5-f8ce188f61d4>\", line 87, in run\n",
      "    fenetre.after(1, self.run())\n",
      "  File \"<ipython-input-5-f8ce188f61d4>\", line 87, in run\n",
      "    fenetre.after(1, self.run())\n",
      "  [Previous line repeated 874 more times]\n",
      "  File \"<ipython-input-5-f8ce188f61d4>\", line 90, in run\n",
      "    self.traitement()\n",
      "  File \"<ipython-input-5-f8ce188f61d4>\", line 124, in traitement\n",
      "    t[i].arret()\n",
      "NameError: name 'i' is not defined\n",
      "\n"
     ]
    },
    {
     "name": "stdout",
     "output_type": "stream",
     "text": [
      "delete\n"
     ]
    },
    {
     "name": "stderr",
     "output_type": "stream",
     "text": [
      "Exception in thread Thread-98:\n",
      "Traceback (most recent call last):\n",
      "  File \"C:\\Users\\A15-03\\Anaconda3\\lib\\threading.py\", line 916, in _bootstrap_inner\n",
      "    self.run()\n",
      "  File \"<ipython-input-5-f8ce188f61d4>\", line 87, in run\n",
      "    fenetre.after(1, self.run())\n",
      "  File \"<ipython-input-5-f8ce188f61d4>\", line 87, in run\n",
      "    fenetre.after(1, self.run())\n",
      "  File \"<ipython-input-5-f8ce188f61d4>\", line 87, in run\n",
      "    fenetre.after(1, self.run())\n",
      "  [Previous line repeated 957 more times]\n",
      "  File \"<ipython-input-5-f8ce188f61d4>\", line 90, in run\n",
      "    self.traitement()\n",
      "  File \"<ipython-input-5-f8ce188f61d4>\", line 124, in traitement\n",
      "    t[i].arret()\n",
      "NameError: name 'i' is not defined\n",
      "\n"
     ]
    },
    {
     "name": "stdout",
     "output_type": "stream",
     "text": [
      "delete\n"
     ]
    },
    {
     "name": "stderr",
     "output_type": "stream",
     "text": [
      "Exception in thread Thread-102:\n",
      "Traceback (most recent call last):\n",
      "  File \"C:\\Users\\A15-03\\Anaconda3\\lib\\threading.py\", line 916, in _bootstrap_inner\n",
      "    self.run()\n",
      "  File \"<ipython-input-5-f8ce188f61d4>\", line 87, in run\n",
      "    fenetre.after(1, self.run())\n",
      "  File \"<ipython-input-5-f8ce188f61d4>\", line 87, in run\n",
      "    fenetre.after(1, self.run())\n",
      "  File \"<ipython-input-5-f8ce188f61d4>\", line 87, in run\n",
      "    fenetre.after(1, self.run())\n",
      "  [Previous line repeated 1244 more times]\n",
      "  File \"<ipython-input-5-f8ce188f61d4>\", line 90, in run\n",
      "    self.traitement()\n",
      "  File \"<ipython-input-5-f8ce188f61d4>\", line 124, in traitement\n",
      "    t[i].arret()\n",
      "NameError: name 'i' is not defined\n",
      "\n"
     ]
    },
    {
     "name": "stdout",
     "output_type": "stream",
     "text": [
      "delete\n",
      "delete\n"
     ]
    },
    {
     "name": "stderr",
     "output_type": "stream",
     "text": [
      "Exception in thread Thread-104:\n",
      "Traceback (most recent call last):\n",
      "  File \"C:\\Users\\A15-03\\Anaconda3\\lib\\threading.py\", line 916, in _bootstrap_inner\n",
      "    self.run()\n",
      "  File \"<ipython-input-5-f8ce188f61d4>\", line 87, in run\n",
      "    fenetre.after(1, self.run())\n",
      "  File \"<ipython-input-5-f8ce188f61d4>\", line 87, in run\n",
      "    fenetre.after(1, self.run())\n",
      "  File \"<ipython-input-5-f8ce188f61d4>\", line 87, in run\n",
      "    fenetre.after(1, self.run())\n",
      "  [Previous line repeated 909 more times]\n",
      "  File \"<ipython-input-5-f8ce188f61d4>\", line 90, in run\n",
      "    self.traitement()\n",
      "  File \"<ipython-input-5-f8ce188f61d4>\", line 124, in traitement\n",
      "    t[i].arret()\n",
      "NameError: name 'i' is not defined\n",
      "\n",
      "Exception in thread Thread-105:\n",
      "Traceback (most recent call last):\n",
      "  File \"C:\\Users\\A15-03\\Anaconda3\\lib\\threading.py\", line 916, in _bootstrap_inner\n",
      "    self.run()\n",
      "  File \"<ipython-input-5-f8ce188f61d4>\", line 87, in run\n",
      "    fenetre.after(1, self.run())\n",
      "  File \"<ipython-input-5-f8ce188f61d4>\", line 87, in run\n",
      "    fenetre.after(1, self.run())\n",
      "  File \"<ipython-input-5-f8ce188f61d4>\", line 87, in run\n",
      "    fenetre.after(1, self.run())\n",
      "  [Previous line repeated 783 more times]\n",
      "  File \"<ipython-input-5-f8ce188f61d4>\", line 90, in run\n",
      "    self.traitement()\n",
      "  File \"<ipython-input-5-f8ce188f61d4>\", line 124, in traitement\n",
      "    t[i].arret()\n",
      "NameError: name 'i' is not defined\n",
      "\n"
     ]
    },
    {
     "name": "stdout",
     "output_type": "stream",
     "text": [
      "delete\n"
     ]
    },
    {
     "name": "stderr",
     "output_type": "stream",
     "text": [
      "Exception in thread Thread-106:\n",
      "Traceback (most recent call last):\n",
      "  File \"C:\\Users\\A15-03\\Anaconda3\\lib\\threading.py\", line 916, in _bootstrap_inner\n",
      "    self.run()\n",
      "  File \"<ipython-input-5-f8ce188f61d4>\", line 87, in run\n",
      "    fenetre.after(1, self.run())\n",
      "  File \"<ipython-input-5-f8ce188f61d4>\", line 87, in run\n",
      "    fenetre.after(1, self.run())\n",
      "  File \"<ipython-input-5-f8ce188f61d4>\", line 87, in run\n",
      "    fenetre.after(1, self.run())\n",
      "  [Previous line repeated 813 more times]\n",
      "  File \"<ipython-input-5-f8ce188f61d4>\", line 90, in run\n",
      "    self.traitement()\n",
      "  File \"<ipython-input-5-f8ce188f61d4>\", line 124, in traitement\n",
      "    t[i].arret()\n",
      "NameError: name 'i' is not defined\n",
      "\n"
     ]
    },
    {
     "name": "stdout",
     "output_type": "stream",
     "text": [
      "delete\n"
     ]
    },
    {
     "name": "stderr",
     "output_type": "stream",
     "text": [
      "Exception in thread Thread-107:\n",
      "Traceback (most recent call last):\n",
      "  File \"C:\\Users\\A15-03\\Anaconda3\\lib\\threading.py\", line 916, in _bootstrap_inner\n",
      "    self.run()\n",
      "  File \"<ipython-input-5-f8ce188f61d4>\", line 87, in run\n",
      "    fenetre.after(1, self.run())\n",
      "  File \"<ipython-input-5-f8ce188f61d4>\", line 87, in run\n",
      "    fenetre.after(1, self.run())\n",
      "  File \"<ipython-input-5-f8ce188f61d4>\", line 87, in run\n",
      "    fenetre.after(1, self.run())\n",
      "  [Previous line repeated 925 more times]\n",
      "  File \"<ipython-input-5-f8ce188f61d4>\", line 90, in run\n",
      "    self.traitement()\n",
      "  File \"<ipython-input-5-f8ce188f61d4>\", line 124, in traitement\n",
      "    t[i].arret()\n",
      "NameError: name 'i' is not defined\n",
      "\n"
     ]
    },
    {
     "name": "stdout",
     "output_type": "stream",
     "text": [
      "delete\n"
     ]
    },
    {
     "name": "stderr",
     "output_type": "stream",
     "text": [
      "Exception in thread Thread-103:\n",
      "Traceback (most recent call last):\n",
      "  File \"C:\\Users\\A15-03\\Anaconda3\\lib\\threading.py\", line 916, in _bootstrap_inner\n",
      "    self.run()\n",
      "  File \"<ipython-input-5-f8ce188f61d4>\", line 87, in run\n",
      "    fenetre.after(1, self.run())\n",
      "  File \"<ipython-input-5-f8ce188f61d4>\", line 87, in run\n",
      "    fenetre.after(1, self.run())\n",
      "  File \"<ipython-input-5-f8ce188f61d4>\", line 87, in run\n",
      "    fenetre.after(1, self.run())\n",
      "  [Previous line repeated 1076 more times]\n",
      "  File \"<ipython-input-5-f8ce188f61d4>\", line 90, in run\n",
      "    self.traitement()\n",
      "  File \"<ipython-input-5-f8ce188f61d4>\", line 124, in traitement\n",
      "    t[i].arret()\n",
      "NameError: name 'i' is not defined\n",
      "\n"
     ]
    },
    {
     "name": "stdout",
     "output_type": "stream",
     "text": [
      "delete\n"
     ]
    },
    {
     "name": "stderr",
     "output_type": "stream",
     "text": [
      "Exception in thread Thread-108:\n",
      "Traceback (most recent call last):\n",
      "  File \"C:\\Users\\A15-03\\Anaconda3\\lib\\threading.py\", line 916, in _bootstrap_inner\n",
      "    self.run()\n",
      "  File \"<ipython-input-5-f8ce188f61d4>\", line 87, in run\n",
      "    fenetre.after(1, self.run())\n",
      "  File \"<ipython-input-5-f8ce188f61d4>\", line 87, in run\n",
      "    fenetre.after(1, self.run())\n",
      "  File \"<ipython-input-5-f8ce188f61d4>\", line 87, in run\n",
      "    fenetre.after(1, self.run())\n",
      "  [Previous line repeated 824 more times]\n",
      "  File \"<ipython-input-5-f8ce188f61d4>\", line 90, in run\n",
      "    self.traitement()\n",
      "  File \"<ipython-input-5-f8ce188f61d4>\", line 124, in traitement\n",
      "    t[i].arret()\n",
      "NameError: name 'i' is not defined\n",
      "\n"
     ]
    }
   ],
   "source": [
    "#clients arrive at a random time and rainbow color  \n",
    "\n",
    "fenetre = tk.Tk()\n",
    "\n",
    "canvas = tk.Canvas(fenetre, width=800, height=500, background='black')\n",
    "rect = canvas.create_rectangle(100, 100, 150, 400,fill='red')\n",
    "line = canvas.create_line(300,235,300,285, fill='red')\n",
    "c = []\n",
    "coords = []\n",
    "t = []\n",
    "wait = []\n",
    "coord_rect = (100,100,150,400)\n",
    "coord_line = (300,235,300,285)\n",
    "timeInBank = 15.0\n",
    "arrInt = 3.0\n",
    "nb_counter = 4\n",
    "counter = [True]*nb_counter\n",
    "dispo = []\n",
    "for k in range(nb_counter): \n",
    "    dispo.append(canvas.create_rectangle(130,250 + 150*(2*k - (nb_counter - 1))/nb_counter,150,270 + 150*(2*k - (nb_counter - 1))/nb_counter,fill='green'))\n",
    "def modif_ind(tab, i): \n",
    "    for j in range(i, len(tab)):\n",
    "        tab[j].i = tab[j].i - 1 \n",
    "        \n",
    "def hex_to_RGB(hex): \n",
    "    return [int(hex[i:i+2], 16) for i in range(1, 6, 2)]\n",
    "\n",
    "def RGB_to_hex(RGB): \n",
    "    RGB = [int(x) for x in RGB]\n",
    "    return \"#\" + \"\".join([\"0{0:x}\".format(v) if v < 16 else \"{0:x}\".format(v) for v in RGB ])\n",
    "\n",
    "def color_dict(gradient):\n",
    "    return {\"hex\":[RGB_to_hex(RGB) for RGB in gradient], \"r\":[RGB[0] for RGB in gradient], \"g\":[RGB[1] for RGB in gradient], \"b\":[RGB[2] for RGB in gradient]}\n",
    "\n",
    "def linear_gradient(start_hex, finish_hex=\"#7711AA\", n=10000): \n",
    "    s = hex_to_RGB(start_hex)\n",
    "    f = hex_to_RGB(finish_hex)\n",
    "    RGB_list = [s]\n",
    "    for t in range(1,n): \n",
    "        curr_vector = [int(s[j] + (float(t)/(n - 1))*(f[j] - s[j])) for j in range(3)] \n",
    "        RGB_list.append(curr_vector)\n",
    "    return color_dict(RGB_list)\n",
    "\n",
    "temp = linear_gradient(\"#00FFFF\")\n",
    "color = temp['hex']\n",
    "                   \n",
    "                   \n",
    "                   \n",
    "class myThread(threading.Thread):\n",
    "\n",
    "    def __init__(self, i):\n",
    "        threading.Thread.__init__(self)\n",
    "        self.i = i\n",
    "        self.going = False\n",
    "        self.comptoir = -1\n",
    "        self.deplacement = 0\n",
    "        self.patience = random.randint(1, 15)\n",
    "        \n",
    "    def run(self):\n",
    "        self.running = True\n",
    "        global wait\n",
    "        while(self.running): \n",
    "            if(coords[self.i][0] > coord_rect[2] ):\n",
    "                if(coords[self.i][0] > coord_line[0]):\n",
    "                    if(self.i==0):\n",
    "                        self.bouger()\n",
    "                    if(self.i>0 and coords[self.i][0] > coords[self.i-1][0]+25 ):\n",
    "                        self.bouger()\n",
    "                    else: \n",
    "                        self.attendre2()\n",
    "                else:\n",
    "                    i = 0  \n",
    "                    if(self.comptoir == -1):\n",
    "                        while(i != len(counter) and not counter[i]):\n",
    "                            i = i + 1 \n",
    "                        if(i != len(counter) and counter[i]): \n",
    "                            self.going = True \n",
    "                            self.comptoir = i\n",
    "                            self.deplacement = (2*i - (nb_counter - 1))/nb_counter\n",
    "                            counter[i] = False\n",
    "                    if(self.going):\n",
    "                        self.bouger()\n",
    "                        fenetre.update()\n",
    "                    else: \n",
    "                        self.attendre2()\n",
    "                time.sleep(0.001)\n",
    "                fenetre.after(1, self.run())\n",
    "                \n",
    "            if(coords[self.i][0] <= coord_rect[2]):\n",
    "                self.traitement()\n",
    "                \n",
    "    def bouger(self):       \n",
    "        coords[self.i] = (coords[self.i][0] - 1, coords[self.i][1] + self.deplacement)\n",
    "        canvas.coords(c[self.i], coords[self.i][0], coords[self.i][1], coords[self.i][0]+20, coords[self.i][1]+20)   \n",
    "        \n",
    "    def arret(self): \n",
    "        self.running = False \n",
    "        \n",
    "    def attendre(self): \n",
    "        wait[self.i] = wait[self.i] + 1 \n",
    "        if(wait[self.i] > self.patience/2):\n",
    "            if(wait[self.i] > (3*self.patience)/4):\n",
    "                if(wait[self.i] > self.patience): \n",
    "                    canvas.itemconfigure(c[self.i], fill='black')\n",
    "                else:\n",
    "                    canvas.itemconfigure(c[self.i], fill='purple')\n",
    "            else:\n",
    "                canvas.itemconfigure(c[self.i], fill='violet')\n",
    "    \n",
    "    def attendre2(self): \n",
    "        wait[self.i] = wait[self.i] + self.patience\n",
    "        if(wait[self.i] < len(color) - 1): \n",
    "            canvas.itemconfigure(c[self.i], fill=color[wait[self.i]%len(color)])\n",
    "                \n",
    "    def traitement(self): \n",
    "        canvas.itemconfigure(dispo[self.comptoir], fill='orange')\n",
    "        counterTime = random.randint(1,timeInBank)\n",
    "        time.sleep(counterTime)\n",
    "        canvas.delete(fenetre, c[self.i])\n",
    "        print(\"delete\")\n",
    "        coords[self.i] = (0,0)\n",
    "        counter[self.comptoir] = True \n",
    "        canvas.itemconfigure(dispo[self.comptoir], fill='green')\n",
    "        t[i].arret()\n",
    "\n",
    "        \n",
    "def apparition(i):\n",
    "    if(i==0):\n",
    "        c.append(canvas.create_rectangle(350,250,370,270,fill='#00FFFF'))\n",
    "        coords.append((350, 250))\n",
    "    elif(coords[len(coords) - 1][0] < 325):\n",
    "        c.append(canvas.create_rectangle(350,250,370,270,fill='#00FFFF'))\n",
    "        coords.append((350, 250))\n",
    "    else: \n",
    "        c.append(canvas.create_rectangle(coords[len(coords) - 1][0] + 30,250,270,270,fill='#00FFFF'))\n",
    "        coords.append((coords[len(coords) - 1][0] + 30, 250))\n",
    "        \n",
    "        \n",
    "def source():\n",
    "    time.sleep(2.0)\n",
    "    for i in range(0,30): #fonctionne pour 3 pas pour 4 ou 5 \n",
    "        apparition(i)\n",
    "        fenetre.update()\n",
    "            \n",
    "        wait.append(0)\n",
    "        t.append(myThread(i))\n",
    "        t[i].start()\n",
    "        TBA = random.randint(1, arrInt)\n",
    "        time.sleep(TBA)\n",
    "        \n",
    "        \n",
    "        \n",
    "random.seed()  \n",
    "\n",
    "canvas.pack()\n",
    "draw = threading.Thread(target=source)\n",
    "draw.start()\n",
    "\n",
    "\n",
    "fenetre.mainloop()"
   ]
  },
  {
   "cell_type": "code",
   "execution_count": null,
   "metadata": {},
   "outputs": [],
   "source": []
  }
 ],
 "metadata": {
  "kernelspec": {
   "display_name": "Python 3",
   "language": "python",
   "name": "python3"
  },
  "language_info": {
   "codemirror_mode": {
    "name": "ipython",
    "version": 3
   },
   "file_extension": ".py",
   "mimetype": "text/x-python",
   "name": "python",
   "nbconvert_exporter": "python",
   "pygments_lexer": "ipython3",
   "version": "3.6.4"
  }
 },
 "nbformat": 4,
 "nbformat_minor": 2
}
