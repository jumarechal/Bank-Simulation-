{
 "cells": [
  {
   "cell_type": "code",
   "execution_count": 4,
   "metadata": {},
   "outputs": [],
   "source": [
    "import tkinter as tk\n",
    "import time \n",
    "import threading \n",
    "import simpy\n",
    "import random\n",
    "import sys\n",
    "import mttkinter\n",
    "sys.setrecursionlimit(10000)"
   ]
  },
  {
   "cell_type": "code",
   "execution_count": 9,
   "metadata": {},
   "outputs": [
    {
     "name": "stdout",
     "output_type": "stream",
     "text": [
      "3\n",
      "[<Thread(Thread-47, initial)>]\n",
      "1\n",
      "[<Thread(Thread-47, started 3424)>, <Thread(Thread-48, initial)>]\n",
      "Waited:  0.000\n",
      "2\n",
      "[<Thread(Thread-47, started 3424)>, <Thread(Thread-48, started 7964)>, <Thread(Thread-49, initial)>]\n",
      "delete\n"
     ]
    },
    {
     "name": "stderr",
     "output_type": "stream",
     "text": [
      "Exception in thread Thread-47:\n",
      "Traceback (most recent call last):\n",
      "  File \"C:\\Users\\A15-03\\Anaconda3\\lib\\threading.py\", line 916, in _bootstrap_inner\n",
      "    self.run()\n",
      "  File \"C:\\Users\\A15-03\\Anaconda3\\lib\\threading.py\", line 864, in run\n",
      "    self._target(*self._args, **self._kwargs)\n",
      "  File \"<ipython-input-9-6b94e8d715d5>\", line 25, in clavier\n",
      "    fenetre.after(1, clavier(i))\n",
      "  File \"<ipython-input-9-6b94e8d715d5>\", line 25, in clavier\n",
      "    fenetre.after(1, clavier(i))\n",
      "  File \"<ipython-input-9-6b94e8d715d5>\", line 25, in clavier\n",
      "    fenetre.after(1, clavier(i))\n",
      "  [Previous line repeated 96 more times]\n",
      "  File \"<ipython-input-9-6b94e8d715d5>\", line 62, in clavier\n",
      "    t[i].stop()\n",
      "AttributeError: 'Thread' object has no attribute 'stop'\n",
      "\n"
     ]
    },
    {
     "name": "stdout",
     "output_type": "stream",
     "text": [
      "3\n",
      "[<Thread(Thread-47, stopped 3424)>, <Thread(Thread-48, started 7964)>, <Thread(Thread-49, started 1696)>, <Thread(Thread-50, initial)>]\n",
      "Waited: 372.000\n",
      "2\n",
      "[<Thread(Thread-47, stopped 3424)>, <Thread(Thread-48, started 7964)>, <Thread(Thread-49, started 1696)>, <Thread(Thread-50, started 6344)>, <Thread(Thread-51, initial)>]\n"
     ]
    },
    {
     "name": "stderr",
     "output_type": "stream",
     "text": [
      "Exception in thread Thread-49:\n",
      "Traceback (most recent call last):\n",
      "  File \"C:\\Users\\A15-03\\Anaconda3\\lib\\threading.py\", line 916, in _bootstrap_inner\n",
      "    self.run()\n",
      "  File \"C:\\Users\\A15-03\\Anaconda3\\lib\\threading.py\", line 864, in run\n",
      "    self._target(*self._args, **self._kwargs)\n",
      "  File \"<ipython-input-9-6b94e8d715d5>\", line 53, in clavier\n",
      "    fenetre.after(1, clavier(i))\n",
      "  File \"<ipython-input-9-6b94e8d715d5>\", line 53, in clavier\n",
      "    fenetre.after(1, clavier(i))\n",
      "  File \"<ipython-input-9-6b94e8d715d5>\", line 53, in clavier\n",
      "    fenetre.after(1, clavier(i))\n",
      "  [Previous line repeated 746 more times]\n",
      "  File \"<ipython-input-9-6b94e8d715d5>\", line 48, in clavier\n",
      "    t[i].stop()\n",
      "AttributeError: 'Thread' object has no attribute 'stop'\n",
      "\n"
     ]
    },
    {
     "name": "stdout",
     "output_type": "stream",
     "text": [
      "delete\n"
     ]
    },
    {
     "name": "stderr",
     "output_type": "stream",
     "text": [
      "Exception in thread Thread-48:\n",
      "Traceback (most recent call last):\n",
      "  File \"C:\\Users\\A15-03\\Anaconda3\\lib\\threading.py\", line 916, in _bootstrap_inner\n",
      "    self.run()\n",
      "  File \"C:\\Users\\A15-03\\Anaconda3\\lib\\threading.py\", line 864, in run\n",
      "    self._target(*self._args, **self._kwargs)\n",
      "  File \"<ipython-input-9-6b94e8d715d5>\", line 53, in clavier\n",
      "    fenetre.after(1, clavier(i))\n",
      "  File \"<ipython-input-9-6b94e8d715d5>\", line 53, in clavier\n",
      "    fenetre.after(1, clavier(i))\n",
      "  File \"<ipython-input-9-6b94e8d715d5>\", line 53, in clavier\n",
      "    fenetre.after(1, clavier(i))\n",
      "  [Previous line repeated 568 more times]\n",
      "  File \"<ipython-input-9-6b94e8d715d5>\", line 62, in clavier\n",
      "    t[i].stop()\n",
      "AttributeError: 'Thread' object has no attribute 'stop'\n",
      "\n"
     ]
    },
    {
     "name": "stdout",
     "output_type": "stream",
     "text": [
      "3\n",
      "[<Thread(Thread-47, stopped 3424)>, <Thread(Thread-48, stopped 7964)>, <Thread(Thread-49, stopped 1696)>, <Thread(Thread-50, started 6344)>, <Thread(Thread-51, started 11196)>, <Thread(Thread-52, initial)>]\n",
      "Waited: 148.000\n",
      "3\n",
      "[<Thread(Thread-47, stopped 3424)>, <Thread(Thread-48, stopped 7964)>, <Thread(Thread-49, stopped 1696)>, <Thread(Thread-50, started 6344)>, <Thread(Thread-51, started 11196)>, <Thread(Thread-52, started 5300)>, <Thread(Thread-53, initial)>]\n",
      "delete\n"
     ]
    },
    {
     "name": "stderr",
     "output_type": "stream",
     "text": [
      "Exception in thread Thread-50:\n",
      "Traceback (most recent call last):\n",
      "  File \"C:\\Users\\A15-03\\Anaconda3\\lib\\threading.py\", line 916, in _bootstrap_inner\n",
      "    self.run()\n",
      "  File \"C:\\Users\\A15-03\\Anaconda3\\lib\\threading.py\", line 864, in run\n",
      "    self._target(*self._args, **self._kwargs)\n",
      "  File \"<ipython-input-9-6b94e8d715d5>\", line 53, in clavier\n",
      "    fenetre.after(1, clavier(i))\n",
      "  File \"<ipython-input-9-6b94e8d715d5>\", line 53, in clavier\n",
      "    fenetre.after(1, clavier(i))\n",
      "  File \"<ipython-input-9-6b94e8d715d5>\", line 53, in clavier\n",
      "    fenetre.after(1, clavier(i))\n",
      "  [Previous line repeated 544 more times]\n",
      "  File \"<ipython-input-9-6b94e8d715d5>\", line 62, in clavier\n",
      "    t[i].stop()\n",
      "AttributeError: 'Thread' object has no attribute 'stop'\n",
      "\n"
     ]
    },
    {
     "name": "stdout",
     "output_type": "stream",
     "text": [
      "Waited: 419.000\n",
      "3\n",
      "[<Thread(Thread-47, stopped 3424)>, <Thread(Thread-48, stopped 7964)>, <Thread(Thread-49, stopped 1696)>, <Thread(Thread-50, stopped 6344)>, <Thread(Thread-51, started 11196)>, <Thread(Thread-52, started 5300)>, <Thread(Thread-53, started 8380)>, <Thread(Thread-54, initial)>]\n",
      "1\n",
      "[<Thread(Thread-47, stopped 3424)>, <Thread(Thread-48, stopped 7964)>, <Thread(Thread-49, stopped 1696)>, <Thread(Thread-50, stopped 6344)>, <Thread(Thread-51, started 11196)>, <Thread(Thread-52, started 5300)>, <Thread(Thread-53, started 8380)>, <Thread(Thread-54, started 11124)>, <Thread(Thread-55, initial)>]\n",
      "1\n",
      "[<Thread(Thread-47, stopped 3424)>, <Thread(Thread-48, stopped 7964)>, <Thread(Thread-49, stopped 1696)>, <Thread(Thread-50, stopped 6344)>, <Thread(Thread-51, started 11196)>, <Thread(Thread-52, started 5300)>, <Thread(Thread-53, started 8380)>, <Thread(Thread-54, started 11124)>, <Thread(Thread-55, started 10464)>, <Thread(Thread-56, initial)>]\n"
     ]
    },
    {
     "name": "stderr",
     "output_type": "stream",
     "text": [
      "Exception in thread Thread-52:\n",
      "Traceback (most recent call last):\n",
      "  File \"C:\\Users\\A15-03\\Anaconda3\\lib\\threading.py\", line 916, in _bootstrap_inner\n",
      "    self.run()\n",
      "  File \"C:\\Users\\A15-03\\Anaconda3\\lib\\threading.py\", line 864, in run\n",
      "    self._target(*self._args, **self._kwargs)\n",
      "  File \"<ipython-input-9-6b94e8d715d5>\", line 53, in clavier\n",
      "    fenetre.after(1, clavier(i))\n",
      "  File \"<ipython-input-9-6b94e8d715d5>\", line 53, in clavier\n",
      "    fenetre.after(1, clavier(i))\n",
      "  File \"<ipython-input-9-6b94e8d715d5>\", line 53, in clavier\n",
      "    fenetre.after(1, clavier(i))\n",
      "  [Previous line repeated 1046 more times]\n",
      "  File \"<ipython-input-9-6b94e8d715d5>\", line 48, in clavier\n",
      "    t[i].stop()\n",
      "AttributeError: 'Thread' object has no attribute 'stop'\n",
      "\n"
     ]
    },
    {
     "name": "stdout",
     "output_type": "stream",
     "text": [
      "delete\n"
     ]
    },
    {
     "name": "stderr",
     "output_type": "stream",
     "text": [
      "Exception in thread Thread-51:\n",
      "Traceback (most recent call last):\n",
      "  File \"C:\\Users\\A15-03\\Anaconda3\\lib\\threading.py\", line 916, in _bootstrap_inner\n",
      "    self.run()\n",
      "  File \"C:\\Users\\A15-03\\Anaconda3\\lib\\threading.py\", line 864, in run\n",
      "    self._target(*self._args, **self._kwargs)\n",
      "  File \"<ipython-input-9-6b94e8d715d5>\", line 53, in clavier\n",
      "    fenetre.after(1, clavier(i))\n",
      "  File \"<ipython-input-9-6b94e8d715d5>\", line 53, in clavier\n",
      "    fenetre.after(1, clavier(i))\n",
      "  File \"<ipython-input-9-6b94e8d715d5>\", line 53, in clavier\n",
      "    fenetre.after(1, clavier(i))\n",
      "  [Previous line repeated 915 more times]\n",
      "  File \"<ipython-input-9-6b94e8d715d5>\", line 62, in clavier\n",
      "    t[i].stop()\n",
      "AttributeError: 'Thread' object has no attribute 'stop'\n",
      "\n"
     ]
    },
    {
     "name": "stdout",
     "output_type": "stream",
     "text": [
      "Waited: 213.000\n",
      "delete\n"
     ]
    },
    {
     "name": "stderr",
     "output_type": "stream",
     "text": [
      "Exception in thread Thread-53:\n",
      "Traceback (most recent call last):\n",
      "  File \"C:\\Users\\A15-03\\Anaconda3\\lib\\threading.py\", line 916, in _bootstrap_inner\n",
      "    self.run()\n",
      "  File \"C:\\Users\\A15-03\\Anaconda3\\lib\\threading.py\", line 864, in run\n",
      "    self._target(*self._args, **self._kwargs)\n",
      "  File \"<ipython-input-9-6b94e8d715d5>\", line 53, in clavier\n",
      "    fenetre.after(1, clavier(i))\n",
      "  File \"<ipython-input-9-6b94e8d715d5>\", line 53, in clavier\n",
      "    fenetre.after(1, clavier(i))\n",
      "  File \"<ipython-input-9-6b94e8d715d5>\", line 53, in clavier\n",
      "    fenetre.after(1, clavier(i))\n",
      "  [Previous line repeated 909 more times]\n",
      "  File \"<ipython-input-9-6b94e8d715d5>\", line 62, in clavier\n",
      "    t[i].stop()\n",
      "AttributeError: 'Thread' object has no attribute 'stop'\n",
      "\n"
     ]
    },
    {
     "name": "stdout",
     "output_type": "stream",
     "text": [
      "Waited: 465.000\n"
     ]
    },
    {
     "name": "stderr",
     "output_type": "stream",
     "text": [
      "Exception in thread Thread-55:\n",
      "Traceback (most recent call last):\n",
      "  File \"C:\\Users\\A15-03\\Anaconda3\\lib\\threading.py\", line 916, in _bootstrap_inner\n",
      "    self.run()\n",
      "  File \"C:\\Users\\A15-03\\Anaconda3\\lib\\threading.py\", line 864, in run\n",
      "    self._target(*self._args, **self._kwargs)\n",
      "  File \"<ipython-input-9-6b94e8d715d5>\", line 53, in clavier\n",
      "    fenetre.after(1, clavier(i))\n",
      "  File \"<ipython-input-9-6b94e8d715d5>\", line 53, in clavier\n",
      "    fenetre.after(1, clavier(i))\n",
      "  File \"<ipython-input-9-6b94e8d715d5>\", line 53, in clavier\n",
      "    fenetre.after(1, clavier(i))\n",
      "  [Previous line repeated 1346 more times]\n",
      "  File \"<ipython-input-9-6b94e8d715d5>\", line 48, in clavier\n",
      "    t[i].stop()\n",
      "AttributeError: 'Thread' object has no attribute 'stop'\n",
      "\n"
     ]
    },
    {
     "name": "stdout",
     "output_type": "stream",
     "text": [
      "delete\n",
      "Waited: 414.000\n"
     ]
    },
    {
     "name": "stderr",
     "output_type": "stream",
     "text": [
      "Exception in thread Thread-54:\n",
      "Traceback (most recent call last):\n",
      "  File \"C:\\Users\\A15-03\\Anaconda3\\lib\\threading.py\", line 916, in _bootstrap_inner\n",
      "    self.run()\n",
      "  File \"C:\\Users\\A15-03\\Anaconda3\\lib\\threading.py\", line 864, in run\n",
      "    self._target(*self._args, **self._kwargs)\n",
      "  File \"<ipython-input-9-6b94e8d715d5>\", line 53, in clavier\n",
      "    fenetre.after(1, clavier(i))\n",
      "  File \"<ipython-input-9-6b94e8d715d5>\", line 53, in clavier\n",
      "    fenetre.after(1, clavier(i))\n",
      "  File \"<ipython-input-9-6b94e8d715d5>\", line 53, in clavier\n",
      "    fenetre.after(1, clavier(i))\n",
      "  [Previous line repeated 1261 more times]\n",
      "  File \"<ipython-input-9-6b94e8d715d5>\", line 62, in clavier\n",
      "    t[i].stop()\n",
      "AttributeError: 'Thread' object has no attribute 'stop'\n",
      "\n"
     ]
    },
    {
     "name": "stdout",
     "output_type": "stream",
     "text": [
      "delete\n"
     ]
    },
    {
     "name": "stderr",
     "output_type": "stream",
     "text": [
      "Exception in thread Thread-56:\n",
      "Traceback (most recent call last):\n",
      "  File \"C:\\Users\\A15-03\\Anaconda3\\lib\\threading.py\", line 916, in _bootstrap_inner\n",
      "    self.run()\n",
      "  File \"C:\\Users\\A15-03\\Anaconda3\\lib\\threading.py\", line 864, in run\n",
      "    self._target(*self._args, **self._kwargs)\n",
      "  File \"<ipython-input-9-6b94e8d715d5>\", line 53, in clavier\n",
      "    fenetre.after(1, clavier(i))\n",
      "  File \"<ipython-input-9-6b94e8d715d5>\", line 53, in clavier\n",
      "    fenetre.after(1, clavier(i))\n",
      "  File \"<ipython-input-9-6b94e8d715d5>\", line 53, in clavier\n",
      "    fenetre.after(1, clavier(i))\n",
      "  [Previous line repeated 1410 more times]\n",
      "  File \"<ipython-input-9-6b94e8d715d5>\", line 62, in clavier\n",
      "    t[i].stop()\n",
      "AttributeError: 'Thread' object has no attribute 'stop'\n",
      "\n"
     ]
    }
   ],
   "source": [
    "fenetre = tk.Tk()\n",
    "\n",
    "canvas = tk.Canvas(fenetre, width=500, height=500, background='yellow')\n",
    "rect = canvas.create_rectangle(100, 100, 150, 400,fill='red')\n",
    "line = canvas.create_line(300,235,300,285, fill='red')\n",
    "c = []\n",
    "coords = []\n",
    "t = []\n",
    "coord_rect = (100,100,150,400)\n",
    "coord_line = (300,235,300,285)\n",
    "wait = []\n",
    "\n",
    "def clavier(i):\n",
    "    global coords\n",
    "    global coord_rect \n",
    "    global wait \n",
    "    \n",
    "    \n",
    "    if(coords[i][0] > coord_rect[2] ):\n",
    "        if(coords[i][0] != coord_line[0] or coords[i-1][0] == 0):\n",
    "            if(i==0):\n",
    "                coords[i] = (coords[i][0] - 1, coords[i][1])\n",
    "                canvas.coords(c[i], coords[i][0], coords[i][1], coords[i][0]+20, coords[i][1]+20)\n",
    "                time.sleep(0.001)\n",
    "                fenetre.after(1, clavier(i))\n",
    "            if(i>0 and coords[i][0] > coords[i-1][0]+25 ):\n",
    "                coords[i] = (coords[i][0] - 1, coords[i][1])\n",
    "                canvas.coords(c[i], coords[i][0], coords[i][1], coords[i][0]+20, coords[i][1]+20)\n",
    "            else: \n",
    "                wait[i] = wait[i] + 1 \n",
    "                if(wait[i] != 0):\n",
    "                    if(wait[i] > 500):\n",
    "                        canvas.itemconfigure(c[i], fill='purple')\n",
    "                        if(wait[i] > 600):\n",
    "                            canvas.delete(fenetre, c[i])\n",
    "                            coords[i] = (0,0)\n",
    "                            t[i].stop()\n",
    "                    else:\n",
    "                        canvas.itemconfigure(c[i], fill='violet')\n",
    "        else: \n",
    "            wait[i] = wait[i] + 1 \n",
    "            if(wait[i] != 0):\n",
    "                if(wait[i] > 500):\n",
    "                    canvas.itemconfigure(c[i], fill='purple')\n",
    "                    if(wait[i] > 600):\n",
    "                        canvas.delete(fenetre, c[i])\n",
    "                        coords[i] = (0,0)\n",
    "                        t[i].stop()\n",
    "                else:\n",
    "                    canvas.itemconfigure(c[i], fill='violet')\n",
    "                \n",
    "        time.sleep(0.001)\n",
    "        fenetre.after(1, clavier(i))\n",
    "        \n",
    "    \n",
    "    if(coords[i][0] == coord_rect[2]):\n",
    "        print('Waited: %6.3f'%wait[i])\n",
    "        time.sleep(4.0)\n",
    "        print(\"delete\")\n",
    "        canvas.delete(fenetre, c[i])\n",
    "        coords[i] = (0,0)\n",
    "        t[i].stop()\n",
    "        \n",
    "        \n",
    "def source():\n",
    "    \n",
    "    for i in range(0,10):\n",
    "        TBA = random.randint(1,3)\n",
    "        time.sleep(TBA)\n",
    "        print(TBA)\n",
    "        c.append(canvas.create_rectangle(250+100*i,250,270+100*i,270,fill='blue'))\n",
    "        fenetre.update()\n",
    "\n",
    "        coords.append((250+100*i, 250))  \n",
    "        wait.append(0)\n",
    "\n",
    "        t.append(threading.Thread(target=clavier, args=(i,)))\n",
    "        print(t)\n",
    "        t[i].start()\n",
    "\n",
    "\n",
    "canvas.pack()\n",
    "draw = threading.Thread(target=source)\n",
    "draw.start()\n",
    "\n",
    "\n",
    "# env = simpy.Environment()\n",
    "# d = env.process(source(env))\n",
    "# env.run()\n",
    "\n",
    "\n",
    "fenetre.mainloop()"
   ]
  },
  {
   "cell_type": "code",
   "execution_count": null,
   "metadata": {},
   "outputs": [],
   "source": []
  }
 ],
 "metadata": {
  "kernelspec": {
   "display_name": "Python 3",
   "language": "python",
   "name": "python3"
  },
  "language_info": {
   "codemirror_mode": {
    "name": "ipython",
    "version": 3
   },
   "file_extension": ".py",
   "mimetype": "text/x-python",
   "name": "python",
   "nbconvert_exporter": "python",
   "pygments_lexer": "ipython3",
   "version": "3.6.4"
  }
 },
 "nbformat": 4,
 "nbformat_minor": 2
}
