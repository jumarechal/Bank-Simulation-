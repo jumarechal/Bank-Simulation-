{
 "cells": [
  {
   "cell_type": "code",
   "execution_count": 20,
   "metadata": {},
   "outputs": [
    {
     "name": "stdout",
     "output_type": "stream",
     "text": [
      "Collecting simpy\n",
      "  Downloading https://files.pythonhosted.org/packages/63/6c/c9edf59ec101a20ef3d9b2be64d058e45aa4b743fc598dd8e2e66e9bf22f/simpy-3.0.10-py2.py3-none-any.whl\n",
      "Installing collected packages: simpy\n",
      "Successfully installed simpy-3.0.10\n"
     ]
    },
    {
     "name": "stderr",
     "output_type": "stream",
     "text": [
      "You are using pip version 9.0.1, however version 10.0.0 is available.\n",
      "You should consider upgrading via the 'python -m pip install --upgrade pip' command.\n"
     ]
    }
   ],
   "source": [
    "#install simpy on Jupyter \n",
    "import sys\n",
    "!{sys.executable} -m pip install simpy"
   ]
  },
  {
   "cell_type": "code",
   "execution_count": 274,
   "metadata": {},
   "outputs": [],
   "source": [
    "#import the necessary packages \n",
    "import simpy\n",
    "import random"
   ]
  },
  {
   "cell_type": "code",
   "execution_count": 302,
   "metadata": {},
   "outputs": [],
   "source": [
    "#define the variable \n",
    "timeInBank = 10.0\n",
    "arrInt = 15\n",
    "nb_client = 5"
   ]
  },
  {
   "cell_type": "code",
   "execution_count": 303,
   "metadata": {},
   "outputs": [],
   "source": [
    "#define the class we use\n",
    "def Customer(name, env, timeInBank, counter):\n",
    "    \"\"\"Customer arrives, is served by counter and leaves\"\"\"\n",
    "    arrive = env.now #arrival time \n",
    "    print('%7.4f %s: Here I am' % (arrive, name))\n",
    "    \n",
    "    with counter.request() as req:\n",
    "        yield req\n",
    "        wait = env.now - arrive\n",
    "        print('%7.4f %s: Waited %6.3f' % (env.now, name, wait))\n",
    "        yield env.timeout(timeInBank)\n",
    "    \n",
    "        print('%7.4f %s: Finished' % (env.now, name))\n",
    "    \n",
    "def Source(env, timeInBank, arrInt, k):\n",
    "    for i in range(nb_client):\n",
    "        c = env.process(Customer(\"Customer %2d\" %i, env, timeInBank, k))\n",
    "        t = random.randint(1,arrInt)\n",
    "        yield env.timeout(t)"
   ]
  },
  {
   "cell_type": "code",
   "execution_count": 304,
   "metadata": {},
   "outputs": [
    {
     "name": "stdout",
     "output_type": "stream",
     "text": [
      " 0.0000 Customer  0: Here I am\n",
      " 0.0000 Customer  0: Waited  0.000\n",
      "10.0000 Customer  0: Finished\n",
      "11.0000 Customer  1: Here I am\n",
      "11.0000 Customer  1: Waited  0.000\n",
      "13.0000 Customer  2: Here I am\n",
      "14.0000 Customer  3: Here I am\n",
      "21.0000 Customer  1: Finished\n",
      "21.0000 Customer  2: Waited  8.000\n",
      "26.0000 Customer  4: Here I am\n",
      "31.0000 Customer  2: Finished\n",
      "31.0000 Customer  3: Waited 17.000\n",
      "41.0000 Customer  3: Finished\n",
      "41.0000 Customer  4: Waited 15.000\n",
      "51.0000 Customer  4: Finished\n"
     ]
    }
   ],
   "source": [
    "#Setup \n",
    "random.seed(42)\n",
    "env = simpy.Environment()\n",
    "\n",
    "#Start the process and the simulation\n",
    "counter = simpy.(env, capacity=1)\n",
    "c = env.process(Source(env, timeInBank, arrInt, counter))\n",
    "env.run()"
   ]
  },
  {
   "cell_type": "code",
   "execution_count": null,
   "metadata": {},
   "outputs": [],
   "source": []
  }
 ],
 "metadata": {
  "kernelspec": {
   "display_name": "Python 3",
   "language": "python",
   "name": "python3"
  },
  "language_info": {
   "codemirror_mode": {
    "name": "ipython",
    "version": 3
   },
   "file_extension": ".py",
   "mimetype": "text/x-python",
   "name": "python",
   "nbconvert_exporter": "python",
   "pygments_lexer": "ipython3",
   "version": "3.6.4"
  }
 },
 "nbformat": 4,
 "nbformat_minor": 2
}
