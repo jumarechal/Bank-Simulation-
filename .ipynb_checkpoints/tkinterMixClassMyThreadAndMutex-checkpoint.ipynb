{
 "cells": [
  {
   "cell_type": "code",
   "execution_count": 1,
   "metadata": {},
   "outputs": [],
   "source": [
    "import tkinter as tk\n",
    "import time \n",
    "import threading \n",
    "import simpy\n",
    "import random\n",
    "import sys\n",
    "sys.setrecursionlimit(10000000)"
   ]
  },
  {
   "cell_type": "code",
   "execution_count": 74,
   "metadata": {},
   "outputs": [
    {
     "name": "stdout",
     "output_type": "stream",
     "text": [
      "[<myThread(Thread-807, initial)>]\n",
      "[<myThread(Thread-807, started 1964)>, <myThread(Thread-808, initial)>]\n",
      "[<myThread(Thread-807, started 1964)>, <myThread(Thread-808, started 9908)>, <myThread(Thread-809, initial)>]\n",
      "[<myThread(Thread-807, started 1964)>, <myThread(Thread-808, started 9908)>, <myThread(Thread-809, started 6696)>, <myThread(Thread-810, initial)>]\n",
      "[<myThread(Thread-807, started 1964)>, <myThread(Thread-808, started 9908)>, <myThread(Thread-809, started 6696)>, <myThread(Thread-810, started 7340)>, <myThread(Thread-811, initial)>]\n",
      "[<myThread(Thread-807, started 1964)>, <myThread(Thread-808, started 9908)>, <myThread(Thread-809, started 6696)>, <myThread(Thread-810, started 7340)>, <myThread(Thread-811, started 64)>, <myThread(Thread-812, initial)>]\n",
      "[<myThread(Thread-807, started 1964)>, <myThread(Thread-808, started 9908)>, <myThread(Thread-809, started 6696)>, <myThread(Thread-810, started 7340)>, <myThread(Thread-811, started 64)>, <myThread(Thread-812, started 7308)>, <myThread(Thread-813, initial)>]\n",
      "[<myThread(Thread-807, started 1964)>, <myThread(Thread-808, started 9908)>, <myThread(Thread-809, started 6696)>, <myThread(Thread-810, started 7340)>, <myThread(Thread-811, started 64)>, <myThread(Thread-812, started 7308)>, <myThread(Thread-813, started 9320)>, <myThread(Thread-814, initial)>]\n",
      "[<myThread(Thread-807, started 1964)>, <myThread(Thread-808, started 9908)>, <myThread(Thread-809, started 6696)>, <myThread(Thread-810, started 7340)>, <myThread(Thread-811, started 64)>, <myThread(Thread-812, started 7308)>, <myThread(Thread-813, started 9320)>, <myThread(Thread-814, started 9808)>, <myThread(Thread-815, initial)>]\n",
      "[<myThread(Thread-807, started 1964)>, <myThread(Thread-808, started 9908)>, <myThread(Thread-809, started 6696)>, <myThread(Thread-810, started 7340)>, <myThread(Thread-811, started 64)>, <myThread(Thread-812, started 7308)>, <myThread(Thread-813, started 9320)>, <myThread(Thread-814, started 9808)>, <myThread(Thread-815, started 2656)>, <myThread(Thread-816, initial)>]\n",
      "[<myThread(Thread-807, started 1964)>, <myThread(Thread-808, started 9908)>, <myThread(Thread-809, started 6696)>, <myThread(Thread-810, started 7340)>, <myThread(Thread-811, started 64)>, <myThread(Thread-812, started 7308)>, <myThread(Thread-813, started 9320)>, <myThread(Thread-814, started 9808)>, <myThread(Thread-815, started 2656)>, <myThread(Thread-816, started 1508)>, <myThread(Thread-817, initial)>]\n",
      "[<myThread(Thread-807, started 1964)>, <myThread(Thread-808, started 9908)>, <myThread(Thread-809, started 6696)>, <myThread(Thread-810, started 7340)>, <myThread(Thread-811, started 64)>, <myThread(Thread-812, started 7308)>, <myThread(Thread-813, started 9320)>, <myThread(Thread-814, started 9808)>, <myThread(Thread-815, started 2656)>, <myThread(Thread-816, started 1508)>, <myThread(Thread-817, started 5408)>, <myThread(Thread-818, initial)>]\n",
      "[<myThread(Thread-807, started 1964)>, <myThread(Thread-808, started 9908)>, <myThread(Thread-809, started 6696)>, <myThread(Thread-810, started 7340)>, <myThread(Thread-811, started 64)>, <myThread(Thread-812, started 7308)>, <myThread(Thread-813, started 9320)>, <myThread(Thread-814, started 9808)>, <myThread(Thread-815, started 2656)>, <myThread(Thread-816, started 1508)>, <myThread(Thread-817, started 5408)>, <myThread(Thread-818, started 448)>, <myThread(Thread-819, initial)>]\n",
      "[<myThread(Thread-807, started 1964)>, <myThread(Thread-808, started 9908)>, <myThread(Thread-809, started 6696)>, <myThread(Thread-810, started 7340)>, <myThread(Thread-811, started 64)>, <myThread(Thread-812, started 7308)>, <myThread(Thread-813, started 9320)>, <myThread(Thread-814, started 9808)>, <myThread(Thread-815, started 2656)>, <myThread(Thread-816, started 1508)>, <myThread(Thread-817, started 5408)>, <myThread(Thread-818, started 448)>, <myThread(Thread-819, started 7624)>, <myThread(Thread-820, initial)>]\n",
      "[<myThread(Thread-807, started 1964)>, <myThread(Thread-808, started 9908)>, <myThread(Thread-809, started 6696)>, <myThread(Thread-810, started 7340)>, <myThread(Thread-811, started 64)>, <myThread(Thread-812, started 7308)>, <myThread(Thread-813, started 9320)>, <myThread(Thread-814, started 9808)>, <myThread(Thread-815, started 2656)>, <myThread(Thread-816, started 1508)>, <myThread(Thread-817, started 5408)>, <myThread(Thread-818, started 448)>, <myThread(Thread-819, started 7624)>, <myThread(Thread-820, started 212)>, <myThread(Thread-821, initial)>]\n",
      "[<myThread(Thread-807, started 1964)>, <myThread(Thread-808, started 9908)>, <myThread(Thread-809, started 6696)>, <myThread(Thread-810, started 7340)>, <myThread(Thread-811, started 64)>, <myThread(Thread-812, started 7308)>, <myThread(Thread-813, started 9320)>, <myThread(Thread-814, started 9808)>, <myThread(Thread-815, started 2656)>, <myThread(Thread-816, started 1508)>, <myThread(Thread-817, started 5408)>, <myThread(Thread-818, started 448)>, <myThread(Thread-819, started 7624)>, <myThread(Thread-820, started 212)>, <myThread(Thread-821, started 10088)>, <myThread(Thread-822, initial)>]\n",
      "[<myThread(Thread-807, started 1964)>, <myThread(Thread-808, started 9908)>, <myThread(Thread-809, started 6696)>, <myThread(Thread-810, started 7340)>, <myThread(Thread-811, started 64)>, <myThread(Thread-812, started 7308)>, <myThread(Thread-813, started 9320)>, <myThread(Thread-814, started 9808)>, <myThread(Thread-815, started 2656)>, <myThread(Thread-816, started 1508)>, <myThread(Thread-817, started 5408)>, <myThread(Thread-818, started 448)>, <myThread(Thread-819, started 7624)>, <myThread(Thread-820, started 212)>, <myThread(Thread-821, started 10088)>, <myThread(Thread-822, started 9860)>, <myThread(Thread-823, initial)>]\n",
      "[<myThread(Thread-807, started 1964)>, <myThread(Thread-808, started 9908)>, <myThread(Thread-809, started 6696)>, <myThread(Thread-810, started 7340)>, <myThread(Thread-811, started 64)>, <myThread(Thread-812, started 7308)>, <myThread(Thread-813, started 9320)>, <myThread(Thread-814, started 9808)>, <myThread(Thread-815, started 2656)>, <myThread(Thread-816, started 1508)>, <myThread(Thread-817, started 5408)>, <myThread(Thread-818, started 448)>, <myThread(Thread-819, started 7624)>, <myThread(Thread-820, started 212)>, <myThread(Thread-821, started 10088)>, <myThread(Thread-822, started 9860)>, <myThread(Thread-823, started 9976)>, <myThread(Thread-824, initial)>]\n",
      "[<myThread(Thread-807, started 1964)>, <myThread(Thread-808, started 9908)>, <myThread(Thread-809, started 6696)>, <myThread(Thread-810, started 7340)>, <myThread(Thread-811, started 64)>, <myThread(Thread-812, started 7308)>, <myThread(Thread-813, started 9320)>, <myThread(Thread-814, started 9808)>, <myThread(Thread-815, started 2656)>, <myThread(Thread-816, started 1508)>, <myThread(Thread-817, started 5408)>, <myThread(Thread-818, started 448)>, <myThread(Thread-819, started 7624)>, <myThread(Thread-820, started 212)>, <myThread(Thread-821, started 10088)>, <myThread(Thread-822, started 9860)>, <myThread(Thread-823, started 9976)>, <myThread(Thread-824, started 3280)>, <myThread(Thread-825, initial)>]\n",
      "[<myThread(Thread-807, started 1964)>, <myThread(Thread-808, started 9908)>, <myThread(Thread-809, started 6696)>, <myThread(Thread-810, started 7340)>, <myThread(Thread-811, started 64)>, <myThread(Thread-812, started 7308)>, <myThread(Thread-813, started 9320)>, <myThread(Thread-814, started 9808)>, <myThread(Thread-815, started 2656)>, <myThread(Thread-816, started 1508)>, <myThread(Thread-817, started 5408)>, <myThread(Thread-818, started 448)>, <myThread(Thread-819, started 7624)>, <myThread(Thread-820, started 212)>, <myThread(Thread-821, started 10088)>, <myThread(Thread-822, started 9860)>, <myThread(Thread-823, started 9976)>, <myThread(Thread-824, started 3280)>, <myThread(Thread-825, started 9476)>, <myThread(Thread-826, initial)>]\n",
      "delete\n"
     ]
    },
    {
     "name": "stderr",
     "output_type": "stream",
     "text": [
      "Exception in thread Thread-807:\n",
      "Traceback (most recent call last):\n",
      "  File \"C:\\Users\\A15-03\\Anaconda3\\lib\\threading.py\", line 916, in _bootstrap_inner\n",
      "    self.run()\n",
      "  File \"<ipython-input-74-3ac99a220f16>\", line 69, in run\n",
      "    fenetre.after(1, self.run())\n",
      "  File \"<ipython-input-74-3ac99a220f16>\", line 69, in run\n",
      "    fenetre.after(1, self.run())\n",
      "  File \"<ipython-input-74-3ac99a220f16>\", line 69, in run\n",
      "    fenetre.after(1, self.run())\n",
      "  [Previous line repeated 196 more times]\n",
      "  File \"<ipython-input-74-3ac99a220f16>\", line 77, in run\n",
      "    t[i].arret()\n",
      "UnboundLocalError: local variable 'i' referenced before assignment\n",
      "\n"
     ]
    },
    {
     "name": "stdout",
     "output_type": "stream",
     "text": [
      "delete\n"
     ]
    },
    {
     "name": "stderr",
     "output_type": "stream",
     "text": [
      "Exception in thread Thread-808:\n",
      "Traceback (most recent call last):\n",
      "  File \"C:\\Users\\A15-03\\Anaconda3\\lib\\threading.py\", line 916, in _bootstrap_inner\n",
      "    self.run()\n",
      "  File \"<ipython-input-74-3ac99a220f16>\", line 69, in run\n",
      "    fenetre.after(1, self.run())\n",
      "  File \"<ipython-input-74-3ac99a220f16>\", line 69, in run\n",
      "    fenetre.after(1, self.run())\n",
      "  File \"<ipython-input-74-3ac99a220f16>\", line 69, in run\n",
      "    fenetre.after(1, self.run())\n",
      "  [Previous line repeated 226 more times]\n",
      "  File \"<ipython-input-74-3ac99a220f16>\", line 77, in run\n",
      "    t[i].arret()\n",
      "UnboundLocalError: local variable 'i' referenced before assignment\n",
      "\n"
     ]
    },
    {
     "name": "stdout",
     "output_type": "stream",
     "text": [
      "delete\n"
     ]
    },
    {
     "name": "stderr",
     "output_type": "stream",
     "text": [
      "Exception in thread Thread-809:\n",
      "Traceback (most recent call last):\n",
      "  File \"C:\\Users\\A15-03\\Anaconda3\\lib\\threading.py\", line 916, in _bootstrap_inner\n",
      "    self.run()\n",
      "  File \"<ipython-input-74-3ac99a220f16>\", line 69, in run\n",
      "    fenetre.after(1, self.run())\n",
      "  File \"<ipython-input-74-3ac99a220f16>\", line 69, in run\n",
      "    fenetre.after(1, self.run())\n",
      "  File \"<ipython-input-74-3ac99a220f16>\", line 69, in run\n",
      "    fenetre.after(1, self.run())\n",
      "  [Previous line repeated 477 more times]\n",
      "  File \"<ipython-input-74-3ac99a220f16>\", line 77, in run\n",
      "    t[i].arret()\n",
      "UnboundLocalError: local variable 'i' referenced before assignment\n",
      "\n"
     ]
    },
    {
     "name": "stdout",
     "output_type": "stream",
     "text": [
      "delete\n"
     ]
    },
    {
     "name": "stderr",
     "output_type": "stream",
     "text": [
      "Exception in thread Thread-810:\n",
      "Traceback (most recent call last):\n",
      "  File \"C:\\Users\\A15-03\\Anaconda3\\lib\\threading.py\", line 916, in _bootstrap_inner\n",
      "    self.run()\n",
      "  File \"<ipython-input-74-3ac99a220f16>\", line 69, in run\n",
      "    fenetre.after(1, self.run())\n",
      "  File \"<ipython-input-74-3ac99a220f16>\", line 69, in run\n",
      "    fenetre.after(1, self.run())\n",
      "  File \"<ipython-input-74-3ac99a220f16>\", line 69, in run\n",
      "    fenetre.after(1, self.run())\n",
      "  [Previous line repeated 511 more times]\n",
      "  File \"<ipython-input-74-3ac99a220f16>\", line 77, in run\n",
      "    t[i].arret()\n",
      "UnboundLocalError: local variable 'i' referenced before assignment\n",
      "\n"
     ]
    },
    {
     "name": "stdout",
     "output_type": "stream",
     "text": [
      "delete\n"
     ]
    },
    {
     "name": "stderr",
     "output_type": "stream",
     "text": [
      "Exception in thread Thread-811:\n",
      "Traceback (most recent call last):\n",
      "  File \"C:\\Users\\A15-03\\Anaconda3\\lib\\threading.py\", line 916, in _bootstrap_inner\n",
      "    self.run()\n",
      "  File \"<ipython-input-74-3ac99a220f16>\", line 69, in run\n",
      "    fenetre.after(1, self.run())\n",
      "  File \"<ipython-input-74-3ac99a220f16>\", line 69, in run\n",
      "    fenetre.after(1, self.run())\n",
      "  File \"<ipython-input-74-3ac99a220f16>\", line 69, in run\n",
      "    fenetre.after(1, self.run())\n",
      "  [Previous line repeated 759 more times]\n",
      "  File \"<ipython-input-74-3ac99a220f16>\", line 77, in run\n",
      "    t[i].arret()\n",
      "UnboundLocalError: local variable 'i' referenced before assignment\n",
      "\n"
     ]
    },
    {
     "name": "stdout",
     "output_type": "stream",
     "text": [
      "delete\n"
     ]
    },
    {
     "name": "stderr",
     "output_type": "stream",
     "text": [
      "Exception in thread Thread-812:\n",
      "Traceback (most recent call last):\n",
      "  File \"C:\\Users\\A15-03\\Anaconda3\\lib\\threading.py\", line 916, in _bootstrap_inner\n",
      "    self.run()\n",
      "  File \"<ipython-input-74-3ac99a220f16>\", line 69, in run\n",
      "    fenetre.after(1, self.run())\n",
      "  File \"<ipython-input-74-3ac99a220f16>\", line 69, in run\n",
      "    fenetre.after(1, self.run())\n",
      "  File \"<ipython-input-74-3ac99a220f16>\", line 69, in run\n",
      "    fenetre.after(1, self.run())\n",
      "  [Previous line repeated 790 more times]\n",
      "  File \"<ipython-input-74-3ac99a220f16>\", line 77, in run\n",
      "    t[i].arret()\n",
      "UnboundLocalError: local variable 'i' referenced before assignment\n",
      "\n"
     ]
    },
    {
     "name": "stdout",
     "output_type": "stream",
     "text": [
      "delete\n"
     ]
    },
    {
     "name": "stderr",
     "output_type": "stream",
     "text": [
      "Exception in thread Thread-813:\n",
      "Traceback (most recent call last):\n",
      "  File \"C:\\Users\\A15-03\\Anaconda3\\lib\\threading.py\", line 916, in _bootstrap_inner\n",
      "    self.run()\n",
      "  File \"<ipython-input-74-3ac99a220f16>\", line 69, in run\n",
      "    fenetre.after(1, self.run())\n",
      "  File \"<ipython-input-74-3ac99a220f16>\", line 69, in run\n",
      "    fenetre.after(1, self.run())\n",
      "  File \"<ipython-input-74-3ac99a220f16>\", line 69, in run\n",
      "    fenetre.after(1, self.run())\n",
      "  [Previous line repeated 1041 more times]\n",
      "  File \"<ipython-input-74-3ac99a220f16>\", line 77, in run\n",
      "    t[i].arret()\n",
      "UnboundLocalError: local variable 'i' referenced before assignment\n",
      "\n"
     ]
    },
    {
     "name": "stdout",
     "output_type": "stream",
     "text": [
      "delete\n"
     ]
    },
    {
     "name": "stderr",
     "output_type": "stream",
     "text": [
      "Exception in thread Thread-814:\n",
      "Traceback (most recent call last):\n",
      "  File \"C:\\Users\\A15-03\\Anaconda3\\lib\\threading.py\", line 916, in _bootstrap_inner\n",
      "    self.run()\n",
      "  File \"<ipython-input-74-3ac99a220f16>\", line 69, in run\n",
      "    fenetre.after(1, self.run())\n",
      "  File \"<ipython-input-74-3ac99a220f16>\", line 69, in run\n",
      "    fenetre.after(1, self.run())\n",
      "  File \"<ipython-input-74-3ac99a220f16>\", line 69, in run\n",
      "    fenetre.after(1, self.run())\n",
      "  [Previous line repeated 1071 more times]\n",
      "  File \"<ipython-input-74-3ac99a220f16>\", line 77, in run\n",
      "    t[i].arret()\n",
      "UnboundLocalError: local variable 'i' referenced before assignment\n",
      "\n"
     ]
    },
    {
     "name": "stdout",
     "output_type": "stream",
     "text": [
      "delete\n"
     ]
    },
    {
     "name": "stderr",
     "output_type": "stream",
     "text": [
      "Exception in thread Thread-815:\n",
      "Traceback (most recent call last):\n",
      "  File \"C:\\Users\\A15-03\\Anaconda3\\lib\\threading.py\", line 916, in _bootstrap_inner\n",
      "    self.run()\n",
      "  File \"<ipython-input-74-3ac99a220f16>\", line 69, in run\n",
      "    fenetre.after(1, self.run())\n",
      "  File \"<ipython-input-74-3ac99a220f16>\", line 69, in run\n",
      "    fenetre.after(1, self.run())\n",
      "  File \"<ipython-input-74-3ac99a220f16>\", line 69, in run\n",
      "    fenetre.after(1, self.run())\n",
      "  [Previous line repeated 1322 more times]\n",
      "  File \"<ipython-input-74-3ac99a220f16>\", line 77, in run\n",
      "    t[i].arret()\n",
      "UnboundLocalError: local variable 'i' referenced before assignment\n",
      "\n"
     ]
    },
    {
     "name": "stdout",
     "output_type": "stream",
     "text": [
      "delete\n"
     ]
    },
    {
     "name": "stderr",
     "output_type": "stream",
     "text": [
      "Exception in thread Thread-816:\n",
      "Traceback (most recent call last):\n",
      "  File \"C:\\Users\\A15-03\\Anaconda3\\lib\\threading.py\", line 916, in _bootstrap_inner\n",
      "    self.run()\n",
      "  File \"<ipython-input-74-3ac99a220f16>\", line 69, in run\n",
      "    fenetre.after(1, self.run())\n",
      "  File \"<ipython-input-74-3ac99a220f16>\", line 69, in run\n",
      "    fenetre.after(1, self.run())\n",
      "  File \"<ipython-input-74-3ac99a220f16>\", line 69, in run\n",
      "    fenetre.after(1, self.run())\n",
      "  [Previous line repeated 1349 more times]\n",
      "  File \"<ipython-input-74-3ac99a220f16>\", line 77, in run\n",
      "    t[i].arret()\n",
      "UnboundLocalError: local variable 'i' referenced before assignment\n",
      "\n"
     ]
    },
    {
     "name": "stdout",
     "output_type": "stream",
     "text": [
      "delete\n"
     ]
    },
    {
     "name": "stderr",
     "output_type": "stream",
     "text": [
      "Exception in thread Thread-817:\n",
      "Traceback (most recent call last):\n",
      "  File \"C:\\Users\\A15-03\\Anaconda3\\lib\\threading.py\", line 916, in _bootstrap_inner\n",
      "    self.run()\n",
      "  File \"<ipython-input-74-3ac99a220f16>\", line 69, in run\n",
      "    fenetre.after(1, self.run())\n",
      "  File \"<ipython-input-74-3ac99a220f16>\", line 69, in run\n",
      "    fenetre.after(1, self.run())\n",
      "  File \"<ipython-input-74-3ac99a220f16>\", line 69, in run\n",
      "    fenetre.after(1, self.run())\n",
      "  [Previous line repeated 1605 more times]\n",
      "  File \"<ipython-input-74-3ac99a220f16>\", line 77, in run\n",
      "    t[i].arret()\n",
      "UnboundLocalError: local variable 'i' referenced before assignment\n",
      "\n"
     ]
    },
    {
     "name": "stdout",
     "output_type": "stream",
     "text": [
      "delete\n"
     ]
    },
    {
     "name": "stderr",
     "output_type": "stream",
     "text": [
      "Exception in thread Thread-818:\n",
      "Traceback (most recent call last):\n",
      "  File \"C:\\Users\\A15-03\\Anaconda3\\lib\\threading.py\", line 916, in _bootstrap_inner\n",
      "    self.run()\n",
      "  File \"<ipython-input-74-3ac99a220f16>\", line 69, in run\n",
      "    fenetre.after(1, self.run())\n",
      "  File \"<ipython-input-74-3ac99a220f16>\", line 69, in run\n",
      "    fenetre.after(1, self.run())\n",
      "  File \"<ipython-input-74-3ac99a220f16>\", line 69, in run\n",
      "    fenetre.after(1, self.run())\n",
      "  [Previous line repeated 1632 more times]\n",
      "  File \"<ipython-input-74-3ac99a220f16>\", line 77, in run\n",
      "    t[i].arret()\n",
      "UnboundLocalError: local variable 'i' referenced before assignment\n",
      "\n"
     ]
    },
    {
     "name": "stdout",
     "output_type": "stream",
     "text": [
      "delete\n"
     ]
    },
    {
     "name": "stderr",
     "output_type": "stream",
     "text": [
      "Exception in thread Thread-819:\n",
      "Traceback (most recent call last):\n",
      "  File \"C:\\Users\\A15-03\\Anaconda3\\lib\\threading.py\", line 916, in _bootstrap_inner\n",
      "    self.run()\n",
      "  File \"<ipython-input-74-3ac99a220f16>\", line 69, in run\n",
      "    fenetre.after(1, self.run())\n",
      "  File \"<ipython-input-74-3ac99a220f16>\", line 69, in run\n",
      "    fenetre.after(1, self.run())\n",
      "  File \"<ipython-input-74-3ac99a220f16>\", line 69, in run\n",
      "    fenetre.after(1, self.run())\n",
      "  [Previous line repeated 1887 more times]\n",
      "  File \"<ipython-input-74-3ac99a220f16>\", line 77, in run\n",
      "    t[i].arret()\n",
      "UnboundLocalError: local variable 'i' referenced before assignment\n",
      "\n"
     ]
    },
    {
     "name": "stdout",
     "output_type": "stream",
     "text": [
      "delete\n"
     ]
    },
    {
     "name": "stderr",
     "output_type": "stream",
     "text": [
      "Exception in thread Thread-820:\n",
      "Traceback (most recent call last):\n",
      "  File \"C:\\Users\\A15-03\\Anaconda3\\lib\\threading.py\", line 916, in _bootstrap_inner\n",
      "    self.run()\n",
      "  File \"<ipython-input-74-3ac99a220f16>\", line 69, in run\n",
      "    fenetre.after(1, self.run())\n",
      "  File \"<ipython-input-74-3ac99a220f16>\", line 69, in run\n",
      "    fenetre.after(1, self.run())\n",
      "  File \"<ipython-input-74-3ac99a220f16>\", line 69, in run\n",
      "    fenetre.after(1, self.run())\n",
      "  [Previous line repeated 1915 more times]\n",
      "  File \"<ipython-input-74-3ac99a220f16>\", line 77, in run\n",
      "    t[i].arret()\n",
      "UnboundLocalError: local variable 'i' referenced before assignment\n",
      "\n"
     ]
    },
    {
     "name": "stdout",
     "output_type": "stream",
     "text": [
      "delete\n"
     ]
    },
    {
     "name": "stderr",
     "output_type": "stream",
     "text": [
      "Exception in thread Thread-821:\n",
      "Traceback (most recent call last):\n",
      "  File \"C:\\Users\\A15-03\\Anaconda3\\lib\\threading.py\", line 916, in _bootstrap_inner\n",
      "    self.run()\n",
      "  File \"<ipython-input-74-3ac99a220f16>\", line 69, in run\n",
      "    fenetre.after(1, self.run())\n",
      "  File \"<ipython-input-74-3ac99a220f16>\", line 69, in run\n",
      "    fenetre.after(1, self.run())\n",
      "  File \"<ipython-input-74-3ac99a220f16>\", line 69, in run\n",
      "    fenetre.after(1, self.run())\n",
      "  [Previous line repeated 2167 more times]\n",
      "  File \"<ipython-input-74-3ac99a220f16>\", line 77, in run\n",
      "    t[i].arret()\n",
      "UnboundLocalError: local variable 'i' referenced before assignment\n",
      "\n"
     ]
    },
    {
     "name": "stdout",
     "output_type": "stream",
     "text": [
      "delete\n"
     ]
    },
    {
     "name": "stderr",
     "output_type": "stream",
     "text": [
      "Exception in thread Thread-822:\n",
      "Traceback (most recent call last):\n",
      "  File \"C:\\Users\\A15-03\\Anaconda3\\lib\\threading.py\", line 916, in _bootstrap_inner\n",
      "    self.run()\n",
      "  File \"<ipython-input-74-3ac99a220f16>\", line 69, in run\n",
      "    fenetre.after(1, self.run())\n",
      "  File \"<ipython-input-74-3ac99a220f16>\", line 69, in run\n",
      "    fenetre.after(1, self.run())\n",
      "  File \"<ipython-input-74-3ac99a220f16>\", line 69, in run\n",
      "    fenetre.after(1, self.run())\n",
      "  [Previous line repeated 2195 more times]\n",
      "  File \"<ipython-input-74-3ac99a220f16>\", line 77, in run\n",
      "    t[i].arret()\n",
      "UnboundLocalError: local variable 'i' referenced before assignment\n",
      "\n"
     ]
    },
    {
     "name": "stdout",
     "output_type": "stream",
     "text": [
      "delete\n"
     ]
    },
    {
     "name": "stderr",
     "output_type": "stream",
     "text": [
      "Exception in thread Thread-823:\n",
      "Traceback (most recent call last):\n",
      "  File \"C:\\Users\\A15-03\\Anaconda3\\lib\\threading.py\", line 916, in _bootstrap_inner\n",
      "    self.run()\n",
      "  File \"<ipython-input-74-3ac99a220f16>\", line 69, in run\n",
      "    fenetre.after(1, self.run())\n",
      "  File \"<ipython-input-74-3ac99a220f16>\", line 69, in run\n",
      "    fenetre.after(1, self.run())\n",
      "  File \"<ipython-input-74-3ac99a220f16>\", line 69, in run\n",
      "    fenetre.after(1, self.run())\n",
      "  [Previous line repeated 2448 more times]\n",
      "  File \"<ipython-input-74-3ac99a220f16>\", line 77, in run\n",
      "    t[i].arret()\n",
      "UnboundLocalError: local variable 'i' referenced before assignment\n",
      "\n"
     ]
    },
    {
     "name": "stdout",
     "output_type": "stream",
     "text": [
      "delete\n"
     ]
    },
    {
     "name": "stderr",
     "output_type": "stream",
     "text": [
      "Exception in thread Thread-824:\n",
      "Traceback (most recent call last):\n",
      "  File \"C:\\Users\\A15-03\\Anaconda3\\lib\\threading.py\", line 916, in _bootstrap_inner\n",
      "    self.run()\n",
      "  File \"<ipython-input-74-3ac99a220f16>\", line 69, in run\n",
      "    fenetre.after(1, self.run())\n",
      "  File \"<ipython-input-74-3ac99a220f16>\", line 69, in run\n",
      "    fenetre.after(1, self.run())\n",
      "  File \"<ipython-input-74-3ac99a220f16>\", line 69, in run\n",
      "    fenetre.after(1, self.run())\n",
      "  [Previous line repeated 2475 more times]\n",
      "  File \"<ipython-input-74-3ac99a220f16>\", line 77, in run\n",
      "    t[i].arret()\n",
      "UnboundLocalError: local variable 'i' referenced before assignment\n",
      "\n"
     ]
    },
    {
     "name": "stdout",
     "output_type": "stream",
     "text": [
      "delete\n"
     ]
    },
    {
     "name": "stderr",
     "output_type": "stream",
     "text": [
      "Exception in thread Thread-825:\n",
      "Traceback (most recent call last):\n",
      "  File \"C:\\Users\\A15-03\\Anaconda3\\lib\\threading.py\", line 916, in _bootstrap_inner\n",
      "    self.run()\n",
      "  File \"<ipython-input-74-3ac99a220f16>\", line 69, in run\n",
      "    fenetre.after(1, self.run())\n",
      "  File \"<ipython-input-74-3ac99a220f16>\", line 69, in run\n",
      "    fenetre.after(1, self.run())\n",
      "  File \"<ipython-input-74-3ac99a220f16>\", line 69, in run\n",
      "    fenetre.after(1, self.run())\n",
      "  [Previous line repeated 2729 more times]\n",
      "  File \"<ipython-input-74-3ac99a220f16>\", line 77, in run\n",
      "    t[i].arret()\n",
      "UnboundLocalError: local variable 'i' referenced before assignment\n",
      "\n"
     ]
    },
    {
     "name": "stdout",
     "output_type": "stream",
     "text": [
      "delete\n"
     ]
    },
    {
     "name": "stderr",
     "output_type": "stream",
     "text": [
      "Exception in thread Thread-826:\n",
      "Traceback (most recent call last):\n",
      "  File \"C:\\Users\\A15-03\\Anaconda3\\lib\\threading.py\", line 916, in _bootstrap_inner\n",
      "    self.run()\n",
      "  File \"<ipython-input-74-3ac99a220f16>\", line 69, in run\n",
      "    fenetre.after(1, self.run())\n",
      "  File \"<ipython-input-74-3ac99a220f16>\", line 69, in run\n",
      "    fenetre.after(1, self.run())\n",
      "  File \"<ipython-input-74-3ac99a220f16>\", line 69, in run\n",
      "    fenetre.after(1, self.run())\n",
      "  [Previous line repeated 2755 more times]\n",
      "  File \"<ipython-input-74-3ac99a220f16>\", line 77, in run\n",
      "    t[i].arret()\n",
      "UnboundLocalError: local variable 'i' referenced before assignment\n",
      "\n"
     ]
    }
   ],
   "source": [
    "fenetre = tk.Tk()\n",
    "\n",
    "canvas = tk.Canvas(fenetre, width=500, height=500, background='yellow')\n",
    "rect = canvas.create_rectangle(100, 100, 150, 400,fill='red')\n",
    "line = canvas.create_line(300,235,300,285, fill='red')\n",
    "c = []\n",
    "coords = []\n",
    "t = []\n",
    "wait = []\n",
    "coord_rect = (100,100,150,400)\n",
    "coord_line = (300,235,300,285)\n",
    "timeInBank = 5.0\n",
    "nb_counter = 2\n",
    "counter = [True]*nb_counter\n",
    "\n",
    "\n",
    "class myThread(threading.Thread):\n",
    "\n",
    "    def __init__(self, i):\n",
    "        threading.Thread.__init__(self)\n",
    "        self.i = i\n",
    "        self.going = False\n",
    "        self.comptoir = -1\n",
    "        self.deplacement = 0\n",
    "        \n",
    "    def run(self):\n",
    "        self.running = True\n",
    "        global wait\n",
    "        global counter_dispo \n",
    "        global counter_avail\n",
    "        while(self.running): \n",
    "            if(coords[self.i][0] > coord_rect[2] ):\n",
    "                if(coords[self.i][0] > coord_line[0]):\n",
    "                    if(self.i==0):\n",
    "                        coords[self.i] = (coords[self.i][0] - 1, coords[self.i][1])\n",
    "                        canvas.coords(c[self.i], coords[self.i][0], coords[self.i][1], coords[self.i][0]+20, coords[self.i][1]+20)\n",
    "                    if(self.i>0 and coords[self.i][0] > coords[self.i-1][0]+25 ):\n",
    "                        coords[self.i] = (coords[self.i][0] - 1, coords[self.i][1])\n",
    "                        canvas.coords(c[self.i], coords[self.i][0], coords[self.i][1], coords[self.i][0]+20, coords[self.i][1]+20)\n",
    "                    else: \n",
    "                        wait[self.i] = wait[self.i] + 1 \n",
    "                        if(wait[self.i] > 50):\n",
    "                            if(wait[self.i] > 400):\n",
    "                                canvas.itemconfigure(c[self.i], fill='purple')\n",
    "                            else:\n",
    "                                canvas.itemconfigure(c[self.i], fill='violet')\n",
    "                else:\n",
    "                    i = 0  \n",
    "                    if(self.comptoir == -1):\n",
    "                        while(i != len(counter) and not counter[i]):\n",
    "                            i = i + 1 \n",
    "                        if(i != len(counter) and counter[i]): \n",
    "                            self.going = True \n",
    "                            self.comptoir = i\n",
    "                            self.deplacement = (2*i - (nb_counter - 1))/nb_counter\n",
    "                            counter[i] = False\n",
    "                    if(self.going):\n",
    "                        coords[self.i] = (coords[self.i][0] - 1, coords[self.i][1] + self.deplacement)\n",
    "                        canvas.coords(c[self.i], coords[self.i][0], coords[self.i][1], coords[self.i][0]+20, coords[self.i][1]+20)\n",
    "                        fenetre.update()\n",
    "                    else: \n",
    "                        wait[self.i] = wait[self.i] + 1 \n",
    "                        if(wait[self.i] > 50):\n",
    "                            if(wait[self.i] > 400):\n",
    "                                canvas.itemconfigure(c[self.i], fill='purple')\n",
    "                            else:\n",
    "                                canvas.itemconfigure(c[self.i], fill='violet')\n",
    "                time.sleep(0.001)\n",
    "                fenetre.after(1, self.run())\n",
    "                \n",
    "            if(coords[self.i][0] <= coord_rect[2]):\n",
    "                time.sleep(2.0)\n",
    "                canvas.delete(fenetre, c[self.i])\n",
    "                print(\"delete\")\n",
    "                coords[self.i] = (0,0)\n",
    "                counter[self.comptoir] = True \n",
    "                t[i].arret()\n",
    "                \n",
    "                 \n",
    "                \n",
    "    def arret(self): \n",
    "        self.running = False \n",
    "        \n",
    "def source():\n",
    "    time.sleep(2.0)\n",
    "    for i in range(0,20): #fonctionne pour 3 pas pour 4 ou 5 \n",
    "        c.append(canvas.create_rectangle(350+30*i,250,270+30*i,270,fill='blue'))\n",
    "        fenetre.update()\n",
    "        \n",
    "        coords.append((350+30*i, 250))    \n",
    "        wait.append(0)\n",
    "        t.append(myThread(i))\n",
    "        print(t)\n",
    "        t[i].start()\n",
    "        \n",
    "        \n",
    "        \n",
    "random.seed()  \n",
    "\n",
    "canvas.pack()\n",
    "draw = threading.Thread(target=source)\n",
    "draw.start()\n",
    "\n",
    "\n",
    "fenetre.mainloop()"
   ]
  },
  {
   "cell_type": "code",
   "execution_count": null,
   "metadata": {},
   "outputs": [
    {
     "name": "stdout",
     "output_type": "stream",
     "text": [
      "delete\n"
     ]
    },
    {
     "name": "stderr",
     "output_type": "stream",
     "text": [
      "Exception in thread Thread-9:\n",
      "Traceback (most recent call last):\n",
      "  File \"C:\\Users\\A15-03\\Anaconda3\\lib\\threading.py\", line 916, in _bootstrap_inner\n",
      "    self.run()\n",
      "  File \"<ipython-input-2-8d716ba38982>\", line 78, in run\n",
      "    fenetre.after(1, self.run())\n",
      "  File \"<ipython-input-2-8d716ba38982>\", line 78, in run\n",
      "    fenetre.after(1, self.run())\n",
      "  File \"<ipython-input-2-8d716ba38982>\", line 78, in run\n",
      "    fenetre.after(1, self.run())\n",
      "  [Previous line repeated 256 more times]\n",
      "  File \"<ipython-input-2-8d716ba38982>\", line 89, in run\n",
      "    t[i].arret()\n",
      "UnboundLocalError: local variable 'i' referenced before assignment\n",
      "\n"
     ]
    },
    {
     "name": "stdout",
     "output_type": "stream",
     "text": [
      "delete\n"
     ]
    },
    {
     "name": "stderr",
     "output_type": "stream",
     "text": [
      "Exception in thread Thread-10:\n",
      "Traceback (most recent call last):\n",
      "  File \"C:\\Users\\A15-03\\Anaconda3\\lib\\threading.py\", line 916, in _bootstrap_inner\n",
      "    self.run()\n",
      "  File \"<ipython-input-2-8d716ba38982>\", line 78, in run\n",
      "    fenetre.after(1, self.run())\n",
      "  File \"<ipython-input-2-8d716ba38982>\", line 78, in run\n",
      "    fenetre.after(1, self.run())\n",
      "  File \"<ipython-input-2-8d716ba38982>\", line 78, in run\n",
      "    fenetre.after(1, self.run())\n",
      "  [Previous line repeated 286 more times]\n",
      "  File \"<ipython-input-2-8d716ba38982>\", line 89, in run\n",
      "    t[i].arret()\n",
      "UnboundLocalError: local variable 'i' referenced before assignment\n",
      "\n"
     ]
    },
    {
     "name": "stdout",
     "output_type": "stream",
     "text": [
      "delete\n"
     ]
    },
    {
     "name": "stderr",
     "output_type": "stream",
     "text": [
      "Exception in thread Thread-8:\n",
      "Traceback (most recent call last):\n",
      "  File \"C:\\Users\\A15-03\\Anaconda3\\lib\\threading.py\", line 916, in _bootstrap_inner\n",
      "    self.run()\n",
      "  File \"<ipython-input-2-8d716ba38982>\", line 78, in run\n",
      "    fenetre.after(1, self.run())\n",
      "  File \"<ipython-input-2-8d716ba38982>\", line 78, in run\n",
      "    fenetre.after(1, self.run())\n",
      "  File \"<ipython-input-2-8d716ba38982>\", line 78, in run\n",
      "    fenetre.after(1, self.run())\n",
      "  [Previous line repeated 226 more times]\n",
      "  File \"<ipython-input-2-8d716ba38982>\", line 89, in run\n",
      "    t[i].arret()\n",
      "UnboundLocalError: local variable 'i' referenced before assignment\n",
      "\n"
     ]
    },
    {
     "name": "stdout",
     "output_type": "stream",
     "text": [
      "delete\n"
     ]
    },
    {
     "name": "stderr",
     "output_type": "stream",
     "text": [
      "Exception in thread Thread-11:\n",
      "Traceback (most recent call last):\n",
      "  File \"C:\\Users\\A15-03\\Anaconda3\\lib\\threading.py\", line 916, in _bootstrap_inner\n",
      "    self.run()\n",
      "  File \"<ipython-input-2-8d716ba38982>\", line 78, in run\n",
      "    fenetre.after(1, self.run())\n",
      "  File \"<ipython-input-2-8d716ba38982>\", line 78, in run\n",
      "    fenetre.after(1, self.run())\n",
      "  File \"<ipython-input-2-8d716ba38982>\", line 78, in run\n",
      "    fenetre.after(1, self.run())\n",
      "  [Previous line repeated 316 more times]\n",
      "  File \"<ipython-input-2-8d716ba38982>\", line 89, in run\n",
      "    t[i].arret()\n",
      "UnboundLocalError: local variable 'i' referenced before assignment\n",
      "\n"
     ]
    },
    {
     "name": "stdout",
     "output_type": "stream",
     "text": [
      "delete\n"
     ]
    },
    {
     "name": "stderr",
     "output_type": "stream",
     "text": [
      "Exception in thread Thread-7:\n",
      "Traceback (most recent call last):\n",
      "  File \"C:\\Users\\A15-03\\Anaconda3\\lib\\threading.py\", line 916, in _bootstrap_inner\n",
      "    self.run()\n",
      "  File \"<ipython-input-2-8d716ba38982>\", line 78, in run\n",
      "    fenetre.after(1, self.run())\n",
      "  File \"<ipython-input-2-8d716ba38982>\", line 78, in run\n",
      "    fenetre.after(1, self.run())\n",
      "  File \"<ipython-input-2-8d716ba38982>\", line 78, in run\n",
      "    fenetre.after(1, self.run())\n",
      "  [Previous line repeated 196 more times]\n",
      "  File \"<ipython-input-2-8d716ba38982>\", line 89, in run\n",
      "    t[i].arret()\n",
      "UnboundLocalError: local variable 'i' referenced before assignment\n",
      "\n"
     ]
    },
    {
     "name": "stdout",
     "output_type": "stream",
     "text": [
      "delete\n",
      "delete\n",
      "delete\n"
     ]
    },
    {
     "name": "stderr",
     "output_type": "stream",
     "text": [
      "Exception in thread Thread-16:\n",
      "Traceback (most recent call last):\n",
      "  File \"C:\\Users\\A15-03\\Anaconda3\\lib\\threading.py\", line 916, in _bootstrap_inner\n",
      "    self.run()\n",
      "  File \"<ipython-input-2-8d716ba38982>\", line 78, in run\n",
      "    fenetre.after(1, self.run())\n",
      "  File \"<ipython-input-2-8d716ba38982>\", line 78, in run\n",
      "    fenetre.after(1, self.run())\n",
      "  File \"<ipython-input-2-8d716ba38982>\", line 78, in run\n",
      "    fenetre.after(1, self.run())\n",
      "  [Previous line repeated 727 more times]\n",
      "  File \"<ipython-input-2-8d716ba38982>\", line 89, in run\n",
      "    t[i].arret()\n",
      "UnboundLocalError: local variable 'i' referenced before assignment\n",
      "Exception in thread Thread-12:\n",
      "Traceback (most recent call last):\n",
      "  File \"C:\\Users\\A15-03\\Anaconda3\\lib\\threading.py\", line 916, in _bootstrap_inner\n",
      "    self.run()\n",
      "  File \"<ipython-input-2-8d716ba38982>\", line 78, in run\n",
      "    fenetre.after(1, self.run())\n",
      "  File \"<ipython-input-2-8d716ba38982>\", line 78, in run\n",
      "    fenetre.after(1, self.run())\n",
      "  File \"<ipython-input-2-8d716ba38982>\", line 78, in run\n",
      "    fenetre.after(1, self.run())\n",
      "  [Previous line repeated 346 more times]\n",
      "  File \"<ipython-input-2-8d716ba38982>\", line 89, in run\n",
      "    t[i].arret()\n",
      "UnboundLocalError: local variable 'i' referenced before assignment\n",
      "\n",
      "\n",
      "Exception in thread Thread-13:\n",
      "Traceback (most recent call last):\n",
      "  File \"C:\\Users\\A15-03\\Anaconda3\\lib\\threading.py\", line 916, in _bootstrap_inner\n",
      "    self.run()\n",
      "  File \"<ipython-input-2-8d716ba38982>\", line 78, in run\n",
      "    fenetre.after(1, self.run())\n",
      "  File \"<ipython-input-2-8d716ba38982>\", line 78, in run\n",
      "    fenetre.after(1, self.run())\n",
      "  File \"<ipython-input-2-8d716ba38982>\", line 78, in run\n",
      "    fenetre.after(1, self.run())\n",
      "  [Previous line repeated 534 more times]\n",
      "  File \"<ipython-input-2-8d716ba38982>\", line 89, in run\n",
      "    t[i].arret()\n",
      "UnboundLocalError: local variable 'i' referenced before assignment\n",
      "\n"
     ]
    },
    {
     "name": "stdout",
     "output_type": "stream",
     "text": [
      "delete\n"
     ]
    },
    {
     "name": "stderr",
     "output_type": "stream",
     "text": [
      "Exception in thread Thread-15:\n",
      "Traceback (most recent call last):\n",
      "  File \"C:\\Users\\A15-03\\Anaconda3\\lib\\threading.py\", line 916, in _bootstrap_inner\n",
      "    self.run()\n",
      "  File \"<ipython-input-2-8d716ba38982>\", line 78, in run\n",
      "    fenetre.after(1, self.run())\n",
      "  File \"<ipython-input-2-8d716ba38982>\", line 78, in run\n",
      "    fenetre.after(1, self.run())\n",
      "  File \"<ipython-input-2-8d716ba38982>\", line 78, in run\n",
      "    fenetre.after(1, self.run())\n",
      "  [Previous line repeated 698 more times]\n",
      "  File \"<ipython-input-2-8d716ba38982>\", line 89, in run\n",
      "    t[i].arret()\n",
      "UnboundLocalError: local variable 'i' referenced before assignment\n",
      "\n"
     ]
    },
    {
     "name": "stdout",
     "output_type": "stream",
     "text": [
      "delete\n"
     ]
    },
    {
     "name": "stderr",
     "output_type": "stream",
     "text": [
      "Exception in thread Thread-14:\n",
      "Traceback (most recent call last):\n",
      "  File \"C:\\Users\\A15-03\\Anaconda3\\lib\\threading.py\", line 916, in _bootstrap_inner\n",
      "    self.run()\n",
      "  File \"<ipython-input-2-8d716ba38982>\", line 78, in run\n",
      "    fenetre.after(1, self.run())\n",
      "  File \"<ipython-input-2-8d716ba38982>\", line 78, in run\n",
      "    fenetre.after(1, self.run())\n",
      "  File \"<ipython-input-2-8d716ba38982>\", line 78, in run\n",
      "    fenetre.after(1, self.run())\n",
      "  [Previous line repeated 630 more times]\n",
      "  File \"<ipython-input-2-8d716ba38982>\", line 89, in run\n",
      "    t[i].arret()\n",
      "UnboundLocalError: local variable 'i' referenced before assignment\n",
      "\n"
     ]
    },
    {
     "name": "stdout",
     "output_type": "stream",
     "text": [
      "delete\n"
     ]
    },
    {
     "name": "stderr",
     "output_type": "stream",
     "text": [
      "Exception in thread Thread-20:\n",
      "Traceback (most recent call last):\n",
      "  File \"C:\\Users\\A15-03\\Anaconda3\\lib\\threading.py\", line 916, in _bootstrap_inner\n",
      "    self.run()\n",
      "  File \"<ipython-input-2-8d716ba38982>\", line 78, in run\n",
      "    fenetre.after(1, self.run())\n",
      "  File \"<ipython-input-2-8d716ba38982>\", line 78, in run\n",
      "    fenetre.after(1, self.run())\n",
      "  File \"<ipython-input-2-8d716ba38982>\", line 78, in run\n",
      "    fenetre.after(1, self.run())\n",
      "  [Previous line repeated 1007 more times]\n",
      "  File \"<ipython-input-2-8d716ba38982>\", line 89, in run\n",
      "    t[i].arret()\n",
      "UnboundLocalError: local variable 'i' referenced before assignment\n",
      "\n"
     ]
    },
    {
     "name": "stdout",
     "output_type": "stream",
     "text": [
      "delete\n"
     ]
    },
    {
     "name": "stderr",
     "output_type": "stream",
     "text": [
      "Exception in thread Thread-19:\n",
      "Traceback (most recent call last):\n",
      "  File \"C:\\Users\\A15-03\\Anaconda3\\lib\\threading.py\", line 916, in _bootstrap_inner\n",
      "    self.run()\n",
      "  File \"<ipython-input-2-8d716ba38982>\", line 78, in run\n",
      "    fenetre.after(1, self.run())\n",
      "  File \"<ipython-input-2-8d716ba38982>\", line 78, in run\n",
      "    fenetre.after(1, self.run())\n",
      "  File \"<ipython-input-2-8d716ba38982>\", line 78, in run\n",
      "    fenetre.after(1, self.run())\n",
      "  [Previous line repeated 984 more times]\n",
      "  File \"<ipython-input-2-8d716ba38982>\", line 89, in run\n",
      "    t[i].arret()\n",
      "UnboundLocalError: local variable 'i' referenced before assignment\n",
      "\n"
     ]
    },
    {
     "name": "stdout",
     "output_type": "stream",
     "text": [
      "delete\n"
     ]
    },
    {
     "name": "stderr",
     "output_type": "stream",
     "text": [
      "Exception in thread Thread-17:\n",
      "Traceback (most recent call last):\n",
      "  File \"C:\\Users\\A15-03\\Anaconda3\\lib\\threading.py\", line 916, in _bootstrap_inner\n",
      "    self.run()\n",
      "  File \"<ipython-input-2-8d716ba38982>\", line 78, in run\n",
      "    fenetre.after(1, self.run())\n",
      "  File \"<ipython-input-2-8d716ba38982>\", line 78, in run\n",
      "    fenetre.after(1, self.run())\n",
      "  File \"<ipython-input-2-8d716ba38982>\", line 78, in run\n",
      "    fenetre.after(1, self.run())\n",
      "  [Previous line repeated 861 more times]\n",
      "  File \"<ipython-input-2-8d716ba38982>\", line 89, in run\n",
      "    t[i].arret()\n",
      "UnboundLocalError: local variable 'i' referenced before assignment\n",
      "\n"
     ]
    },
    {
     "name": "stdout",
     "output_type": "stream",
     "text": [
      "delete\n"
     ]
    },
    {
     "name": "stderr",
     "output_type": "stream",
     "text": [
      "Exception in thread Thread-18:\n",
      "Traceback (most recent call last):\n",
      "  File \"C:\\Users\\A15-03\\Anaconda3\\lib\\threading.py\", line 916, in _bootstrap_inner\n",
      "    self.run()\n",
      "  File \"<ipython-input-2-8d716ba38982>\", line 78, in run\n",
      "    fenetre.after(1, self.run())\n",
      "  File \"<ipython-input-2-8d716ba38982>\", line 78, in run\n",
      "    fenetre.after(1, self.run())\n",
      "  File \"<ipython-input-2-8d716ba38982>\", line 78, in run\n",
      "    fenetre.after(1, self.run())\n",
      "  [Previous line repeated 952 more times]\n",
      "  File \"<ipython-input-2-8d716ba38982>\", line 89, in run\n",
      "    t[i].arret()\n",
      "UnboundLocalError: local variable 'i' referenced before assignment\n",
      "\n"
     ]
    },
    {
     "name": "stdout",
     "output_type": "stream",
     "text": [
      "delete\n"
     ]
    },
    {
     "name": "stderr",
     "output_type": "stream",
     "text": [
      "Exception in thread Thread-21:\n",
      "Traceback (most recent call last):\n",
      "  File \"C:\\Users\\A15-03\\Anaconda3\\lib\\threading.py\", line 916, in _bootstrap_inner\n",
      "    self.run()\n",
      "  File \"<ipython-input-2-8d716ba38982>\", line 78, in run\n",
      "    fenetre.after(1, self.run())\n",
      "  File \"<ipython-input-2-8d716ba38982>\", line 78, in run\n",
      "    fenetre.after(1, self.run())\n",
      "  File \"<ipython-input-2-8d716ba38982>\", line 78, in run\n",
      "    fenetre.after(1, self.run())\n",
      "  [Previous line repeated 1120 more times]\n",
      "  File \"<ipython-input-2-8d716ba38982>\", line 89, in run\n",
      "    t[i].arret()\n",
      "UnboundLocalError: local variable 'i' referenced before assignment\n",
      "\n"
     ]
    },
    {
     "name": "stdout",
     "output_type": "stream",
     "text": [
      "delete\n"
     ]
    },
    {
     "name": "stderr",
     "output_type": "stream",
     "text": [
      "Exception in thread Thread-24:\n",
      "Traceback (most recent call last):\n",
      "  File \"C:\\Users\\A15-03\\Anaconda3\\lib\\threading.py\", line 916, in _bootstrap_inner\n",
      "    self.run()\n",
      "  File \"<ipython-input-2-8d716ba38982>\", line 78, in run\n",
      "    fenetre.after(1, self.run())\n",
      "  File \"<ipython-input-2-8d716ba38982>\", line 78, in run\n",
      "    fenetre.after(1, self.run())\n",
      "  File \"<ipython-input-2-8d716ba38982>\", line 78, in run\n",
      "    fenetre.after(1, self.run())\n",
      "  [Previous line repeated 1330 more times]\n",
      "  File \"<ipython-input-2-8d716ba38982>\", line 89, in run\n",
      "    t[i].arret()\n",
      "UnboundLocalError: local variable 'i' referenced before assignment\n",
      "\n"
     ]
    },
    {
     "name": "stdout",
     "output_type": "stream",
     "text": [
      "delete\n"
     ]
    },
    {
     "name": "stderr",
     "output_type": "stream",
     "text": [
      "Exception in thread Thread-23:\n",
      "Traceback (most recent call last):\n",
      "  File \"C:\\Users\\A15-03\\Anaconda3\\lib\\threading.py\", line 916, in _bootstrap_inner\n",
      "    self.run()\n",
      "  File \"<ipython-input-2-8d716ba38982>\", line 78, in run\n",
      "    fenetre.after(1, self.run())\n",
      "  File \"<ipython-input-2-8d716ba38982>\", line 78, in run\n",
      "    fenetre.after(1, self.run())\n",
      "  File \"<ipython-input-2-8d716ba38982>\", line 78, in run\n",
      "    fenetre.after(1, self.run())\n",
      "  [Previous line repeated 1291 more times]\n",
      "  File \"<ipython-input-2-8d716ba38982>\", line 89, in run\n",
      "    t[i].arret()\n",
      "UnboundLocalError: local variable 'i' referenced before assignment\n",
      "\n"
     ]
    },
    {
     "name": "stdout",
     "output_type": "stream",
     "text": [
      "delete\n"
     ]
    },
    {
     "name": "stderr",
     "output_type": "stream",
     "text": [
      "Exception in thread Thread-22:\n",
      "Traceback (most recent call last):\n",
      "  File \"C:\\Users\\A15-03\\Anaconda3\\lib\\threading.py\", line 916, in _bootstrap_inner\n",
      "    self.run()\n",
      "  File \"<ipython-input-2-8d716ba38982>\", line 78, in run\n",
      "    fenetre.after(1, self.run())\n",
      "  File \"<ipython-input-2-8d716ba38982>\", line 78, in run\n",
      "    fenetre.after(1, self.run())\n",
      "  File \"<ipython-input-2-8d716ba38982>\", line 78, in run\n",
      "    fenetre.after(1, self.run())\n",
      "  [Previous line repeated 1249 more times]\n",
      "  File \"<ipython-input-2-8d716ba38982>\", line 89, in run\n",
      "    t[i].arret()\n",
      "UnboundLocalError: local variable 'i' referenced before assignment\n",
      "\n"
     ]
    },
    {
     "name": "stdout",
     "output_type": "stream",
     "text": [
      "delete\n"
     ]
    },
    {
     "name": "stderr",
     "output_type": "stream",
     "text": [
      "Exception in thread Thread-25:\n",
      "Traceback (most recent call last):\n",
      "  File \"C:\\Users\\A15-03\\Anaconda3\\lib\\threading.py\", line 916, in _bootstrap_inner\n",
      "    self.run()\n",
      "  File \"<ipython-input-2-8d716ba38982>\", line 78, in run\n",
      "    fenetre.after(1, self.run())\n",
      "  File \"<ipython-input-2-8d716ba38982>\", line 78, in run\n",
      "    fenetre.after(1, self.run())\n",
      "  File \"<ipython-input-2-8d716ba38982>\", line 78, in run\n",
      "    fenetre.after(1, self.run())\n",
      "  [Previous line repeated 1537 more times]\n",
      "  File \"<ipython-input-2-8d716ba38982>\", line 89, in run\n",
      "    t[i].arret()\n",
      "UnboundLocalError: local variable 'i' referenced before assignment\n",
      "\n"
     ]
    },
    {
     "name": "stdout",
     "output_type": "stream",
     "text": [
      "delete\n"
     ]
    },
    {
     "name": "stderr",
     "output_type": "stream",
     "text": [
      "Exception in thread Thread-28:\n",
      "Traceback (most recent call last):\n",
      "  File \"C:\\Users\\A15-03\\Anaconda3\\lib\\threading.py\", line 916, in _bootstrap_inner\n",
      "    self.run()\n",
      "  File \"<ipython-input-2-8d716ba38982>\", line 78, in run\n",
      "    fenetre.after(1, self.run())\n",
      "  File \"<ipython-input-2-8d716ba38982>\", line 78, in run\n",
      "    fenetre.after(1, self.run())\n",
      "  File \"<ipython-input-2-8d716ba38982>\", line 78, in run\n",
      "    fenetre.after(1, self.run())\n",
      "  [Previous line repeated 1630 more times]\n",
      "  File \"<ipython-input-2-8d716ba38982>\", line 89, in run\n",
      "    t[i].arret()\n",
      "UnboundLocalError: local variable 'i' referenced before assignment\n",
      "\n"
     ]
    },
    {
     "name": "stdout",
     "output_type": "stream",
     "text": [
      "delete\n",
      "delete\n"
     ]
    },
    {
     "name": "stderr",
     "output_type": "stream",
     "text": [
      "Exception in thread Thread-29:\n",
      "Traceback (most recent call last):\n",
      "  File \"C:\\Users\\A15-03\\Anaconda3\\lib\\threading.py\", line 916, in _bootstrap_inner\n",
      "    self.run()\n",
      "  File \"<ipython-input-2-8d716ba38982>\", line 78, in run\n",
      "    fenetre.after(1, self.run())\n",
      "  File \"<ipython-input-2-8d716ba38982>\", line 78, in run\n",
      "    fenetre.after(1, self.run())\n",
      "  File \"<ipython-input-2-8d716ba38982>\", line 78, in run\n",
      "    fenetre.after(1, self.run())\n",
      "  [Previous line repeated 1658 more times]\n",
      "  File \"<ipython-input-2-8d716ba38982>\", line 89, in run\n",
      "    t[i].arret()\n",
      "UnboundLocalError: local variable 'i' referenced before assignment\n",
      "\n",
      "Exception in thread Thread-27:\n",
      "Traceback (most recent call last):\n",
      "  File \"C:\\Users\\A15-03\\Anaconda3\\lib\\threading.py\", line 916, in _bootstrap_inner\n",
      "    self.run()\n",
      "  File \"<ipython-input-2-8d716ba38982>\", line 78, in run\n",
      "    fenetre.after(1, self.run())\n",
      "  File \"<ipython-input-2-8d716ba38982>\", line 78, in run\n",
      "    fenetre.after(1, self.run())\n",
      "  File \"<ipython-input-2-8d716ba38982>\", line 78, in run\n",
      "    fenetre.after(1, self.run())\n",
      "  [Previous line repeated 1602 more times]\n",
      "  File \"<ipython-input-2-8d716ba38982>\", line 89, in run\n",
      "    t[i].arret()\n",
      "UnboundLocalError: local variable 'i' referenced before assignment\n",
      "\n"
     ]
    },
    {
     "name": "stdout",
     "output_type": "stream",
     "text": [
      "delete\n"
     ]
    },
    {
     "name": "stderr",
     "output_type": "stream",
     "text": [
      "Exception in thread Thread-26:\n",
      "Traceback (most recent call last):\n",
      "  File \"C:\\Users\\A15-03\\Anaconda3\\lib\\threading.py\", line 916, in _bootstrap_inner\n",
      "    self.run()\n",
      "  File \"<ipython-input-2-8d716ba38982>\", line 78, in run\n",
      "    fenetre.after(1, self.run())\n",
      "  File \"<ipython-input-2-8d716ba38982>\", line 78, in run\n",
      "    fenetre.after(1, self.run())\n",
      "  File \"<ipython-input-2-8d716ba38982>\", line 78, in run\n",
      "    fenetre.after(1, self.run())\n",
      "  [Previous line repeated 1566 more times]\n",
      "  File \"<ipython-input-2-8d716ba38982>\", line 89, in run\n",
      "    t[i].arret()\n",
      "UnboundLocalError: local variable 'i' referenced before assignment\n",
      "\n"
     ]
    },
    {
     "name": "stdout",
     "output_type": "stream",
     "text": [
      "delete\n"
     ]
    },
    {
     "name": "stderr",
     "output_type": "stream",
     "text": [
      "Exception in thread Thread-31:\n",
      "Traceback (most recent call last):\n",
      "  File \"C:\\Users\\A15-03\\Anaconda3\\lib\\threading.py\", line 916, in _bootstrap_inner\n",
      "    self.run()\n",
      "  File \"<ipython-input-2-8d716ba38982>\", line 78, in run\n",
      "    fenetre.after(1, self.run())\n",
      "  File \"<ipython-input-2-8d716ba38982>\", line 78, in run\n",
      "    fenetre.after(1, self.run())\n",
      "  File \"<ipython-input-2-8d716ba38982>\", line 78, in run\n",
      "    fenetre.after(1, self.run())\n",
      "  [Previous line repeated 1832 more times]\n",
      "  File \"<ipython-input-2-8d716ba38982>\", line 89, in run\n",
      "    t[i].arret()\n",
      "UnboundLocalError: local variable 'i' referenced before assignment\n",
      "\n"
     ]
    },
    {
     "name": "stdout",
     "output_type": "stream",
     "text": [
      "delete\n",
      "delete\n",
      "delete\n"
     ]
    },
    {
     "name": "stderr",
     "output_type": "stream",
     "text": [
      "Exception in thread Thread-35:\n",
      "Traceback (most recent call last):\n",
      "  File \"C:\\Users\\A15-03\\Anaconda3\\lib\\threading.py\", line 916, in _bootstrap_inner\n",
      "    self.run()\n",
      "  File \"<ipython-input-2-8d716ba38982>\", line 78, in run\n",
      "    fenetre.after(1, self.run())\n",
      "  File \"<ipython-input-2-8d716ba38982>\", line 78, in run\n",
      "    fenetre.after(1, self.run())\n",
      "  File \"<ipython-input-2-8d716ba38982>\", line 78, in run\n",
      "    fenetre.after(1, self.run())\n",
      "  [Previous line repeated 2113 more times]\n",
      "  File \"<ipython-input-2-8d716ba38982>\", line 89, in run\n",
      "    t[i].arret()\n",
      "UnboundLocalError: local variable 'i' referenced before assignment\n",
      "\n",
      "Exception in thread Thread-32:\n",
      "Traceback (most recent call last):\n",
      "  File \"C:\\Users\\A15-03\\Anaconda3\\lib\\threading.py\", line 916, in _bootstrap_inner\n",
      "    self.run()\n",
      "  File \"<ipython-input-2-8d716ba38982>\", line 78, in run\n",
      "    fenetre.after(1, self.run())\n",
      "  File \"<ipython-input-2-8d716ba38982>\", line 78, in run\n",
      "    fenetre.after(1, self.run())\n",
      "  File \"<ipython-input-2-8d716ba38982>\", line 78, in run\n",
      "    fenetre.after(1, self.run())\n",
      "  [Previous line repeated 1860 more times]\n",
      "  File \"<ipython-input-2-8d716ba38982>\", line 89, in run\n",
      "    t[i].arret()\n",
      "UnboundLocalError: local variable 'i' referenced before assignment\n",
      "\n",
      "Exception in thread Thread-30:\n",
      "Traceback (most recent call last):\n",
      "  File \"C:\\Users\\A15-03\\Anaconda3\\lib\\threading.py\", line 916, in _bootstrap_inner\n",
      "    self.run()\n",
      "  File \"<ipython-input-2-8d716ba38982>\", line 78, in run\n",
      "    fenetre.after(1, self.run())\n",
      "  File \"<ipython-input-2-8d716ba38982>\", line 78, in run\n",
      "    fenetre.after(1, self.run())\n",
      "  File \"<ipython-input-2-8d716ba38982>\", line 78, in run\n",
      "    fenetre.after(1, self.run())\n",
      "  [Previous line repeated 1797 more times]\n",
      "  File \"<ipython-input-2-8d716ba38982>\", line 89, in run\n",
      "    t[i].arret()\n",
      "UnboundLocalError: local variable 'i' referenced before assignment\n",
      "\n"
     ]
    },
    {
     "name": "stdout",
     "output_type": "stream",
     "text": [
      "delete\n"
     ]
    },
    {
     "name": "stderr",
     "output_type": "stream",
     "text": [
      "Exception in thread Thread-33:\n",
      "Traceback (most recent call last):\n",
      "  File \"C:\\Users\\A15-03\\Anaconda3\\lib\\threading.py\", line 916, in _bootstrap_inner\n",
      "    self.run()\n",
      "  File \"<ipython-input-2-8d716ba38982>\", line 78, in run\n",
      "    fenetre.after(1, self.run())\n",
      "  File \"<ipython-input-2-8d716ba38982>\", line 78, in run\n",
      "    fenetre.after(1, self.run())\n",
      "  File \"<ipython-input-2-8d716ba38982>\", line 78, in run\n",
      "    fenetre.after(1, self.run())\n",
      "  [Previous line repeated 1943 more times]\n",
      "  File \"<ipython-input-2-8d716ba38982>\", line 89, in run\n",
      "    t[i].arret()\n",
      "UnboundLocalError: local variable 'i' referenced before assignment\n",
      "\n"
     ]
    },
    {
     "name": "stdout",
     "output_type": "stream",
     "text": [
      "delete\n"
     ]
    },
    {
     "name": "stderr",
     "output_type": "stream",
     "text": [
      "Exception in thread Thread-34:\n",
      "Traceback (most recent call last):\n",
      "  File \"C:\\Users\\A15-03\\Anaconda3\\lib\\threading.py\", line 916, in _bootstrap_inner\n",
      "    self.run()\n",
      "  File \"<ipython-input-2-8d716ba38982>\", line 78, in run\n",
      "    fenetre.after(1, self.run())\n",
      "  File \"<ipython-input-2-8d716ba38982>\", line 78, in run\n",
      "    fenetre.after(1, self.run())\n",
      "  File \"<ipython-input-2-8d716ba38982>\", line 78, in run\n",
      "    fenetre.after(1, self.run())\n",
      "  [Previous line repeated 1977 more times]\n",
      "  File \"<ipython-input-2-8d716ba38982>\", line 89, in run\n",
      "    t[i].arret()\n",
      "UnboundLocalError: local variable 'i' referenced before assignment\n",
      "\n"
     ]
    },
    {
     "name": "stdout",
     "output_type": "stream",
     "text": [
      "delete\n"
     ]
    },
    {
     "name": "stderr",
     "output_type": "stream",
     "text": [
      "Exception in thread Thread-36:\n",
      "Traceback (most recent call last):\n",
      "  File \"C:\\Users\\A15-03\\Anaconda3\\lib\\threading.py\", line 916, in _bootstrap_inner\n",
      "    self.run()\n",
      "  File \"<ipython-input-2-8d716ba38982>\", line 78, in run\n",
      "    fenetre.after(1, self.run())\n",
      "  File \"<ipython-input-2-8d716ba38982>\", line 78, in run\n",
      "    fenetre.after(1, self.run())\n",
      "  File \"<ipython-input-2-8d716ba38982>\", line 78, in run\n",
      "    fenetre.after(1, self.run())\n",
      "  [Previous line repeated 2309 more times]\n",
      "  File \"<ipython-input-2-8d716ba38982>\", line 89, in run\n",
      "    t[i].arret()\n",
      "UnboundLocalError: local variable 'i' referenced before assignment\n",
      "\n"
     ]
    },
    {
     "name": "stdout",
     "output_type": "stream",
     "text": [
      "delete\n"
     ]
    },
    {
     "name": "stderr",
     "output_type": "stream",
     "text": [
      "Exception in thread Thread-39:\n",
      "Traceback (most recent call last):\n",
      "  File \"C:\\Users\\A15-03\\Anaconda3\\lib\\threading.py\", line 916, in _bootstrap_inner\n",
      "    self.run()\n",
      "  File \"<ipython-input-2-8d716ba38982>\", line 78, in run\n",
      "    fenetre.after(1, self.run())\n",
      "  File \"<ipython-input-2-8d716ba38982>\", line 78, in run\n",
      "    fenetre.after(1, self.run())\n",
      "  File \"<ipython-input-2-8d716ba38982>\", line 78, in run\n",
      "    fenetre.after(1, self.run())\n",
      "  [Previous line repeated 2517 more times]\n",
      "  File \"<ipython-input-2-8d716ba38982>\", line 89, in run\n",
      "    t[i].arret()\n",
      "UnboundLocalError: local variable 'i' referenced before assignment\n",
      "\n"
     ]
    },
    {
     "name": "stdout",
     "output_type": "stream",
     "text": [
      "delete\n"
     ]
    },
    {
     "name": "stderr",
     "output_type": "stream",
     "text": [
      "Exception in thread Thread-40:\n",
      "Traceback (most recent call last):\n",
      "  File \"C:\\Users\\A15-03\\Anaconda3\\lib\\threading.py\", line 916, in _bootstrap_inner\n",
      "    self.run()\n",
      "  File \"<ipython-input-2-8d716ba38982>\", line 78, in run\n",
      "    fenetre.after(1, self.run())\n",
      "  File \"<ipython-input-2-8d716ba38982>\", line 78, in run\n",
      "    fenetre.after(1, self.run())\n",
      "  File \"<ipython-input-2-8d716ba38982>\", line 78, in run\n",
      "    fenetre.after(1, self.run())\n",
      "  [Previous line repeated 2542 more times]\n",
      "  File \"<ipython-input-2-8d716ba38982>\", line 89, in run\n",
      "    t[i].arret()\n",
      "UnboundLocalError: local variable 'i' referenced before assignment\n",
      "\n"
     ]
    },
    {
     "name": "stdout",
     "output_type": "stream",
     "text": [
      "delete\n",
      "delete\n"
     ]
    },
    {
     "name": "stderr",
     "output_type": "stream",
     "text": [
      "Exception in thread Thread-41:\n",
      "Traceback (most recent call last):\n",
      "  File \"C:\\Users\\A15-03\\Anaconda3\\lib\\threading.py\", line 916, in _bootstrap_inner\n",
      "    self.run()\n",
      "  File \"<ipython-input-2-8d716ba38982>\", line 78, in run\n",
      "    fenetre.after(1, self.run())\n",
      "  File \"<ipython-input-2-8d716ba38982>\", line 78, in run\n",
      "    fenetre.after(1, self.run())\n",
      "  File \"<ipython-input-2-8d716ba38982>\", line 78, in run\n",
      "    fenetre.after(1, self.run())\n",
      "  [Previous line repeated 2579 more times]\n",
      "  File \"<ipython-input-2-8d716ba38982>\", line 89, in run\n",
      "    t[i].arret()\n",
      "UnboundLocalError: local variable 'i' referenced before assignment\n",
      "\n",
      "Exception in thread Thread-37:\n",
      "Traceback (most recent call last):\n",
      "  File \"C:\\Users\\A15-03\\Anaconda3\\lib\\threading.py\", line 916, in _bootstrap_inner\n",
      "    self.run()\n",
      "  File \"<ipython-input-2-8d716ba38982>\", line 78, in run\n",
      "    fenetre.after(1, self.run())\n",
      "  File \"<ipython-input-2-8d716ba38982>\", line 78, in run\n",
      "    fenetre.after(1, self.run())\n",
      "  File \"<ipython-input-2-8d716ba38982>\", line 78, in run\n",
      "    fenetre.after(1, self.run())\n",
      "  [Previous line repeated 2461 more times]\n",
      "  File \"<ipython-input-2-8d716ba38982>\", line 89, in run\n",
      "    t[i].arret()\n",
      "UnboundLocalError: local variable 'i' referenced before assignment\n",
      "\n"
     ]
    },
    {
     "name": "stdout",
     "output_type": "stream",
     "text": [
      "delete\n"
     ]
    },
    {
     "name": "stderr",
     "output_type": "stream",
     "text": [
      "Exception in thread Thread-38:\n",
      "Traceback (most recent call last):\n",
      "  File \"C:\\Users\\A15-03\\Anaconda3\\lib\\threading.py\", line 916, in _bootstrap_inner\n",
      "    self.run()\n",
      "  File \"<ipython-input-2-8d716ba38982>\", line 78, in run\n",
      "    fenetre.after(1, self.run())\n",
      "  File \"<ipython-input-2-8d716ba38982>\", line 78, in run\n",
      "    fenetre.after(1, self.run())\n",
      "  File \"<ipython-input-2-8d716ba38982>\", line 78, in run\n",
      "    fenetre.after(1, self.run())\n",
      "  [Previous line repeated 2486 more times]\n",
      "  File \"<ipython-input-2-8d716ba38982>\", line 89, in run\n",
      "    t[i].arret()\n",
      "UnboundLocalError: local variable 'i' referenced before assignment\n",
      "\n"
     ]
    }
   ],
   "source": [
    "#all clients arrive at the same time \n",
    "\n",
    "fenetre = tk.Tk()\n",
    "\n",
    "canvas = tk.Canvas(fenetre, width=900, height=500, background='yellow')\n",
    "rect = canvas.create_rectangle(100, 100, 150, 400,fill='red')\n",
    "line = canvas.create_line(300,235,300,285, fill='red')\n",
    "c = []\n",
    "coords = []\n",
    "t = []\n",
    "wait = []\n",
    "coord_rect = (100,100,150,400)\n",
    "coord_line = (300,235,300,285)\n",
    "timeInBank = 8.0\n",
    "arrInt = 5.0\n",
    "nb_counter = 6\n",
    "counter = [True]*nb_counter\n",
    "dispo = []\n",
    "for k in range(nb_counter): \n",
    "    dispo.append(canvas.create_rectangle(130,250 + 150*(2*k - (nb_counter - 1))/nb_counter,150,270 + 150*(2*k - (nb_counter - 1))/nb_counter,fill='green'))\n",
    "\n",
    "def modif_ind(tab, i): \n",
    "    for j in range(i, len(tab)):\n",
    "        tab[j].i = tab[j].i - 1 \n",
    "\n",
    "class myThread(threading.Thread):\n",
    "\n",
    "    def __init__(self, i):\n",
    "        threading.Thread.__init__(self)\n",
    "        self.i = i\n",
    "        self.going = False\n",
    "        self.comptoir = -1\n",
    "        self.deplacement = 0\n",
    "        \n",
    "    def run(self):\n",
    "        self.running = True\n",
    "        global wait\n",
    "        global counter_dispo \n",
    "        global counter_avail\n",
    "        while(self.running): \n",
    "            if(coords[self.i][0] > coord_rect[2] ):\n",
    "                if(coords[self.i][0] > coord_line[0]):\n",
    "                    if(self.i==0):\n",
    "                        coords[self.i] = (coords[self.i][0] - 1, coords[self.i][1])\n",
    "                        canvas.coords(c[self.i], coords[self.i][0], coords[self.i][1], coords[self.i][0]+20, coords[self.i][1]+20)\n",
    "                    if(self.i>0 and coords[self.i][0] > coords[self.i-1][0]+25 ):\n",
    "                        coords[self.i] = (coords[self.i][0] - 1, coords[self.i][1])\n",
    "                        canvas.coords(c[self.i], coords[self.i][0], coords[self.i][1], coords[self.i][0]+20, coords[self.i][1]+20)\n",
    "                    else: \n",
    "                        wait[self.i] = wait[self.i] + 1 \n",
    "                        if(wait[self.i] > 50):\n",
    "                            if(wait[self.i] > 400):\n",
    "                                canvas.itemconfigure(c[self.i], fill='purple')\n",
    "                            else:\n",
    "                                canvas.itemconfigure(c[self.i], fill='violet')\n",
    "                else:\n",
    "                    i = 0  \n",
    "                    if(self.comptoir == -1):\n",
    "                        while(i != len(counter) and not counter[i]):\n",
    "                            i = i + 1 \n",
    "                        if(i != len(counter) and counter[i]): \n",
    "                            self.going = True \n",
    "                            self.comptoir = i\n",
    "                            self.deplacement = (2*i - (nb_counter - 1))/nb_counter\n",
    "                            counter[i] = False\n",
    "                    if(self.going):\n",
    "                        coords[self.i] = (coords[self.i][0] - 1, coords[self.i][1] + self.deplacement)\n",
    "                        canvas.coords(c[self.i], coords[self.i][0], coords[self.i][1], coords[self.i][0]+20, coords[self.i][1]+20)\n",
    "                        fenetre.update()\n",
    "                    else: \n",
    "                        wait[self.i] = wait[self.i] + 1 \n",
    "                        if(wait[self.i] > 50):\n",
    "                            if(wait[self.i] > 400):\n",
    "                                canvas.itemconfigure(c[self.i], fill='purple')\n",
    "                            else:\n",
    "                                canvas.itemconfigure(c[self.i], fill='violet')\n",
    "                time.sleep(0.001)\n",
    "                fenetre.after(1, self.run())\n",
    "                \n",
    "            if(coords[self.i][0] <= coord_rect[2]):\n",
    "                canvas.itemconfigure(dispo[self.comptoir], fill='orange')\n",
    "                counterTime = random.randint(1,timeInBank)\n",
    "                time.sleep(counterTime)\n",
    "                canvas.delete(fenetre, c[self.i])\n",
    "                print(\"delete\")\n",
    "                coords[self.i] = (0,0)\n",
    "                counter[self.comptoir] = True \n",
    "                canvas.itemconfigure(dispo[self.comptoir], fill='green')\n",
    "                t[i].arret()\n",
    "                        \n",
    "                \n",
    "    def arret(self): \n",
    "        self.running = False \n",
    "        \n",
    "def source():\n",
    "    time.sleep(2.0)\n",
    "    for i in range(0,45): #fonctionne pour 3 pas pour 4 ou 5 \n",
    "        c.append(canvas.create_rectangle(350+30*i,250,270+30*i,270,fill='blue'))\n",
    "        fenetre.update()\n",
    "        \n",
    "        coords.append((350+30*i, 250))    \n",
    "        wait.append(0)\n",
    "        t.append(myThread(i))\n",
    "        t[i].start()\n",
    "        \n",
    "        \n",
    "        \n",
    "random.seed()  \n",
    "\n",
    "canvas.pack()\n",
    "draw = threading.Thread(target=source)\n",
    "draw.start()\n",
    "\n",
    "\n",
    "fenetre.mainloop()"
   ]
  },
  {
   "cell_type": "code",
   "execution_count": 6,
   "metadata": {},
   "outputs": [
    {
     "name": "stdout",
     "output_type": "stream",
     "text": [
      "delete\n"
     ]
    },
    {
     "name": "stderr",
     "output_type": "stream",
     "text": [
      "Exception in thread Thread-116:\n",
      "Traceback (most recent call last):\n",
      "  File \"C:\\Users\\A15-03\\Anaconda3\\lib\\threading.py\", line 916, in _bootstrap_inner\n",
      "    self.run()\n",
      "  File \"<ipython-input-6-c65d0bc6779e>\", line 77, in run\n",
      "    fenetre.after(1, self.run())\n",
      "  File \"<ipython-input-6-c65d0bc6779e>\", line 77, in run\n",
      "    fenetre.after(1, self.run())\n",
      "  File \"<ipython-input-6-c65d0bc6779e>\", line 77, in run\n",
      "    fenetre.after(1, self.run())\n",
      "  [Previous line repeated 196 more times]\n",
      "  File \"<ipython-input-6-c65d0bc6779e>\", line 88, in run\n",
      "    t[i].arret()\n",
      "UnboundLocalError: local variable 'i' referenced before assignment\n",
      "\n"
     ]
    },
    {
     "name": "stdout",
     "output_type": "stream",
     "text": [
      "delete\n"
     ]
    },
    {
     "name": "stderr",
     "output_type": "stream",
     "text": [
      "Exception in thread Thread-117:\n",
      "Traceback (most recent call last):\n",
      "  File \"C:\\Users\\A15-03\\Anaconda3\\lib\\threading.py\", line 916, in _bootstrap_inner\n",
      "    self.run()\n",
      "  File \"<ipython-input-6-c65d0bc6779e>\", line 77, in run\n",
      "    fenetre.after(1, self.run())\n",
      "  File \"<ipython-input-6-c65d0bc6779e>\", line 77, in run\n",
      "    fenetre.after(1, self.run())\n",
      "  File \"<ipython-input-6-c65d0bc6779e>\", line 77, in run\n",
      "    fenetre.after(1, self.run())\n",
      "  [Previous line repeated 196 more times]\n",
      "  File \"<ipython-input-6-c65d0bc6779e>\", line 88, in run\n",
      "    t[i].arret()\n",
      "UnboundLocalError: local variable 'i' referenced before assignment\n",
      "\n"
     ]
    },
    {
     "name": "stdout",
     "output_type": "stream",
     "text": [
      "delete\n"
     ]
    },
    {
     "name": "stderr",
     "output_type": "stream",
     "text": [
      "Exception in thread Thread-119:\n",
      "Traceback (most recent call last):\n",
      "  File \"C:\\Users\\A15-03\\Anaconda3\\lib\\threading.py\", line 916, in _bootstrap_inner\n",
      "    self.run()\n",
      "  File \"<ipython-input-6-c65d0bc6779e>\", line 77, in run\n",
      "    fenetre.after(1, self.run())\n",
      "  File \"<ipython-input-6-c65d0bc6779e>\", line 77, in run\n",
      "    fenetre.after(1, self.run())\n",
      "  File \"<ipython-input-6-c65d0bc6779e>\", line 77, in run\n",
      "    fenetre.after(1, self.run())\n",
      "  [Previous line repeated 196 more times]\n",
      "  File \"<ipython-input-6-c65d0bc6779e>\", line 88, in run\n",
      "    t[i].arret()\n",
      "UnboundLocalError: local variable 'i' referenced before assignment\n",
      "\n"
     ]
    },
    {
     "name": "stdout",
     "output_type": "stream",
     "text": [
      "delete\n"
     ]
    },
    {
     "name": "stderr",
     "output_type": "stream",
     "text": [
      "Exception in thread Thread-118:\n",
      "Traceback (most recent call last):\n",
      "  File \"C:\\Users\\A15-03\\Anaconda3\\lib\\threading.py\", line 916, in _bootstrap_inner\n",
      "    self.run()\n",
      "  File \"<ipython-input-6-c65d0bc6779e>\", line 77, in run\n",
      "    fenetre.after(1, self.run())\n",
      "  File \"<ipython-input-6-c65d0bc6779e>\", line 77, in run\n",
      "    fenetre.after(1, self.run())\n",
      "  File \"<ipython-input-6-c65d0bc6779e>\", line 77, in run\n",
      "    fenetre.after(1, self.run())\n",
      "  [Previous line repeated 196 more times]\n",
      "  File \"<ipython-input-6-c65d0bc6779e>\", line 88, in run\n",
      "    t[i].arret()\n",
      "UnboundLocalError: local variable 'i' referenced before assignment\n",
      "\n"
     ]
    },
    {
     "name": "stdout",
     "output_type": "stream",
     "text": [
      "delete\n"
     ]
    },
    {
     "name": "stderr",
     "output_type": "stream",
     "text": [
      "Exception in thread Thread-121:\n",
      "Traceback (most recent call last):\n",
      "  File \"C:\\Users\\A15-03\\Anaconda3\\lib\\threading.py\", line 916, in _bootstrap_inner\n",
      "    self.run()\n",
      "  File \"<ipython-input-6-c65d0bc6779e>\", line 77, in run\n",
      "    fenetre.after(1, self.run())\n",
      "  File \"<ipython-input-6-c65d0bc6779e>\", line 77, in run\n",
      "    fenetre.after(1, self.run())\n",
      "  File \"<ipython-input-6-c65d0bc6779e>\", line 77, in run\n",
      "    fenetre.after(1, self.run())\n",
      "  [Previous line repeated 281 more times]\n",
      "  File \"<ipython-input-6-c65d0bc6779e>\", line 88, in run\n",
      "    t[i].arret()\n",
      "UnboundLocalError: local variable 'i' referenced before assignment\n",
      "\n"
     ]
    },
    {
     "name": "stdout",
     "output_type": "stream",
     "text": [
      "delete\n"
     ]
    },
    {
     "name": "stderr",
     "output_type": "stream",
     "text": [
      "Exception in thread Thread-120:\n",
      "Traceback (most recent call last):\n",
      "  File \"C:\\Users\\A15-03\\Anaconda3\\lib\\threading.py\", line 916, in _bootstrap_inner\n",
      "    self.run()\n",
      "  File \"<ipython-input-6-c65d0bc6779e>\", line 77, in run\n",
      "    fenetre.after(1, self.run())\n",
      "  File \"<ipython-input-6-c65d0bc6779e>\", line 77, in run\n",
      "    fenetre.after(1, self.run())\n",
      "  File \"<ipython-input-6-c65d0bc6779e>\", line 77, in run\n",
      "    fenetre.after(1, self.run())\n",
      "  [Previous line repeated 196 more times]\n",
      "  File \"<ipython-input-6-c65d0bc6779e>\", line 88, in run\n",
      "    t[i].arret()\n",
      "UnboundLocalError: local variable 'i' referenced before assignment\n",
      "\n"
     ]
    },
    {
     "name": "stdout",
     "output_type": "stream",
     "text": [
      "delete\n"
     ]
    },
    {
     "name": "stderr",
     "output_type": "stream",
     "text": [
      "Exception in thread Thread-122:\n",
      "Traceback (most recent call last):\n",
      "  File \"C:\\Users\\A15-03\\Anaconda3\\lib\\threading.py\", line 916, in _bootstrap_inner\n",
      "    self.run()\n",
      "  File \"<ipython-input-6-c65d0bc6779e>\", line 77, in run\n",
      "    fenetre.after(1, self.run())\n",
      "  File \"<ipython-input-6-c65d0bc6779e>\", line 77, in run\n",
      "    fenetre.after(1, self.run())\n",
      "  File \"<ipython-input-6-c65d0bc6779e>\", line 77, in run\n",
      "    fenetre.after(1, self.run())\n",
      "  [Previous line repeated 412 more times]\n",
      "  File \"<ipython-input-6-c65d0bc6779e>\", line 88, in run\n",
      "    t[i].arret()\n",
      "UnboundLocalError: local variable 'i' referenced before assignment\n",
      "\n"
     ]
    },
    {
     "name": "stdout",
     "output_type": "stream",
     "text": [
      "delete\n"
     ]
    },
    {
     "name": "stderr",
     "output_type": "stream",
     "text": [
      "Exception in thread Thread-123:\n",
      "Traceback (most recent call last):\n",
      "  File \"C:\\Users\\A15-03\\Anaconda3\\lib\\threading.py\", line 916, in _bootstrap_inner\n",
      "    self.run()\n",
      "  File \"<ipython-input-6-c65d0bc6779e>\", line 77, in run\n",
      "    fenetre.after(1, self.run())\n",
      "  File \"<ipython-input-6-c65d0bc6779e>\", line 77, in run\n",
      "    fenetre.after(1, self.run())\n",
      "  File \"<ipython-input-6-c65d0bc6779e>\", line 77, in run\n",
      "    fenetre.after(1, self.run())\n",
      "  [Previous line repeated 345 more times]\n",
      "  File \"<ipython-input-6-c65d0bc6779e>\", line 88, in run\n",
      "    t[i].arret()\n",
      "UnboundLocalError: local variable 'i' referenced before assignment\n",
      "\n"
     ]
    },
    {
     "name": "stdout",
     "output_type": "stream",
     "text": [
      "delete\n"
     ]
    },
    {
     "name": "stderr",
     "output_type": "stream",
     "text": [
      "Exception in thread Thread-125:\n",
      "Traceback (most recent call last):\n",
      "  File \"C:\\Users\\A15-03\\Anaconda3\\lib\\threading.py\", line 916, in _bootstrap_inner\n",
      "    self.run()\n",
      "  File \"<ipython-input-6-c65d0bc6779e>\", line 77, in run\n",
      "    fenetre.after(1, self.run())\n",
      "  File \"<ipython-input-6-c65d0bc6779e>\", line 77, in run\n",
      "    fenetre.after(1, self.run())\n",
      "  File \"<ipython-input-6-c65d0bc6779e>\", line 77, in run\n",
      "    fenetre.after(1, self.run())\n",
      "  [Previous line repeated 282 more times]\n",
      "  File \"<ipython-input-6-c65d0bc6779e>\", line 88, in run\n",
      "    t[i].arret()\n",
      "UnboundLocalError: local variable 'i' referenced before assignment\n",
      "\n"
     ]
    },
    {
     "name": "stdout",
     "output_type": "stream",
     "text": [
      "delete\n"
     ]
    },
    {
     "name": "stderr",
     "output_type": "stream",
     "text": [
      "Exception in thread Thread-124:\n",
      "Traceback (most recent call last):\n",
      "  File \"C:\\Users\\A15-03\\Anaconda3\\lib\\threading.py\", line 916, in _bootstrap_inner\n",
      "    self.run()\n",
      "  File \"<ipython-input-6-c65d0bc6779e>\", line 77, in run\n",
      "    fenetre.after(1, self.run())\n",
      "  File \"<ipython-input-6-c65d0bc6779e>\", line 77, in run\n",
      "    fenetre.after(1, self.run())\n",
      "  File \"<ipython-input-6-c65d0bc6779e>\", line 77, in run\n",
      "    fenetre.after(1, self.run())\n",
      "  [Previous line repeated 370 more times]\n",
      "  File \"<ipython-input-6-c65d0bc6779e>\", line 88, in run\n",
      "    t[i].arret()\n",
      "UnboundLocalError: local variable 'i' referenced before assignment\n",
      "\n"
     ]
    },
    {
     "name": "stdout",
     "output_type": "stream",
     "text": [
      "delete\n"
     ]
    },
    {
     "name": "stderr",
     "output_type": "stream",
     "text": [
      "Exception in thread Thread-127:\n",
      "Traceback (most recent call last):\n",
      "  File \"C:\\Users\\A15-03\\Anaconda3\\lib\\threading.py\", line 916, in _bootstrap_inner\n",
      "    self.run()\n",
      "  File \"<ipython-input-6-c65d0bc6779e>\", line 77, in run\n",
      "    fenetre.after(1, self.run())\n",
      "  File \"<ipython-input-6-c65d0bc6779e>\", line 77, in run\n",
      "    fenetre.after(1, self.run())\n",
      "  File \"<ipython-input-6-c65d0bc6779e>\", line 77, in run\n",
      "    fenetre.after(1, self.run())\n",
      "  [Previous line repeated 621 more times]\n",
      "  File \"<ipython-input-6-c65d0bc6779e>\", line 88, in run\n",
      "    t[i].arret()\n",
      "UnboundLocalError: local variable 'i' referenced before assignment\n",
      "\n"
     ]
    },
    {
     "name": "stdout",
     "output_type": "stream",
     "text": [
      "delete\n"
     ]
    },
    {
     "name": "stderr",
     "output_type": "stream",
     "text": [
      "Exception in thread Thread-128:\n",
      "Traceback (most recent call last):\n",
      "  File \"C:\\Users\\A15-03\\Anaconda3\\lib\\threading.py\", line 916, in _bootstrap_inner\n",
      "    self.run()\n",
      "  File \"<ipython-input-6-c65d0bc6779e>\", line 77, in run\n",
      "    fenetre.after(1, self.run())\n",
      "  File \"<ipython-input-6-c65d0bc6779e>\", line 77, in run\n",
      "    fenetre.after(1, self.run())\n",
      "  File \"<ipython-input-6-c65d0bc6779e>\", line 77, in run\n",
      "    fenetre.after(1, self.run())\n",
      "  [Previous line repeated 500 more times]\n",
      "  File \"<ipython-input-6-c65d0bc6779e>\", line 88, in run\n",
      "    t[i].arret()\n",
      "UnboundLocalError: local variable 'i' referenced before assignment\n",
      "\n"
     ]
    },
    {
     "name": "stdout",
     "output_type": "stream",
     "text": [
      "delete\n"
     ]
    },
    {
     "name": "stderr",
     "output_type": "stream",
     "text": [
      "Exception in thread Thread-129:\n",
      "Traceback (most recent call last):\n",
      "  File \"C:\\Users\\A15-03\\Anaconda3\\lib\\threading.py\", line 916, in _bootstrap_inner\n",
      "    self.run()\n",
      "  File \"<ipython-input-6-c65d0bc6779e>\", line 77, in run\n",
      "    fenetre.after(1, self.run())\n",
      "  File \"<ipython-input-6-c65d0bc6779e>\", line 77, in run\n",
      "    fenetre.after(1, self.run())\n",
      "  File \"<ipython-input-6-c65d0bc6779e>\", line 77, in run\n",
      "    fenetre.after(1, self.run())\n",
      "  [Previous line repeated 518 more times]\n",
      "  File \"<ipython-input-6-c65d0bc6779e>\", line 88, in run\n",
      "    t[i].arret()\n",
      "UnboundLocalError: local variable 'i' referenced before assignment\n",
      "\n"
     ]
    },
    {
     "name": "stdout",
     "output_type": "stream",
     "text": [
      "delete\n"
     ]
    },
    {
     "name": "stderr",
     "output_type": "stream",
     "text": [
      "Exception in thread Thread-126:\n",
      "Traceback (most recent call last):\n",
      "  File \"C:\\Users\\A15-03\\Anaconda3\\lib\\threading.py\", line 916, in _bootstrap_inner\n",
      "    self.run()\n",
      "  File \"<ipython-input-6-c65d0bc6779e>\", line 77, in run\n",
      "    fenetre.after(1, self.run())\n",
      "  File \"<ipython-input-6-c65d0bc6779e>\", line 77, in run\n",
      "    fenetre.after(1, self.run())\n",
      "  File \"<ipython-input-6-c65d0bc6779e>\", line 77, in run\n",
      "    fenetre.after(1, self.run())\n",
      "  [Previous line repeated 619 more times]\n",
      "  File \"<ipython-input-6-c65d0bc6779e>\", line 88, in run\n",
      "    t[i].arret()\n",
      "UnboundLocalError: local variable 'i' referenced before assignment\n",
      "\n"
     ]
    },
    {
     "name": "stdout",
     "output_type": "stream",
     "text": [
      "delete\n"
     ]
    },
    {
     "name": "stderr",
     "output_type": "stream",
     "text": [
      "Exception in thread Thread-131:\n",
      "Traceback (most recent call last):\n",
      "  File \"C:\\Users\\A15-03\\Anaconda3\\lib\\threading.py\", line 916, in _bootstrap_inner\n",
      "    self.run()\n",
      "  File \"<ipython-input-6-c65d0bc6779e>\", line 77, in run\n",
      "    fenetre.after(1, self.run())\n",
      "  File \"<ipython-input-6-c65d0bc6779e>\", line 77, in run\n",
      "    fenetre.after(1, self.run())\n",
      "  File \"<ipython-input-6-c65d0bc6779e>\", line 77, in run\n",
      "    fenetre.after(1, self.run())\n",
      "  [Previous line repeated 582 more times]\n",
      "  File \"<ipython-input-6-c65d0bc6779e>\", line 88, in run\n",
      "    t[i].arret()\n",
      "UnboundLocalError: local variable 'i' referenced before assignment\n",
      "\n"
     ]
    },
    {
     "name": "stdout",
     "output_type": "stream",
     "text": [
      "delete\n"
     ]
    },
    {
     "name": "stderr",
     "output_type": "stream",
     "text": [
      "Exception in thread Thread-130:\n",
      "Traceback (most recent call last):\n",
      "  File \"C:\\Users\\A15-03\\Anaconda3\\lib\\threading.py\", line 916, in _bootstrap_inner\n",
      "    self.run()\n",
      "  File \"<ipython-input-6-c65d0bc6779e>\", line 77, in run\n",
      "    fenetre.after(1, self.run())\n",
      "  File \"<ipython-input-6-c65d0bc6779e>\", line 77, in run\n",
      "    fenetre.after(1, self.run())\n",
      "  File \"<ipython-input-6-c65d0bc6779e>\", line 77, in run\n",
      "    fenetre.after(1, self.run())\n",
      "  [Previous line repeated 641 more times]\n",
      "  File \"<ipython-input-6-c65d0bc6779e>\", line 88, in run\n",
      "    t[i].arret()\n",
      "UnboundLocalError: local variable 'i' referenced before assignment\n",
      "\n"
     ]
    },
    {
     "name": "stdout",
     "output_type": "stream",
     "text": [
      "delete\n"
     ]
    },
    {
     "name": "stderr",
     "output_type": "stream",
     "text": [
      "Exception in thread Thread-132:\n",
      "Traceback (most recent call last):\n",
      "  File \"C:\\Users\\A15-03\\Anaconda3\\lib\\threading.py\", line 916, in _bootstrap_inner\n",
      "    self.run()\n",
      "  File \"<ipython-input-6-c65d0bc6779e>\", line 77, in run\n",
      "    fenetre.after(1, self.run())\n",
      "  File \"<ipython-input-6-c65d0bc6779e>\", line 77, in run\n",
      "    fenetre.after(1, self.run())\n",
      "  File \"<ipython-input-6-c65d0bc6779e>\", line 77, in run\n",
      "    fenetre.after(1, self.run())\n",
      "  [Previous line repeated 417 more times]\n",
      "  File \"<ipython-input-6-c65d0bc6779e>\", line 88, in run\n",
      "    t[i].arret()\n",
      "UnboundLocalError: local variable 'i' referenced before assignment\n",
      "\n"
     ]
    },
    {
     "name": "stdout",
     "output_type": "stream",
     "text": [
      "delete\n"
     ]
    },
    {
     "name": "stderr",
     "output_type": "stream",
     "text": [
      "Exception in thread Thread-135:\n",
      "Traceback (most recent call last):\n",
      "  File \"C:\\Users\\A15-03\\Anaconda3\\lib\\threading.py\", line 916, in _bootstrap_inner\n",
      "    self.run()\n",
      "  File \"<ipython-input-6-c65d0bc6779e>\", line 77, in run\n",
      "    fenetre.after(1, self.run())\n",
      "  File \"<ipython-input-6-c65d0bc6779e>\", line 77, in run\n",
      "    fenetre.after(1, self.run())\n",
      "  File \"<ipython-input-6-c65d0bc6779e>\", line 77, in run\n",
      "    fenetre.after(1, self.run())\n",
      "  [Previous line repeated 538 more times]\n",
      "  File \"<ipython-input-6-c65d0bc6779e>\", line 88, in run\n",
      "    t[i].arret()\n",
      "UnboundLocalError: local variable 'i' referenced before assignment\n",
      "\n"
     ]
    },
    {
     "name": "stdout",
     "output_type": "stream",
     "text": [
      "delete\n",
      "delete\n"
     ]
    },
    {
     "name": "stderr",
     "output_type": "stream",
     "text": [
      "Exception in thread Thread-136:\n",
      "Traceback (most recent call last):\n",
      "  File \"C:\\Users\\A15-03\\Anaconda3\\lib\\threading.py\", line 916, in _bootstrap_inner\n",
      "    self.run()\n",
      "  File \"<ipython-input-6-c65d0bc6779e>\", line 77, in run\n",
      "    fenetre.after(1, self.run())\n",
      "  File \"<ipython-input-6-c65d0bc6779e>\", line 77, in run\n",
      "    fenetre.after(1, self.run())\n",
      "  File \"<ipython-input-6-c65d0bc6779e>\", line 77, in run\n",
      "    fenetre.after(1, self.run())\n",
      "  [Previous line repeated 380 more times]\n",
      "  File \"<ipython-input-6-c65d0bc6779e>\", line 88, in run\n",
      "    t[i].arret()\n",
      "UnboundLocalError: local variable 'i' referenced before assignment\n",
      "\n",
      "Exception in thread Thread-133:\n",
      "Traceback (most recent call last):\n",
      "  File \"C:\\Users\\A15-03\\Anaconda3\\lib\\threading.py\", line 916, in _bootstrap_inner\n",
      "    self.run()\n",
      "  File \"<ipython-input-6-c65d0bc6779e>\", line 77, in run\n",
      "    fenetre.after(1, self.run())\n",
      "  File \"<ipython-input-6-c65d0bc6779e>\", line 77, in run\n",
      "    fenetre.after(1, self.run())\n",
      "  File \"<ipython-input-6-c65d0bc6779e>\", line 77, in run\n",
      "    fenetre.after(1, self.run())\n",
      "  [Previous line repeated 506 more times]\n",
      "  File \"<ipython-input-6-c65d0bc6779e>\", line 88, in run\n",
      "    t[i].arret()\n",
      "UnboundLocalError: local variable 'i' referenced before assignment\n",
      "\n"
     ]
    },
    {
     "name": "stdout",
     "output_type": "stream",
     "text": [
      "delete\n"
     ]
    },
    {
     "name": "stderr",
     "output_type": "stream",
     "text": [
      "Exception in thread Thread-134:\n",
      "Traceback (most recent call last):\n",
      "  File \"C:\\Users\\A15-03\\Anaconda3\\lib\\threading.py\", line 916, in _bootstrap_inner\n",
      "    self.run()\n",
      "  File \"<ipython-input-6-c65d0bc6779e>\", line 77, in run\n",
      "    fenetre.after(1, self.run())\n",
      "  File \"<ipython-input-6-c65d0bc6779e>\", line 77, in run\n",
      "    fenetre.after(1, self.run())\n",
      "  File \"<ipython-input-6-c65d0bc6779e>\", line 77, in run\n",
      "    fenetre.after(1, self.run())\n",
      "  [Previous line repeated 542 more times]\n",
      "  File \"<ipython-input-6-c65d0bc6779e>\", line 88, in run\n",
      "    t[i].arret()\n",
      "UnboundLocalError: local variable 'i' referenced before assignment\n",
      "\n"
     ]
    },
    {
     "name": "stdout",
     "output_type": "stream",
     "text": [
      "delete\n"
     ]
    },
    {
     "name": "stderr",
     "output_type": "stream",
     "text": [
      "Exception in thread Thread-140:\n",
      "Traceback (most recent call last):\n",
      "  File \"C:\\Users\\A15-03\\Anaconda3\\lib\\threading.py\", line 916, in _bootstrap_inner\n",
      "    self.run()\n",
      "  File \"<ipython-input-6-c65d0bc6779e>\", line 77, in run\n",
      "    fenetre.after(1, self.run())\n",
      "  File \"<ipython-input-6-c65d0bc6779e>\", line 77, in run\n",
      "    fenetre.after(1, self.run())\n",
      "  File \"<ipython-input-6-c65d0bc6779e>\", line 77, in run\n",
      "    fenetre.after(1, self.run())\n",
      "  [Previous line repeated 196 more times]\n",
      "  File \"<ipython-input-6-c65d0bc6779e>\", line 88, in run\n",
      "    t[i].arret()\n",
      "UnboundLocalError: local variable 'i' referenced before assignment\n",
      "\n"
     ]
    },
    {
     "name": "stdout",
     "output_type": "stream",
     "text": [
      "delete\n"
     ]
    },
    {
     "name": "stderr",
     "output_type": "stream",
     "text": [
      "Exception in thread Thread-138:\n",
      "Traceback (most recent call last):\n",
      "  File \"C:\\Users\\A15-03\\Anaconda3\\lib\\threading.py\", line 916, in _bootstrap_inner\n",
      "    self.run()\n",
      "  File \"<ipython-input-6-c65d0bc6779e>\", line 77, in run\n",
      "    fenetre.after(1, self.run())\n",
      "  File \"<ipython-input-6-c65d0bc6779e>\", line 77, in run\n",
      "    fenetre.after(1, self.run())\n",
      "  File \"<ipython-input-6-c65d0bc6779e>\", line 77, in run\n",
      "    fenetre.after(1, self.run())\n",
      "  [Previous line repeated 464 more times]\n",
      "  File \"<ipython-input-6-c65d0bc6779e>\", line 88, in run\n",
      "    t[i].arret()\n",
      "UnboundLocalError: local variable 'i' referenced before assignment\n",
      "\n"
     ]
    },
    {
     "name": "stdout",
     "output_type": "stream",
     "text": [
      "delete\n",
      "delete\n"
     ]
    },
    {
     "name": "stderr",
     "output_type": "stream",
     "text": [
      "Exception in thread Thread-139:\n",
      "Traceback (most recent call last):\n",
      "  File \"C:\\Users\\A15-03\\Anaconda3\\lib\\threading.py\", line 916, in _bootstrap_inner\n",
      "    self.run()\n",
      "  File \"<ipython-input-6-c65d0bc6779e>\", line 77, in run\n",
      "    fenetre.after(1, self.run())\n",
      "  File \"<ipython-input-6-c65d0bc6779e>\", line 77, in run\n",
      "    fenetre.after(1, self.run())\n",
      "  File \"<ipython-input-6-c65d0bc6779e>\", line 77, in run\n",
      "    fenetre.after(1, self.run())\n",
      "  [Previous line repeated 298 more times]\n",
      "  File \"<ipython-input-6-c65d0bc6779e>\", line 88, in run\n",
      "    t[i].arret()\n",
      "UnboundLocalError: local variable 'i' referenced before assignment\n",
      "\n",
      "Exception in thread Thread-137:\n",
      "Traceback (most recent call last):\n",
      "  File \"C:\\Users\\A15-03\\Anaconda3\\lib\\threading.py\", line 916, in _bootstrap_inner\n",
      "    self.run()\n",
      "  File \"<ipython-input-6-c65d0bc6779e>\", line 77, in run\n",
      "    fenetre.after(1, self.run())\n",
      "  File \"<ipython-input-6-c65d0bc6779e>\", line 77, in run\n",
      "    fenetre.after(1, self.run())\n",
      "  File \"<ipython-input-6-c65d0bc6779e>\", line 77, in run\n",
      "    fenetre.after(1, self.run())\n",
      "  [Previous line repeated 498 more times]\n",
      "  File \"<ipython-input-6-c65d0bc6779e>\", line 88, in run\n",
      "    t[i].arret()\n",
      "UnboundLocalError: local variable 'i' referenced before assignment\n",
      "\n"
     ]
    },
    {
     "name": "stdout",
     "output_type": "stream",
     "text": [
      "delete\n"
     ]
    },
    {
     "name": "stderr",
     "output_type": "stream",
     "text": [
      "Exception in thread Thread-142:\n",
      "Traceback (most recent call last):\n",
      "  File \"C:\\Users\\A15-03\\Anaconda3\\lib\\threading.py\", line 916, in _bootstrap_inner\n",
      "    self.run()\n",
      "  File \"<ipython-input-6-c65d0bc6779e>\", line 77, in run\n",
      "    fenetre.after(1, self.run())\n",
      "  File \"<ipython-input-6-c65d0bc6779e>\", line 77, in run\n",
      "    fenetre.after(1, self.run())\n",
      "  File \"<ipython-input-6-c65d0bc6779e>\", line 77, in run\n",
      "    fenetre.after(1, self.run())\n",
      "  [Previous line repeated 564 more times]\n",
      "  File \"<ipython-input-6-c65d0bc6779e>\", line 88, in run\n",
      "    t[i].arret()\n",
      "UnboundLocalError: local variable 'i' referenced before assignment\n",
      "\n"
     ]
    },
    {
     "name": "stdout",
     "output_type": "stream",
     "text": [
      "delete\n"
     ]
    },
    {
     "name": "stderr",
     "output_type": "stream",
     "text": [
      "Exception in thread Thread-143:\n",
      "Traceback (most recent call last):\n",
      "  File \"C:\\Users\\A15-03\\Anaconda3\\lib\\threading.py\", line 916, in _bootstrap_inner\n",
      "    self.run()\n",
      "  File \"<ipython-input-6-c65d0bc6779e>\", line 77, in run\n",
      "    fenetre.after(1, self.run())\n",
      "  File \"<ipython-input-6-c65d0bc6779e>\", line 77, in run\n",
      "    fenetre.after(1, self.run())\n",
      "  File \"<ipython-input-6-c65d0bc6779e>\", line 77, in run\n",
      "    fenetre.after(1, self.run())\n",
      "  [Previous line repeated 575 more times]\n",
      "  File \"<ipython-input-6-c65d0bc6779e>\", line 88, in run\n",
      "    t[i].arret()\n",
      "UnboundLocalError: local variable 'i' referenced before assignment\n",
      "\n"
     ]
    },
    {
     "name": "stdout",
     "output_type": "stream",
     "text": [
      "delete\n"
     ]
    },
    {
     "name": "stderr",
     "output_type": "stream",
     "text": [
      "Exception in thread Thread-145:\n",
      "Traceback (most recent call last):\n",
      "  File \"C:\\Users\\A15-03\\Anaconda3\\lib\\threading.py\", line 916, in _bootstrap_inner\n",
      "    self.run()\n",
      "  File \"<ipython-input-6-c65d0bc6779e>\", line 77, in run\n",
      "    fenetre.after(1, self.run())\n",
      "  File \"<ipython-input-6-c65d0bc6779e>\", line 77, in run\n",
      "    fenetre.after(1, self.run())\n",
      "  File \"<ipython-input-6-c65d0bc6779e>\", line 77, in run\n",
      "    fenetre.after(1, self.run())\n",
      "  [Previous line repeated 590 more times]\n",
      "  File \"<ipython-input-6-c65d0bc6779e>\", line 88, in run\n",
      "    t[i].arret()\n",
      "UnboundLocalError: local variable 'i' referenced before assignment\n",
      "\n"
     ]
    },
    {
     "name": "stdout",
     "output_type": "stream",
     "text": [
      "delete\n"
     ]
    },
    {
     "name": "stderr",
     "output_type": "stream",
     "text": [
      "Exception in thread Thread-141:\n",
      "Traceback (most recent call last):\n",
      "  File \"C:\\Users\\A15-03\\Anaconda3\\lib\\threading.py\", line 916, in _bootstrap_inner\n",
      "    self.run()\n",
      "  File \"<ipython-input-6-c65d0bc6779e>\", line 77, in run\n",
      "    fenetre.after(1, self.run())\n",
      "  File \"<ipython-input-6-c65d0bc6779e>\", line 77, in run\n",
      "    fenetre.after(1, self.run())\n",
      "  File \"<ipython-input-6-c65d0bc6779e>\", line 77, in run\n",
      "    fenetre.after(1, self.run())\n",
      "  [Previous line repeated 603 more times]\n",
      "  File \"<ipython-input-6-c65d0bc6779e>\", line 88, in run\n",
      "    t[i].arret()\n",
      "UnboundLocalError: local variable 'i' referenced before assignment\n",
      "\n"
     ]
    },
    {
     "name": "stdout",
     "output_type": "stream",
     "text": [
      "delete\n"
     ]
    },
    {
     "name": "stderr",
     "output_type": "stream",
     "text": [
      "Exception in thread Thread-144:\n",
      "Traceback (most recent call last):\n",
      "  File \"C:\\Users\\A15-03\\Anaconda3\\lib\\threading.py\", line 916, in _bootstrap_inner\n",
      "    self.run()\n",
      "  File \"<ipython-input-6-c65d0bc6779e>\", line 77, in run\n",
      "    fenetre.after(1, self.run())\n",
      "  File \"<ipython-input-6-c65d0bc6779e>\", line 77, in run\n",
      "    fenetre.after(1, self.run())\n",
      "  File \"<ipython-input-6-c65d0bc6779e>\", line 77, in run\n",
      "    fenetre.after(1, self.run())\n",
      "  [Previous line repeated 473 more times]\n",
      "  File \"<ipython-input-6-c65d0bc6779e>\", line 88, in run\n",
      "    t[i].arret()\n",
      "UnboundLocalError: local variable 'i' referenced before assignment\n",
      "\n"
     ]
    }
   ],
   "source": [
    "#clients arrive at a random time  \n",
    "\n",
    "fenetre = tk.Tk()\n",
    "\n",
    "canvas = tk.Canvas(fenetre, width=800, height=500, background='yellow')\n",
    "rect = canvas.create_rectangle(100, 100, 150, 400,fill='red')\n",
    "line = canvas.create_line(300,235,300,285, fill='red')\n",
    "c = []\n",
    "coords = []\n",
    "t = []\n",
    "wait = []\n",
    "coord_rect = (100,100,150,400)\n",
    "coord_line = (300,235,300,285)\n",
    "timeInBank = 10.0\n",
    "arrInt = 3.0\n",
    "nb_counter = 4\n",
    "counter = [True]*nb_counter\n",
    "dispo = []\n",
    "for k in range(nb_counter): \n",
    "    dispo.append(canvas.create_rectangle(130,250 + 150*(2*k - (nb_counter - 1))/nb_counter,150,270 + 150*(2*k - (nb_counter - 1))/nb_counter,fill='green'))\n",
    "def modif_ind(tab, i): \n",
    "    for j in range(i, len(tab)):\n",
    "        tab[j].i = tab[j].i - 1 \n",
    "\n",
    "class myThread(threading.Thread):\n",
    "\n",
    "    def __init__(self, i):\n",
    "        threading.Thread.__init__(self)\n",
    "        self.i = i\n",
    "        self.going = False\n",
    "        self.comptoir = -1\n",
    "        self.deplacement = 0\n",
    "        \n",
    "    def run(self):\n",
    "        self.running = True\n",
    "        global wait\n",
    "        global counter_dispo \n",
    "        global counter_avail\n",
    "        while(self.running): \n",
    "            if(coords[self.i][0] > coord_rect[2] ):\n",
    "                if(coords[self.i][0] > coord_line[0]):\n",
    "                    if(self.i==0):\n",
    "                        coords[self.i] = (coords[self.i][0] - 1, coords[self.i][1])\n",
    "                        canvas.coords(c[self.i], coords[self.i][0], coords[self.i][1], coords[self.i][0]+20, coords[self.i][1]+20)\n",
    "                    if(self.i>0 and coords[self.i][0] > coords[self.i-1][0]+25 ):\n",
    "                        coords[self.i] = (coords[self.i][0] - 1, coords[self.i][1])\n",
    "                        canvas.coords(c[self.i], coords[self.i][0], coords[self.i][1], coords[self.i][0]+20, coords[self.i][1]+20)\n",
    "                    else: \n",
    "                        wait[self.i] = wait[self.i] + 1 \n",
    "                        if(wait[self.i] > 50):\n",
    "                            if(wait[self.i] > 400):\n",
    "                                canvas.itemconfigure(c[self.i], fill='purple')\n",
    "                            else:\n",
    "                                canvas.itemconfigure(c[self.i], fill='violet')\n",
    "                else:\n",
    "                    i = 0  \n",
    "                    if(self.comptoir == -1):\n",
    "                        while(i != len(counter) and not counter[i]):\n",
    "                            i = i + 1 \n",
    "                        if(i != len(counter) and counter[i]): \n",
    "                            self.going = True \n",
    "                            self.comptoir = i\n",
    "                            self.deplacement = (2*i - (nb_counter - 1))/nb_counter\n",
    "                            counter[i] = False\n",
    "                    if(self.going):\n",
    "                        coords[self.i] = (coords[self.i][0] - 1, coords[self.i][1] + self.deplacement)\n",
    "                        canvas.coords(c[self.i], coords[self.i][0], coords[self.i][1], coords[self.i][0]+20, coords[self.i][1]+20)\n",
    "                        fenetre.update()\n",
    "                    else: \n",
    "                        wait[self.i] = wait[self.i] + 1 \n",
    "                        if(wait[self.i] > 50):\n",
    "                            if(wait[self.i] > 400):\n",
    "                                canvas.itemconfigure(c[self.i], fill='purple')\n",
    "                            else:\n",
    "                                canvas.itemconfigure(c[self.i], fill='violet')\n",
    "                time.sleep(0.001)\n",
    "                fenetre.after(1, self.run())\n",
    "                \n",
    "            if(coords[self.i][0] <= coord_rect[2]):\n",
    "                canvas.itemconfigure(dispo[self.comptoir], fill='orange')\n",
    "                counterTime = random.randint(1,timeInBank)\n",
    "                time.sleep(counterTime)\n",
    "                canvas.delete(fenetre, c[self.i])\n",
    "                print(\"delete\")\n",
    "                coords[self.i] = (0,0)\n",
    "                counter[self.comptoir] = True \n",
    "                canvas.itemconfigure(dispo[self.comptoir], fill='green')\n",
    "                t[i].arret()\n",
    "                \n",
    "                 \n",
    "                \n",
    "    def arret(self): \n",
    "        self.running = False \n",
    "        \n",
    "        \n",
    "def source():\n",
    "    time.sleep(2.0)\n",
    "    for i in range(0,30): #fonctionne pour 3 pas pour 4 ou 5 \n",
    "        if(i==0):\n",
    "            c.append(canvas.create_rectangle(350,250,370,270,fill='blue'))\n",
    "            coords.append((350, 250))\n",
    "        elif(coords[len(coords) - 1][0] < 325):\n",
    "            c.append(canvas.create_rectangle(350,250,370,270,fill='blue'))\n",
    "            coords.append((350, 250))\n",
    "        else: \n",
    "            c.append(canvas.create_rectangle(coords[len(coords) - 1][0] + 30,250,270,270,fill='blue'))\n",
    "            coords.append((coords[len(coords) - 1][0] + 30, 250))\n",
    "        fenetre.update()\n",
    "            \n",
    "        wait.append(0)\n",
    "        t.append(myThread(i))\n",
    "        t[i].start()\n",
    "        TBA = random.randint(1, arrInt)\n",
    "        time.sleep(TBA)\n",
    "        \n",
    "        \n",
    "        \n",
    "random.seed()  \n",
    "\n",
    "canvas.pack()\n",
    "draw = threading.Thread(target=source)\n",
    "draw.start()\n",
    "\n",
    "\n",
    "fenetre.mainloop()"
   ]
  },
  {
   "cell_type": "code",
   "execution_count": null,
   "metadata": {},
   "outputs": [
    {
     "name": "stdout",
     "output_type": "stream",
     "text": [
      "delete\n"
     ]
    },
    {
     "name": "stderr",
     "output_type": "stream",
     "text": [
      "Exception in thread Thread-132:\n",
      "Traceback (most recent call last):\n",
      "  File \"C:\\Users\\A15-03\\Anaconda3\\lib\\threading.py\", line 916, in _bootstrap_inner\n",
      "    self.run()\n",
      "  File \"<ipython-input-6-f196b906dfea>\", line 87, in run\n",
      "    fenetre.after(1, self.run())\n",
      "  File \"<ipython-input-6-f196b906dfea>\", line 87, in run\n",
      "    fenetre.after(1, self.run())\n",
      "  File \"<ipython-input-6-f196b906dfea>\", line 87, in run\n",
      "    fenetre.after(1, self.run())\n",
      "  [Previous line repeated 196 more times]\n",
      "  File \"<ipython-input-6-f196b906dfea>\", line 90, in run\n",
      "    self.traitement()\n",
      "  File \"<ipython-input-6-f196b906dfea>\", line 124, in traitement\n",
      "    t[i].arret()\n",
      "NameError: name 'i' is not defined\n",
      "\n"
     ]
    },
    {
     "name": "stdout",
     "output_type": "stream",
     "text": [
      "delete\n"
     ]
    },
    {
     "name": "stderr",
     "output_type": "stream",
     "text": [
      "Exception in thread Thread-131:\n",
      "Traceback (most recent call last):\n",
      "  File \"C:\\Users\\A15-03\\Anaconda3\\lib\\threading.py\", line 916, in _bootstrap_inner\n",
      "    self.run()\n",
      "  File \"<ipython-input-6-f196b906dfea>\", line 87, in run\n",
      "    fenetre.after(1, self.run())\n",
      "  File \"<ipython-input-6-f196b906dfea>\", line 87, in run\n",
      "    fenetre.after(1, self.run())\n",
      "  File \"<ipython-input-6-f196b906dfea>\", line 87, in run\n",
      "    fenetre.after(1, self.run())\n",
      "  [Previous line repeated 196 more times]\n",
      "  File \"<ipython-input-6-f196b906dfea>\", line 90, in run\n",
      "    self.traitement()\n",
      "  File \"<ipython-input-6-f196b906dfea>\", line 124, in traitement\n",
      "    t[i].arret()\n",
      "NameError: name 'i' is not defined\n",
      "\n"
     ]
    },
    {
     "name": "stdout",
     "output_type": "stream",
     "text": [
      "delete\n"
     ]
    },
    {
     "name": "stderr",
     "output_type": "stream",
     "text": [
      "Exception in thread Thread-133:\n",
      "Traceback (most recent call last):\n",
      "  File \"C:\\Users\\A15-03\\Anaconda3\\lib\\threading.py\", line 916, in _bootstrap_inner\n",
      "    self.run()\n",
      "  File \"<ipython-input-6-f196b906dfea>\", line 87, in run\n",
      "    fenetre.after(1, self.run())\n",
      "  File \"<ipython-input-6-f196b906dfea>\", line 87, in run\n",
      "    fenetre.after(1, self.run())\n",
      "  File \"<ipython-input-6-f196b906dfea>\", line 87, in run\n",
      "    fenetre.after(1, self.run())\n",
      "  [Previous line repeated 196 more times]\n",
      "  File \"<ipython-input-6-f196b906dfea>\", line 90, in run\n",
      "    self.traitement()\n",
      "  File \"<ipython-input-6-f196b906dfea>\", line 124, in traitement\n",
      "    t[i].arret()\n",
      "NameError: name 'i' is not defined\n",
      "\n"
     ]
    },
    {
     "name": "stdout",
     "output_type": "stream",
     "text": [
      "delete\n"
     ]
    },
    {
     "name": "stderr",
     "output_type": "stream",
     "text": [
      "Exception in thread Thread-136:\n",
      "Traceback (most recent call last):\n",
      "  File \"C:\\Users\\A15-03\\Anaconda3\\lib\\threading.py\", line 916, in _bootstrap_inner\n",
      "    self.run()\n",
      "  File \"<ipython-input-6-f196b906dfea>\", line 87, in run\n",
      "    fenetre.after(1, self.run())\n",
      "  File \"<ipython-input-6-f196b906dfea>\", line 87, in run\n",
      "    fenetre.after(1, self.run())\n",
      "  File \"<ipython-input-6-f196b906dfea>\", line 87, in run\n",
      "    fenetre.after(1, self.run())\n",
      "  [Previous line repeated 196 more times]\n",
      "  File \"<ipython-input-6-f196b906dfea>\", line 90, in run\n",
      "    self.traitement()\n",
      "  File \"<ipython-input-6-f196b906dfea>\", line 124, in traitement\n",
      "    t[i].arret()\n",
      "NameError: name 'i' is not defined\n",
      "\n"
     ]
    },
    {
     "name": "stdout",
     "output_type": "stream",
     "text": [
      "delete\n"
     ]
    },
    {
     "name": "stderr",
     "output_type": "stream",
     "text": [
      "Exception in thread Thread-134:\n",
      "Traceback (most recent call last):\n",
      "  File \"C:\\Users\\A15-03\\Anaconda3\\lib\\threading.py\", line 916, in _bootstrap_inner\n",
      "    self.run()\n",
      "  File \"<ipython-input-6-f196b906dfea>\", line 87, in run\n",
      "    fenetre.after(1, self.run())\n",
      "  File \"<ipython-input-6-f196b906dfea>\", line 87, in run\n",
      "    fenetre.after(1, self.run())\n",
      "  File \"<ipython-input-6-f196b906dfea>\", line 87, in run\n",
      "    fenetre.after(1, self.run())\n",
      "  [Previous line repeated 210 more times]\n",
      "  File \"<ipython-input-6-f196b906dfea>\", line 90, in run\n",
      "    self.traitement()\n",
      "  File \"<ipython-input-6-f196b906dfea>\", line 124, in traitement\n",
      "    t[i].arret()\n",
      "NameError: name 'i' is not defined\n",
      "\n"
     ]
    },
    {
     "name": "stdout",
     "output_type": "stream",
     "text": [
      "delete\n"
     ]
    },
    {
     "name": "stderr",
     "output_type": "stream",
     "text": [
      "Exception in thread Thread-135:\n",
      "Traceback (most recent call last):\n",
      "  File \"C:\\Users\\A15-03\\Anaconda3\\lib\\threading.py\", line 916, in _bootstrap_inner\n",
      "    self.run()\n",
      "  File \"<ipython-input-6-f196b906dfea>\", line 87, in run\n",
      "    fenetre.after(1, self.run())\n",
      "  File \"<ipython-input-6-f196b906dfea>\", line 87, in run\n",
      "    fenetre.after(1, self.run())\n",
      "  File \"<ipython-input-6-f196b906dfea>\", line 87, in run\n",
      "    fenetre.after(1, self.run())\n",
      "  [Previous line repeated 196 more times]\n",
      "  File \"<ipython-input-6-f196b906dfea>\", line 90, in run\n",
      "    self.traitement()\n",
      "  File \"<ipython-input-6-f196b906dfea>\", line 124, in traitement\n",
      "    t[i].arret()\n",
      "NameError: name 'i' is not defined\n",
      "\n"
     ]
    },
    {
     "name": "stdout",
     "output_type": "stream",
     "text": [
      "delete\n"
     ]
    },
    {
     "name": "stderr",
     "output_type": "stream",
     "text": [
      "Exception in thread Thread-137:\n",
      "Traceback (most recent call last):\n",
      "  File \"C:\\Users\\A15-03\\Anaconda3\\lib\\threading.py\", line 916, in _bootstrap_inner\n",
      "    self.run()\n",
      "  File \"<ipython-input-6-f196b906dfea>\", line 87, in run\n",
      "    fenetre.after(1, self.run())\n",
      "  File \"<ipython-input-6-f196b906dfea>\", line 87, in run\n",
      "    fenetre.after(1, self.run())\n",
      "  File \"<ipython-input-6-f196b906dfea>\", line 87, in run\n",
      "    fenetre.after(1, self.run())\n",
      "  [Previous line repeated 412 more times]\n",
      "  File \"<ipython-input-6-f196b906dfea>\", line 90, in run\n",
      "    self.traitement()\n",
      "  File \"<ipython-input-6-f196b906dfea>\", line 124, in traitement\n",
      "    t[i].arret()\n",
      "NameError: name 'i' is not defined\n",
      "\n"
     ]
    },
    {
     "name": "stdout",
     "output_type": "stream",
     "text": [
      "delete\n"
     ]
    },
    {
     "name": "stderr",
     "output_type": "stream",
     "text": [
      "Exception in thread Thread-138:\n",
      "Traceback (most recent call last):\n",
      "  File \"C:\\Users\\A15-03\\Anaconda3\\lib\\threading.py\", line 916, in _bootstrap_inner\n",
      "    self.run()\n",
      "  File \"<ipython-input-6-f196b906dfea>\", line 87, in run\n",
      "    fenetre.after(1, self.run())\n",
      "  File \"<ipython-input-6-f196b906dfea>\", line 87, in run\n",
      "    fenetre.after(1, self.run())\n",
      "  File \"<ipython-input-6-f196b906dfea>\", line 87, in run\n",
      "    fenetre.after(1, self.run())\n",
      "  [Previous line repeated 678 more times]\n",
      "  File \"<ipython-input-6-f196b906dfea>\", line 90, in run\n",
      "    self.traitement()\n",
      "  File \"<ipython-input-6-f196b906dfea>\", line 124, in traitement\n",
      "    t[i].arret()\n",
      "NameError: name 'i' is not defined\n",
      "\n"
     ]
    },
    {
     "name": "stdout",
     "output_type": "stream",
     "text": [
      "delete\n"
     ]
    },
    {
     "name": "stderr",
     "output_type": "stream",
     "text": [
      "Exception in thread Thread-139:\n",
      "Traceback (most recent call last):\n",
      "  File \"C:\\Users\\A15-03\\Anaconda3\\lib\\threading.py\", line 916, in _bootstrap_inner\n",
      "    self.run()\n",
      "  File \"<ipython-input-6-f196b906dfea>\", line 87, in run\n",
      "    fenetre.after(1, self.run())\n",
      "  File \"<ipython-input-6-f196b906dfea>\", line 87, in run\n",
      "    fenetre.after(1, self.run())\n",
      "  File \"<ipython-input-6-f196b906dfea>\", line 87, in run\n",
      "    fenetre.after(1, self.run())\n",
      "  [Previous line repeated 603 more times]\n",
      "  File \"<ipython-input-6-f196b906dfea>\", line 90, in run\n",
      "    self.traitement()\n",
      "  File \"<ipython-input-6-f196b906dfea>\", line 124, in traitement\n",
      "    t[i].arret()\n",
      "NameError: name 'i' is not defined\n",
      "\n"
     ]
    },
    {
     "name": "stdout",
     "output_type": "stream",
     "text": [
      "delete\n"
     ]
    },
    {
     "name": "stderr",
     "output_type": "stream",
     "text": [
      "Exception in thread Thread-142:\n",
      "Traceback (most recent call last):\n",
      "  File \"C:\\Users\\A15-03\\Anaconda3\\lib\\threading.py\", line 916, in _bootstrap_inner\n",
      "    self.run()\n",
      "  File \"<ipython-input-6-f196b906dfea>\", line 87, in run\n",
      "    fenetre.after(1, self.run())\n",
      "  File \"<ipython-input-6-f196b906dfea>\", line 87, in run\n",
      "    fenetre.after(1, self.run())\n",
      "  File \"<ipython-input-6-f196b906dfea>\", line 87, in run\n",
      "    fenetre.after(1, self.run())\n",
      "  [Previous line repeated 750 more times]\n",
      "  File \"<ipython-input-6-f196b906dfea>\", line 90, in run\n",
      "    self.traitement()\n",
      "  File \"<ipython-input-6-f196b906dfea>\", line 124, in traitement\n",
      "    t[i].arret()\n",
      "NameError: name 'i' is not defined\n",
      "\n"
     ]
    },
    {
     "name": "stdout",
     "output_type": "stream",
     "text": [
      "delete\n"
     ]
    },
    {
     "name": "stderr",
     "output_type": "stream",
     "text": [
      "Exception in thread Thread-143:\n",
      "Traceback (most recent call last):\n",
      "  File \"C:\\Users\\A15-03\\Anaconda3\\lib\\threading.py\", line 916, in _bootstrap_inner\n",
      "    self.run()\n",
      "  File \"<ipython-input-6-f196b906dfea>\", line 87, in run\n",
      "    fenetre.after(1, self.run())\n",
      "  File \"<ipython-input-6-f196b906dfea>\", line 87, in run\n",
      "    fenetre.after(1, self.run())\n",
      "  File \"<ipython-input-6-f196b906dfea>\", line 87, in run\n",
      "    fenetre.after(1, self.run())\n",
      "  [Previous line repeated 900 more times]\n",
      "  File \"<ipython-input-6-f196b906dfea>\", line 90, in run\n",
      "    self.traitement()\n",
      "  File \"<ipython-input-6-f196b906dfea>\", line 124, in traitement\n",
      "    t[i].arret()\n",
      "NameError: name 'i' is not defined\n",
      "\n"
     ]
    },
    {
     "name": "stdout",
     "output_type": "stream",
     "text": [
      "delete\n"
     ]
    },
    {
     "name": "stderr",
     "output_type": "stream",
     "text": [
      "Exception in thread Thread-140:\n",
      "Traceback (most recent call last):\n",
      "  File \"C:\\Users\\A15-03\\Anaconda3\\lib\\threading.py\", line 916, in _bootstrap_inner\n",
      "    self.run()\n",
      "  File \"<ipython-input-6-f196b906dfea>\", line 87, in run\n",
      "    fenetre.after(1, self.run())\n",
      "  File \"<ipython-input-6-f196b906dfea>\", line 87, in run\n",
      "    fenetre.after(1, self.run())\n",
      "  File \"<ipython-input-6-f196b906dfea>\", line 87, in run\n",
      "    fenetre.after(1, self.run())\n",
      "  [Previous line repeated 820 more times]\n",
      "  File \"<ipython-input-6-f196b906dfea>\", line 90, in run\n",
      "    self.traitement()\n",
      "  File \"<ipython-input-6-f196b906dfea>\", line 124, in traitement\n",
      "    t[i].arret()\n",
      "NameError: name 'i' is not defined\n",
      "\n"
     ]
    },
    {
     "name": "stdout",
     "output_type": "stream",
     "text": [
      "delete\n"
     ]
    },
    {
     "name": "stderr",
     "output_type": "stream",
     "text": [
      "Exception in thread Thread-141:\n",
      "Traceback (most recent call last):\n",
      "  File \"C:\\Users\\A15-03\\Anaconda3\\lib\\threading.py\", line 916, in _bootstrap_inner\n",
      "    self.run()\n",
      "  File \"<ipython-input-6-f196b906dfea>\", line 87, in run\n",
      "    fenetre.after(1, self.run())\n",
      "  File \"<ipython-input-6-f196b906dfea>\", line 87, in run\n",
      "    fenetre.after(1, self.run())\n",
      "  File \"<ipython-input-6-f196b906dfea>\", line 87, in run\n",
      "    fenetre.after(1, self.run())\n",
      "  [Previous line repeated 824 more times]\n",
      "  File \"<ipython-input-6-f196b906dfea>\", line 90, in run\n",
      "    self.traitement()\n",
      "  File \"<ipython-input-6-f196b906dfea>\", line 124, in traitement\n",
      "    t[i].arret()\n",
      "NameError: name 'i' is not defined\n",
      "\n"
     ]
    },
    {
     "name": "stdout",
     "output_type": "stream",
     "text": [
      "delete\n"
     ]
    },
    {
     "name": "stderr",
     "output_type": "stream",
     "text": [
      "Exception in thread Thread-144:\n",
      "Traceback (most recent call last):\n",
      "  File \"C:\\Users\\A15-03\\Anaconda3\\lib\\threading.py\", line 916, in _bootstrap_inner\n",
      "    self.run()\n",
      "  File \"<ipython-input-6-f196b906dfea>\", line 87, in run\n",
      "    fenetre.after(1, self.run())\n",
      "  File \"<ipython-input-6-f196b906dfea>\", line 87, in run\n",
      "    fenetre.after(1, self.run())\n",
      "  File \"<ipython-input-6-f196b906dfea>\", line 87, in run\n",
      "    fenetre.after(1, self.run())\n",
      "  [Previous line repeated 997 more times]\n",
      "  File \"<ipython-input-6-f196b906dfea>\", line 90, in run\n",
      "    self.traitement()\n",
      "  File \"<ipython-input-6-f196b906dfea>\", line 124, in traitement\n",
      "    t[i].arret()\n",
      "NameError: name 'i' is not defined\n",
      "\n"
     ]
    },
    {
     "name": "stdout",
     "output_type": "stream",
     "text": [
      "delete\n"
     ]
    },
    {
     "name": "stderr",
     "output_type": "stream",
     "text": [
      "Exception in thread Thread-145:\n",
      "Traceback (most recent call last):\n",
      "  File \"C:\\Users\\A15-03\\Anaconda3\\lib\\threading.py\", line 916, in _bootstrap_inner\n",
      "    self.run()\n",
      "  File \"<ipython-input-6-f196b906dfea>\", line 87, in run\n",
      "    fenetre.after(1, self.run())\n",
      "  File \"<ipython-input-6-f196b906dfea>\", line 87, in run\n",
      "    fenetre.after(1, self.run())\n",
      "  File \"<ipython-input-6-f196b906dfea>\", line 87, in run\n",
      "    fenetre.after(1, self.run())\n",
      "  [Previous line repeated 1041 more times]\n",
      "  File \"<ipython-input-6-f196b906dfea>\", line 90, in run\n",
      "    self.traitement()\n",
      "  File \"<ipython-input-6-f196b906dfea>\", line 124, in traitement\n",
      "    t[i].arret()\n",
      "NameError: name 'i' is not defined\n",
      "\n"
     ]
    },
    {
     "name": "stdout",
     "output_type": "stream",
     "text": [
      "delete\n"
     ]
    },
    {
     "name": "stderr",
     "output_type": "stream",
     "text": [
      "Exception in thread Thread-146:\n",
      "Traceback (most recent call last):\n",
      "  File \"C:\\Users\\A15-03\\Anaconda3\\lib\\threading.py\", line 916, in _bootstrap_inner\n",
      "    self.run()\n",
      "  File \"<ipython-input-6-f196b906dfea>\", line 87, in run\n",
      "    fenetre.after(1, self.run())\n",
      "  File \"<ipython-input-6-f196b906dfea>\", line 87, in run\n",
      "    fenetre.after(1, self.run())\n",
      "  File \"<ipython-input-6-f196b906dfea>\", line 87, in run\n",
      "    fenetre.after(1, self.run())\n",
      "  [Previous line repeated 918 more times]\n",
      "  File \"<ipython-input-6-f196b906dfea>\", line 90, in run\n",
      "    self.traitement()\n",
      "  File \"<ipython-input-6-f196b906dfea>\", line 124, in traitement\n",
      "    t[i].arret()\n",
      "NameError: name 'i' is not defined\n",
      "\n"
     ]
    },
    {
     "name": "stdout",
     "output_type": "stream",
     "text": [
      "delete\n"
     ]
    },
    {
     "name": "stderr",
     "output_type": "stream",
     "text": [
      "Exception in thread Thread-147:\n",
      "Traceback (most recent call last):\n",
      "  File \"C:\\Users\\A15-03\\Anaconda3\\lib\\threading.py\", line 916, in _bootstrap_inner\n",
      "    self.run()\n",
      "  File \"<ipython-input-6-f196b906dfea>\", line 87, in run\n",
      "    fenetre.after(1, self.run())\n",
      "  File \"<ipython-input-6-f196b906dfea>\", line 87, in run\n",
      "    fenetre.after(1, self.run())\n",
      "  File \"<ipython-input-6-f196b906dfea>\", line 87, in run\n",
      "    fenetre.after(1, self.run())\n",
      "  [Previous line repeated 1208 more times]\n",
      "  File \"<ipython-input-6-f196b906dfea>\", line 90, in run\n",
      "    self.traitement()\n",
      "  File \"<ipython-input-6-f196b906dfea>\", line 124, in traitement\n",
      "    t[i].arret()\n",
      "NameError: name 'i' is not defined\n",
      "\n"
     ]
    },
    {
     "name": "stdout",
     "output_type": "stream",
     "text": [
      "delete\n"
     ]
    },
    {
     "name": "stderr",
     "output_type": "stream",
     "text": [
      "Exception in thread Thread-148:\n",
      "Traceback (most recent call last):\n",
      "  File \"C:\\Users\\A15-03\\Anaconda3\\lib\\threading.py\", line 916, in _bootstrap_inner\n",
      "    self.run()\n",
      "  File \"<ipython-input-6-f196b906dfea>\", line 87, in run\n",
      "    fenetre.after(1, self.run())\n",
      "  File \"<ipython-input-6-f196b906dfea>\", line 87, in run\n",
      "    fenetre.after(1, self.run())\n",
      "  File \"<ipython-input-6-f196b906dfea>\", line 87, in run\n",
      "    fenetre.after(1, self.run())\n",
      "  [Previous line repeated 1186 more times]\n",
      "  File \"<ipython-input-6-f196b906dfea>\", line 90, in run\n",
      "    self.traitement()\n",
      "  File \"<ipython-input-6-f196b906dfea>\", line 124, in traitement\n",
      "    t[i].arret()\n",
      "NameError: name 'i' is not defined\n",
      "\n"
     ]
    },
    {
     "name": "stdout",
     "output_type": "stream",
     "text": [
      "delete\n"
     ]
    },
    {
     "name": "stderr",
     "output_type": "stream",
     "text": [
      "Exception in thread Thread-149:\n",
      "Traceback (most recent call last):\n",
      "  File \"C:\\Users\\A15-03\\Anaconda3\\lib\\threading.py\", line 916, in _bootstrap_inner\n",
      "    self.run()\n",
      "  File \"<ipython-input-6-f196b906dfea>\", line 87, in run\n",
      "    fenetre.after(1, self.run())\n",
      "  File \"<ipython-input-6-f196b906dfea>\", line 87, in run\n",
      "    fenetre.after(1, self.run())\n",
      "  File \"<ipython-input-6-f196b906dfea>\", line 87, in run\n",
      "    fenetre.after(1, self.run())\n",
      "  [Previous line repeated 1251 more times]\n",
      "  File \"<ipython-input-6-f196b906dfea>\", line 90, in run\n",
      "    self.traitement()\n",
      "  File \"<ipython-input-6-f196b906dfea>\", line 124, in traitement\n",
      "    t[i].arret()\n",
      "NameError: name 'i' is not defined\n",
      "\n"
     ]
    },
    {
     "name": "stdout",
     "output_type": "stream",
     "text": [
      "delete\n"
     ]
    },
    {
     "name": "stderr",
     "output_type": "stream",
     "text": [
      "Exception in thread Thread-150:\n",
      "Traceback (most recent call last):\n",
      "  File \"C:\\Users\\A15-03\\Anaconda3\\lib\\threading.py\", line 916, in _bootstrap_inner\n",
      "    self.run()\n",
      "  File \"<ipython-input-6-f196b906dfea>\", line 87, in run\n",
      "    fenetre.after(1, self.run())\n",
      "  File \"<ipython-input-6-f196b906dfea>\", line 87, in run\n",
      "    fenetre.after(1, self.run())\n",
      "  File \"<ipython-input-6-f196b906dfea>\", line 87, in run\n",
      "    fenetre.after(1, self.run())\n",
      "  [Previous line repeated 1289 more times]\n",
      "  File \"<ipython-input-6-f196b906dfea>\", line 90, in run\n",
      "    self.traitement()\n",
      "  File \"<ipython-input-6-f196b906dfea>\", line 124, in traitement\n",
      "    t[i].arret()\n",
      "NameError: name 'i' is not defined\n",
      "\n"
     ]
    },
    {
     "name": "stdout",
     "output_type": "stream",
     "text": [
      "delete\n"
     ]
    },
    {
     "name": "stderr",
     "output_type": "stream",
     "text": [
      "Exception in thread Thread-152:\n",
      "Traceback (most recent call last):\n",
      "  File \"C:\\Users\\A15-03\\Anaconda3\\lib\\threading.py\", line 916, in _bootstrap_inner\n",
      "    self.run()\n",
      "  File \"<ipython-input-6-f196b906dfea>\", line 87, in run\n",
      "    fenetre.after(1, self.run())\n",
      "  File \"<ipython-input-6-f196b906dfea>\", line 87, in run\n",
      "    fenetre.after(1, self.run())\n",
      "  File \"<ipython-input-6-f196b906dfea>\", line 87, in run\n",
      "    fenetre.after(1, self.run())\n",
      "  [Previous line repeated 1848 more times]\n",
      "  File \"<ipython-input-6-f196b906dfea>\", line 90, in run\n",
      "    self.traitement()\n",
      "  File \"<ipython-input-6-f196b906dfea>\", line 124, in traitement\n",
      "    t[i].arret()\n",
      "NameError: name 'i' is not defined\n",
      "\n"
     ]
    },
    {
     "name": "stdout",
     "output_type": "stream",
     "text": [
      "delete\n"
     ]
    },
    {
     "name": "stderr",
     "output_type": "stream",
     "text": [
      "Exception in thread Thread-151:\n",
      "Traceback (most recent call last):\n",
      "  File \"C:\\Users\\A15-03\\Anaconda3\\lib\\threading.py\", line 916, in _bootstrap_inner\n",
      "    self.run()\n",
      "  File \"<ipython-input-6-f196b906dfea>\", line 87, in run\n",
      "    fenetre.after(1, self.run())\n",
      "  File \"<ipython-input-6-f196b906dfea>\", line 87, in run\n",
      "    fenetre.after(1, self.run())\n",
      "  File \"<ipython-input-6-f196b906dfea>\", line 87, in run\n",
      "    fenetre.after(1, self.run())\n",
      "  [Previous line repeated 1262 more times]\n",
      "  File \"<ipython-input-6-f196b906dfea>\", line 90, in run\n",
      "    self.traitement()\n",
      "  File \"<ipython-input-6-f196b906dfea>\", line 124, in traitement\n",
      "    t[i].arret()\n",
      "NameError: name 'i' is not defined\n",
      "\n"
     ]
    },
    {
     "name": "stdout",
     "output_type": "stream",
     "text": [
      "delete\n"
     ]
    },
    {
     "name": "stderr",
     "output_type": "stream",
     "text": [
      "Exception in thread Thread-153:\n",
      "Traceback (most recent call last):\n",
      "  File \"C:\\Users\\A15-03\\Anaconda3\\lib\\threading.py\", line 916, in _bootstrap_inner\n",
      "    self.run()\n",
      "  File \"<ipython-input-6-f196b906dfea>\", line 87, in run\n",
      "    fenetre.after(1, self.run())\n",
      "  File \"<ipython-input-6-f196b906dfea>\", line 87, in run\n",
      "    fenetre.after(1, self.run())\n",
      "  File \"<ipython-input-6-f196b906dfea>\", line 87, in run\n",
      "    fenetre.after(1, self.run())\n",
      "  [Previous line repeated 1695 more times]\n",
      "  File \"<ipython-input-6-f196b906dfea>\", line 90, in run\n",
      "    self.traitement()\n",
      "  File \"<ipython-input-6-f196b906dfea>\", line 124, in traitement\n",
      "    t[i].arret()\n",
      "NameError: name 'i' is not defined\n",
      "\n"
     ]
    },
    {
     "name": "stdout",
     "output_type": "stream",
     "text": [
      "delete\n",
      "delete\n"
     ]
    },
    {
     "name": "stderr",
     "output_type": "stream",
     "text": [
      "Exception in thread Thread-155:\n",
      "Traceback (most recent call last):\n",
      "  File \"C:\\Users\\A15-03\\Anaconda3\\lib\\threading.py\", line 916, in _bootstrap_inner\n",
      "    self.run()\n",
      "  File \"<ipython-input-6-f196b906dfea>\", line 87, in run\n",
      "    fenetre.after(1, self.run())\n",
      "  File \"<ipython-input-6-f196b906dfea>\", line 87, in run\n",
      "    fenetre.after(1, self.run())\n",
      "  File \"<ipython-input-6-f196b906dfea>\", line 87, in run\n",
      "    fenetre.after(1, self.run())\n",
      "  [Previous line repeated 1687 more times]\n",
      "  File \"<ipython-input-6-f196b906dfea>\", line 90, in run\n",
      "    self.traitement()\n",
      "  File \"<ipython-input-6-f196b906dfea>\", line 124, in traitement\n",
      "    t[i].arret()\n",
      "NameError: name 'i' is not defined\n",
      "\n",
      "Exception in thread Thread-154:\n",
      "Traceback (most recent call last):\n",
      "  File \"C:\\Users\\A15-03\\Anaconda3\\lib\\threading.py\", line 916, in _bootstrap_inner\n",
      "    self.run()\n",
      "  File \"<ipython-input-6-f196b906dfea>\", line 87, in run\n",
      "    fenetre.after(1, self.run())\n",
      "  File \"<ipython-input-6-f196b906dfea>\", line 87, in run\n",
      "    fenetre.after(1, self.run())\n",
      "  File \"<ipython-input-6-f196b906dfea>\", line 87, in run\n",
      "    fenetre.after(1, self.run())\n",
      "  [Previous line repeated 1753 more times]\n",
      "  File \"<ipython-input-6-f196b906dfea>\", line 90, in run\n",
      "    self.traitement()\n",
      "  File \"<ipython-input-6-f196b906dfea>\", line 124, in traitement\n",
      "    t[i].arret()\n",
      "NameError: name 'i' is not defined\n",
      "\n"
     ]
    },
    {
     "name": "stdout",
     "output_type": "stream",
     "text": [
      "delete\n"
     ]
    },
    {
     "name": "stderr",
     "output_type": "stream",
     "text": [
      "Exception in thread Thread-156:\n",
      "Traceback (most recent call last):\n",
      "  File \"C:\\Users\\A15-03\\Anaconda3\\lib\\threading.py\", line 916, in _bootstrap_inner\n",
      "    self.run()\n",
      "  File \"<ipython-input-6-f196b906dfea>\", line 87, in run\n",
      "    fenetre.after(1, self.run())\n",
      "  File \"<ipython-input-6-f196b906dfea>\", line 87, in run\n",
      "    fenetre.after(1, self.run())\n",
      "  File \"<ipython-input-6-f196b906dfea>\", line 87, in run\n",
      "    fenetre.after(1, self.run())\n",
      "  [Previous line repeated 1927 more times]\n",
      "  File \"<ipython-input-6-f196b906dfea>\", line 90, in run\n",
      "    self.traitement()\n",
      "  File \"<ipython-input-6-f196b906dfea>\", line 124, in traitement\n",
      "    t[i].arret()\n",
      "NameError: name 'i' is not defined\n",
      "\n"
     ]
    },
    {
     "name": "stdout",
     "output_type": "stream",
     "text": [
      "delete\n"
     ]
    },
    {
     "name": "stderr",
     "output_type": "stream",
     "text": [
      "Exception in thread Thread-157:\n",
      "Traceback (most recent call last):\n",
      "  File \"C:\\Users\\A15-03\\Anaconda3\\lib\\threading.py\", line 916, in _bootstrap_inner\n",
      "    self.run()\n",
      "  File \"<ipython-input-6-f196b906dfea>\", line 87, in run\n",
      "    fenetre.after(1, self.run())\n",
      "  File \"<ipython-input-6-f196b906dfea>\", line 87, in run\n",
      "    fenetre.after(1, self.run())\n",
      "  File \"<ipython-input-6-f196b906dfea>\", line 87, in run\n",
      "    fenetre.after(1, self.run())\n",
      "  [Previous line repeated 2227 more times]\n",
      "  File \"<ipython-input-6-f196b906dfea>\", line 90, in run\n",
      "    self.traitement()\n",
      "  File \"<ipython-input-6-f196b906dfea>\", line 124, in traitement\n",
      "    t[i].arret()\n",
      "NameError: name 'i' is not defined\n",
      "\n"
     ]
    },
    {
     "name": "stdout",
     "output_type": "stream",
     "text": [
      "delete\n"
     ]
    },
    {
     "name": "stderr",
     "output_type": "stream",
     "text": [
      "Exception in thread Thread-158:\n",
      "Traceback (most recent call last):\n",
      "  File \"C:\\Users\\A15-03\\Anaconda3\\lib\\threading.py\", line 916, in _bootstrap_inner\n",
      "    self.run()\n",
      "  File \"<ipython-input-6-f196b906dfea>\", line 87, in run\n",
      "    fenetre.after(1, self.run())\n",
      "  File \"<ipython-input-6-f196b906dfea>\", line 87, in run\n",
      "    fenetre.after(1, self.run())\n",
      "  File \"<ipython-input-6-f196b906dfea>\", line 87, in run\n",
      "    fenetre.after(1, self.run())\n",
      "  [Previous line repeated 2055 more times]\n",
      "  File \"<ipython-input-6-f196b906dfea>\", line 90, in run\n",
      "    self.traitement()\n",
      "  File \"<ipython-input-6-f196b906dfea>\", line 124, in traitement\n",
      "    t[i].arret()\n",
      "NameError: name 'i' is not defined\n",
      "\n"
     ]
    },
    {
     "name": "stdout",
     "output_type": "stream",
     "text": [
      "delete\n"
     ]
    },
    {
     "name": "stderr",
     "output_type": "stream",
     "text": [
      "Exception in thread Thread-160:\n",
      "Traceback (most recent call last):\n",
      "  File \"C:\\Users\\A15-03\\Anaconda3\\lib\\threading.py\", line 916, in _bootstrap_inner\n",
      "    self.run()\n",
      "  File \"<ipython-input-6-f196b906dfea>\", line 87, in run\n",
      "    fenetre.after(1, self.run())\n",
      "  File \"<ipython-input-6-f196b906dfea>\", line 87, in run\n",
      "    fenetre.after(1, self.run())\n",
      "  File \"<ipython-input-6-f196b906dfea>\", line 87, in run\n",
      "    fenetre.after(1, self.run())\n",
      "  [Previous line repeated 2176 more times]\n",
      "  File \"<ipython-input-6-f196b906dfea>\", line 90, in run\n",
      "    self.traitement()\n",
      "  File \"<ipython-input-6-f196b906dfea>\", line 124, in traitement\n",
      "    t[i].arret()\n",
      "NameError: name 'i' is not defined\n",
      "\n"
     ]
    },
    {
     "name": "stdout",
     "output_type": "stream",
     "text": [
      "delete\n"
     ]
    },
    {
     "name": "stderr",
     "output_type": "stream",
     "text": [
      "Exception in thread Thread-159:\n",
      "Traceback (most recent call last):\n",
      "  File \"C:\\Users\\A15-03\\Anaconda3\\lib\\threading.py\", line 916, in _bootstrap_inner\n",
      "    self.run()\n",
      "  File \"<ipython-input-6-f196b906dfea>\", line 87, in run\n",
      "    fenetre.after(1, self.run())\n",
      "  File \"<ipython-input-6-f196b906dfea>\", line 87, in run\n",
      "    fenetre.after(1, self.run())\n",
      "  File \"<ipython-input-6-f196b906dfea>\", line 87, in run\n",
      "    fenetre.after(1, self.run())\n",
      "  [Previous line repeated 2016 more times]\n",
      "  File \"<ipython-input-6-f196b906dfea>\", line 90, in run\n",
      "    self.traitement()\n",
      "  File \"<ipython-input-6-f196b906dfea>\", line 124, in traitement\n",
      "    t[i].arret()\n",
      "NameError: name 'i' is not defined\n",
      "\n"
     ]
    }
   ],
   "source": [
    "#clients arrive at a random time  \n",
    "\n",
    "fenetre = tk.Tk()\n",
    "\n",
    "canvas = tk.Canvas(fenetre, width=800, height=500, background='black')\n",
    "rect = canvas.create_rectangle(100, 100, 150, 400,fill='red')\n",
    "line = canvas.create_line(300,235,300,285, fill='red')\n",
    "c = []\n",
    "coords = []\n",
    "t = []\n",
    "wait = []\n",
    "coord_rect = (100,100,150,400)\n",
    "coord_line = (300,235,300,285)\n",
    "timeInBank = 15.0\n",
    "arrInt = 3.0\n",
    "nb_counter = 3\n",
    "counter = [True]*nb_counter\n",
    "dispo = []\n",
    "for k in range(nb_counter): \n",
    "    dispo.append(canvas.create_rectangle(130,250 + 150*(2*k - (nb_counter - 1))/nb_counter,150,270 + 150*(2*k - (nb_counter - 1))/nb_counter,fill='green'))\n",
    "def modif_ind(tab, i): \n",
    "    for j in range(i, len(tab)):\n",
    "        tab[j].i = tab[j].i - 1 \n",
    "        \n",
    "def hex_to_RGB(hex): \n",
    "    return [int(hex[i:i+2], 16) for i in range(1, 6, 2)]\n",
    "\n",
    "def RGB_to_hex(RGB): \n",
    "    RGB = [int(x) for x in RGB]\n",
    "    return \"#\" + \"\".join([\"0{0:x}\".format(v) if v < 16 else \"{0:x}\".format(v) for v in RGB ])\n",
    "\n",
    "def color_dict(gradient):\n",
    "    return {\"hex\":[RGB_to_hex(RGB) for RGB in gradient], \"r\":[RGB[0] for RGB in gradient], \"g\":[RGB[1] for RGB in gradient], \"b\":[RGB[2] for RGB in gradient]}\n",
    "\n",
    "def linear_gradient(start_hex, finish_hex=\"#7711AA\", n=10000): \n",
    "    s = hex_to_RGB(start_hex)\n",
    "    f = hex_to_RGB(finish_hex)\n",
    "    RGB_list = [s]\n",
    "    for t in range(1,n): \n",
    "        curr_vector = [int(s[j] + (float(t)/(n - 1))*(f[j] - s[j])) for j in range(3)] \n",
    "        RGB_list.append(curr_vector)\n",
    "    return color_dict(RGB_list)\n",
    "\n",
    "temp = linear_gradient(\"#00FFFF\")\n",
    "color = temp['hex']\n",
    "                   \n",
    "                   \n",
    "                   \n",
    "class myThread(threading.Thread):\n",
    "\n",
    "    def __init__(self, i):\n",
    "        threading.Thread.__init__(self)\n",
    "        self.i = i\n",
    "        self.going = False\n",
    "        self.comptoir = -1\n",
    "        self.deplacement = 0\n",
    "        self.patience = random.randint(1, 15)\n",
    "        \n",
    "    def run(self):\n",
    "        self.running = True\n",
    "        global wait\n",
    "        while(self.running): \n",
    "            if(coords[self.i][0] > coord_rect[2] ):\n",
    "                if(coords[self.i][0] > coord_line[0]):\n",
    "                    if(self.i==0):\n",
    "                        self.bouger()\n",
    "                    if(self.i>0 and coords[self.i][0] > coords[self.i-1][0]+25 ):\n",
    "                        self.bouger()\n",
    "                    else: \n",
    "                        self.attendre2()\n",
    "                else:\n",
    "                    i = 0  \n",
    "                    if(self.comptoir == -1):\n",
    "                        while(i != len(counter) and not counter[i]):\n",
    "                            i = i + 1 \n",
    "                        if(i != len(counter) and counter[i]): \n",
    "                            self.going = True \n",
    "                            self.comptoir = i\n",
    "                            self.deplacement = (2*i - (nb_counter - 1))/nb_counter\n",
    "                            counter[i] = False\n",
    "                    if(self.going):\n",
    "                        self.bouger()\n",
    "                        fenetre.update()\n",
    "                    else: \n",
    "                        self.attendre2()\n",
    "                time.sleep(0.001)\n",
    "                fenetre.after(1, self.run())\n",
    "                \n",
    "            if(coords[self.i][0] <= coord_rect[2]):\n",
    "                self.traitement()\n",
    "                \n",
    "    def bouger(self):       \n",
    "        coords[self.i] = (coords[self.i][0] - 1, coords[self.i][1] + self.deplacement)\n",
    "        canvas.coords(c[self.i], coords[self.i][0], coords[self.i][1], coords[self.i][0]+20, coords[self.i][1]+20)   \n",
    "        \n",
    "    def arret(self): \n",
    "        self.running = False \n",
    "        \n",
    "    def attendre(self): \n",
    "        wait[self.i] = wait[self.i] + 1 \n",
    "        if(wait[self.i] > self.patience/2):\n",
    "            if(wait[self.i] > (3*self.patience)/4):\n",
    "                if(wait[self.i] > self.patience): \n",
    "                    canvas.itemconfigure(c[self.i], fill='black')\n",
    "                else:\n",
    "                    canvas.itemconfigure(c[self.i], fill='purple')\n",
    "            else:\n",
    "                canvas.itemconfigure(c[self.i], fill='violet')\n",
    "    \n",
    "    def attendre2(self): \n",
    "        wait[self.i] = wait[self.i] + self.patience\n",
    "        if(wait[self.i] < len(color) - 1): \n",
    "            canvas.itemconfigure(c[self.i], fill=color[wait[self.i]%len(color)])\n",
    "                \n",
    "    def traitement(self): \n",
    "        canvas.itemconfigure(dispo[self.comptoir], fill='orange')\n",
    "        counterTime = random.randint(1,timeInBank)\n",
    "        time.sleep(counterTime)\n",
    "        canvas.delete(fenetre, c[self.i])\n",
    "        print(\"delete\")\n",
    "        coords[self.i] = (0,0)\n",
    "        counter[self.comptoir] = True \n",
    "        canvas.itemconfigure(dispo[self.comptoir], fill='green')\n",
    "        t[i].arret()\n",
    "\n",
    "        \n",
    "def apparition(i):\n",
    "    if(i==0):\n",
    "        c.append(canvas.create_rectangle(350,250,370,270,fill='#00FFFF'))\n",
    "        coords.append((350, 250))\n",
    "    elif(coords[len(coords) - 1][0] < 325):\n",
    "        c.append(canvas.create_rectangle(350,250,370,270,fill='#00FFFF'))\n",
    "        coords.append((350, 250))\n",
    "    else: \n",
    "        c.append(canvas.create_rectangle(coords[len(coords) - 1][0] + 30,250,270,270,fill='blue'))\n",
    "        coords.append((coords[len(coords) - 1][0] + 30, 250))\n",
    "        \n",
    "        \n",
    "def source():\n",
    "    time.sleep(2.0)\n",
    "    for i in range(0,30): #fonctionne pour 3 pas pour 4 ou 5 \n",
    "        apparition(i)\n",
    "        fenetre.update()\n",
    "            \n",
    "        wait.append(0)\n",
    "        t.append(myThread(i))\n",
    "        t[i].start()\n",
    "        TBA = random.randint(1, arrInt)\n",
    "        time.sleep(TBA)\n",
    "        \n",
    "        \n",
    "        \n",
    "random.seed()  \n",
    "\n",
    "canvas.pack()\n",
    "draw = threading.Thread(target=source)\n",
    "draw.start()\n",
    "\n",
    "\n",
    "fenetre.mainloop()"
   ]
  },
  {
   "cell_type": "code",
   "execution_count": null,
   "metadata": {},
   "outputs": [],
   "source": []
  }
 ],
 "metadata": {
  "kernelspec": {
   "display_name": "Python 3",
   "language": "python",
   "name": "python3"
  },
  "language_info": {
   "codemirror_mode": {
    "name": "ipython",
    "version": 3
   },
   "file_extension": ".py",
   "mimetype": "text/x-python",
   "name": "python",
   "nbconvert_exporter": "python",
   "pygments_lexer": "ipython3",
   "version": "3.6.4"
  }
 },
 "nbformat": 4,
 "nbformat_minor": 2
}
