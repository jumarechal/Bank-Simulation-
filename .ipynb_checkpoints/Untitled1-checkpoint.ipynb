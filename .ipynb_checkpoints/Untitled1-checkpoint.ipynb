{
 "cells": [
  {
   "cell_type": "code",
   "execution_count": 4,
   "metadata": {},
   "outputs": [],
   "source": [
    "import tkinter as tk\n",
    "import time \n",
    "import threading "
   ]
  },
  {
   "cell_type": "code",
   "execution_count": 50,
   "metadata": {},
   "outputs": [
    {
     "name": "stderr",
     "output_type": "stream",
     "text": [
      "Exception in Tkinter callback\n",
      "Traceback (most recent call last):\n",
      "  File \"C:\\Users\\A15-03\\Anaconda3\\lib\\tkinter\\__init__.py\", line 1699, in __call__\n",
      "    return self.func(*args)\n",
      "  File \"C:\\Users\\A15-03\\Anaconda3\\lib\\tkinter\\__init__.py\", line 745, in callit\n",
      "    func(*args)\n",
      "TypeError: clavier() missing 1 required positional argument: 'obj'\n",
      "Exception in Tkinter callback\n",
      "Traceback (most recent call last):\n",
      "  File \"C:\\Users\\A15-03\\Anaconda3\\lib\\tkinter\\__init__.py\", line 1699, in __call__\n",
      "    return self.func(*args)\n",
      "  File \"C:\\Users\\A15-03\\Anaconda3\\lib\\tkinter\\__init__.py\", line 745, in callit\n",
      "    func(*args)\n",
      "TypeError: clavier() missing 1 required positional argument: 'obj'\n"
     ]
    }
   ],
   "source": [
    "fenetre = tk.Tk()\n",
    "\n",
    "canvas = tk.Canvas(fenetre, width=500, height=500, background='yellow')\n",
    "rect = canvas.create_rectangle(100, 100, 150, 400,fill='red')\n",
    "c = []\n",
    "for i in range(0,2):\n",
    "    c.append(canvas.create_rectangle(250,250,270,270,fill='blue'))\n",
    "    time.sleep(0.7)\n",
    "coord_rect = (100,100,150,400)\n",
    "coords = (250, 250)\n",
    "\n",
    "def clavier(obj):\n",
    "    global coords\n",
    "    global coord_rect \n",
    "    \n",
    "    if(coords[0] > coord_rect[2]):\n",
    "        coords = (coords[0] - 10, coords[1])\n",
    "        canvas.coords(obj, coords[0], coords[1], coords[0]+20, coords[1]+20)\n",
    "        fenetre.after(50, clavier)\n",
    "    if(coords[0] == coord_rect[2]):\n",
    "        time.sleep(0.5)\n",
    "        canvas.delete(fenetre, obj)\n",
    "\n",
    "\n",
    "t = []\n",
    "for i in range(0,2):\n",
    "    t.append(threading.Thread(target=clavier(c[i])))\n",
    "    t[i].start()\n",
    "canvas.pack()\n",
    "\n",
    "for i in range(0,2):\n",
    "    t[i].start()\n",
    "fenetre.mainloop()"
   ]
  },
  {
   "cell_type": "code",
   "execution_count": 41,
   "metadata": {},
   "outputs": [],
   "source": [
    "fenetre = tk.Tk()\n",
    "\n",
    "def clavier(event):\n",
    "    global coords\n",
    "\n",
    "    touche = event.keysym\n",
    "\n",
    "    if touche == \"Up\":\n",
    "        coords = (coords[0], coords[1] - 10)\n",
    "    elif touche == \"Down\":\n",
    "        coords = (coords[0], coords[1] + 10)\n",
    "    elif touche == \"Right\":\n",
    "        coords = (coords[0] + 10, coords[1])\n",
    "    elif touche == \"Left\":\n",
    "        coords = (coords[0] -10, coords[1])\n",
    "    # changement de coordonnées pour le rectangle\n",
    "    canvas.coords(rectangle, coords[0], coords[1], coords[0]+25, coords[1]+25)\n",
    "\n",
    "# création du canvas\n",
    "canvas = tk.Canvas(fenetre, width=250, height=250, bg=\"ivory\")\n",
    "# coordonnées initiales\n",
    "coords = (0, 0)\n",
    "# création du rectangle\n",
    "rectangle = canvas.create_rectangle(0,0,25,25,fill=\"violet\")\n",
    "# ajout du bond sur les touches du clavier\n",
    "canvas.focus_set()\n",
    "canvas.bind(\"<Key>\", clavier)\n",
    "# création du canvas\n",
    "canvas.pack()\n",
    "\n",
    "fenetre.mainloop()"
   ]
  },
  {
   "cell_type": "code",
   "execution_count": 31,
   "metadata": {},
   "outputs": [
    {
     "data": {
      "text/plain": [
       "[1, 2, 3]"
      ]
     },
     "execution_count": 31,
     "metadata": {},
     "output_type": "execute_result"
    }
   ],
   "source": [
    "t = []\n",
    "t.append(1)\n",
    "t.append(2)\n",
    "t.append(3)\n",
    "t"
   ]
  },
  {
   "cell_type": "code",
   "execution_count": null,
   "metadata": {},
   "outputs": [],
   "source": []
  }
 ],
 "metadata": {
  "kernelspec": {
   "display_name": "Python 3",
   "language": "python",
   "name": "python3"
  },
  "language_info": {
   "codemirror_mode": {
    "name": "ipython",
    "version": 3
   },
   "file_extension": ".py",
   "mimetype": "text/x-python",
   "name": "python",
   "nbconvert_exporter": "python",
   "pygments_lexer": "ipython3",
   "version": "3.6.4"
  }
 },
 "nbformat": 4,
 "nbformat_minor": 2
}
