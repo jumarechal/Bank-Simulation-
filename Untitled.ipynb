{
 "cells": [
  {
   "cell_type": "code",
   "execution_count": 1,
   "metadata": {},
   "outputs": [
    {
     "name": "stdout",
     "output_type": "stream",
     "text": [
      "Requirement already satisfied: simpy in c:\\users\\a15-03\\anaconda3\\lib\\site-packages\n"
     ]
    },
    {
     "name": "stderr",
     "output_type": "stream",
     "text": [
      "You are using pip version 9.0.1, however version 10.0.0 is available.\n",
      "You should consider upgrading via the 'python -m pip install --upgrade pip' command.\n"
     ]
    }
   ],
   "source": [
    "#install simpy on Jupyter \n",
    "import sys\n",
    "!{sys.executable} -m pip install simpy"
   ]
  },
  {
   "cell_type": "code",
   "execution_count": 1,
   "metadata": {},
   "outputs": [],
   "source": [
    "#import the necessary packages \n",
    "import simpy\n",
    "import random\n",
    "import time "
   ]
  },
  {
   "cell_type": "code",
   "execution_count": 2,
   "metadata": {},
   "outputs": [],
   "source": [
    "#define the variable \n",
    "timeInBank = 20.0\n",
    "arrInt = 15\n",
    "nb_client = 5\n",
    "averageTime = []"
   ]
  },
  {
   "cell_type": "code",
   "execution_count": 7,
   "metadata": {},
   "outputs": [],
   "source": [
    "#define the class we use\n",
    "        \n",
    "def Customer(name, env, timeInBank, counter):\n",
    "    \"\"\"Customer arrives, is served by counter and leaves\"\"\"\n",
    "    arrive = env.now #arrival time \n",
    "    print('%7.4f %s: Here I am' % (arrive, name))\n",
    "    \n",
    "    \n",
    "    with counter.request() as req:\n",
    "        yield req\n",
    "        wait = env.now - arrive #waiting time \n",
    "        averageTime.append(wait)\n",
    "        print('%7.4f %s: Waited %6.3f' % (env.now, name, wait))\n",
    "        counterTime = random.randint(1,timeInBank)\n",
    "        yield env.timeout(counterTime)\n",
    "    \n",
    "        print('%7.4f %s: Finished' % (env.now, name))\n",
    "    \n",
    "def Source(env, timeInBank, arrInt, k):\n",
    "    for i in range(nb_client):\n",
    "        c = env.process(Customer(\"Customer %2d\" %i, env, timeInBank, k))\n",
    "        \n",
    "        TBA = random.randint(1,arrInt)\n",
    "        yield env.timeout(TBA)"
   ]
  },
  {
   "cell_type": "code",
   "execution_count": 8,
   "metadata": {
    "scrolled": true
   },
   "outputs": [
    {
     "name": "stdout",
     "output_type": "stream",
     "text": [
      " 0.0000 Customer  0: Here I am\n",
      " 0.0000 Customer  0: Waited  0.000\n",
      " 4.0000 Customer  1: Here I am\n",
      " 7.0000 Customer  2: Here I am\n",
      "13.0000 Customer  3: Here I am\n",
      "20.0000 Customer  0: Finished\n",
      "20.0000 Customer  4: Here I am\n",
      "20.0000 Customer  1: Waited 16.000\n",
      "36.0000 Customer  1: Finished\n",
      "36.0000 Customer  2: Waited 29.000\n",
      "43.0000 Customer  2: Finished\n",
      "43.0000 Customer  3: Waited 30.000\n",
      "48.0000 Customer  3: Finished\n",
      "48.0000 Customer  4: Waited 28.000\n",
      "66.0000 Customer  4: Finished\n",
      "Average wait for  5 completions was 12.800 minutes.\n"
     ]
    }
   ],
   "source": [
    "#Setup \n",
    "\n",
    "random.seed()\n",
    "env = simpy.Environment()\n",
    "    \n",
    "\n",
    "\n",
    "#Start the process and the simulation\n",
    "counter = simpy.Resource(env, capacity=1)\n",
    "c = env.process(Source(env, timeInBank, arrInt, counter))\n",
    "env.run()\n",
    "    \n",
    "result = sum(averageTime)/len(averageTime)  \n",
    "\n",
    "print(\"Average wait for%3d completions was %5.3f minutes.\"%(nb_client, result))\n"
   ]
  },
  {
   "cell_type": "code",
   "execution_count": null,
   "metadata": {},
   "outputs": [],
   "source": []
  }
 ],
 "metadata": {
  "kernelspec": {
   "display_name": "Python 3",
   "language": "python",
   "name": "python3"
  },
  "language_info": {
   "codemirror_mode": {
    "name": "ipython",
    "version": 3
   },
   "file_extension": ".py",
   "mimetype": "text/x-python",
   "name": "python",
   "nbconvert_exporter": "python",
   "pygments_lexer": "ipython3",
   "version": "3.6.4"
  }
 },
 "nbformat": 4,
 "nbformat_minor": 2
}
