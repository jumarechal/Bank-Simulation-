{
 "cells": [
  {
   "cell_type": "code",
   "execution_count": 2,
   "metadata": {},
   "outputs": [],
   "source": [
    "import numpy as np\n",
    "import matplotlib.pyplot as plt\n",
    "import tkinter\n",
    "import simpy\n",
    "import random\n",
    "import time "
   ]
  },
  {
   "cell_type": "code",
   "execution_count": 3,
   "metadata": {},
   "outputs": [],
   "source": [
    "class Location:\n",
    "    def __init__(self, name=None, distance=None):\n",
    "        self.name = name\n",
    "        self.distance = distance"
   ]
  },
  {
   "cell_type": "code",
   "execution_count": 36,
   "metadata": {},
   "outputs": [],
   "source": [
    "class Call:\n",
    "    nb_call = 0 \n",
    "    def __init__(self, ID=None, initial_time=None, final_time=None, status=None, location=None):\n",
    "        Call.nb_call = Call.nb_call + 1\n",
    "        self.ID = Call.nb_call\n",
    "        self.initial_time = initial_time\n",
    "        self.final_time = final_time\n",
    "        self.status = status \n",
    "        self.location = location\n",
    "         \n",
    "        \n",
    "    def detail(self):\n",
    "        print('Call from {} received at {}'.format(self.location.name, self.initial_time))\n",
    "        \n",
    "    def generate_Call(self, env, beta, locations, distance, p, counter, boat_list, lastCall=None):\n",
    "        self.location = Location()\n",
    "        self.location.name = np.random.choice(locations, 1, p)\n",
    "        self.location.distance = distance[' '.join(self.location.name)]\n",
    "\n",
    "        if (lastCall==None):\n",
    "            self.initial_time = float (np.random.exponential(scale=beta, size=1))\n",
    "            yield env.timeout(self.initial_time)\n",
    "        else:    \n",
    "            self.initial_time = float (lastCall.initial_time + np.random.exponential(scale=beta, size=1))\n",
    "            yield env.timeout(self.initial_time)\n",
    "\n",
    "        print('%7.4f Call %d received from %s at a distance of %d' % (env.now, self.ID, self.location.name, self.location.distance))\n",
    "        \n",
    "        with counter.request() as req:\n",
    "            yield req\n",
    "            wait = env.now - self.initial_time #waiting time \n",
    "            print('%7.4f Call %d: Waited %6.3f' % (env.now, self.ID, wait))\n",
    "            yield env.process(trajet(env, boat_list, self))\n",
    "            print('%7.4f Call %d: Finished' % (env.now, self.ID))\n",
    "\n",
    "        self.status = 1\n",
    "        "
   ]
  },
  {
   "cell_type": "code",
   "execution_count": 37,
   "metadata": {},
   "outputs": [],
   "source": [
    "def trajet(env, boat_list, call): \n",
    "    i = 0 \n",
    "    while(i != len(boat_list) and boat_list[i].status != 0): #while you don't have a boat available \n",
    "        i = i + 1\n",
    "    if(i != len(boat_list) and boat_list[i].status == 0): #if you have a boat available\n",
    "        boat_list[i].status = 1 \n",
    "        intervention = Intervention()\n",
    "        print('Boat {} with a speed of {} respond to the call {} '.format(boat_list[i].ID, boat_list[i].speed, call.ID))\n",
    "        intervention.boat = boat_list[i]\n",
    "        intervention.call = call\n",
    "        intervention.travel_time = call.location.distance/boat_list[i].speed\n",
    "        intervention.TOS = 0.25\n",
    "        intervention.response_time = 2*intervention.travel_time + intervention.TOS\n",
    "        yield env.timeout(intervention.response_time)\n",
    "        print('Duration of the intervention {} : {} '.format(intervention.ID, intervention.response_time))\n",
    "        boat_list[i].status = 0\n",
    "    "
   ]
  },
  {
   "cell_type": "code",
   "execution_count": 38,
   "metadata": {},
   "outputs": [],
   "source": [
    "class Intervention: \n",
    "    nb_inter = 0 \n",
    "    def __init__(self, travel_time=None, TOS=None, response_time=None, boat=None, call=None):\n",
    "        Intervention.nb_inter = Intervention.nb_inter + 1 \n",
    "        self.ID = Intervention.nb_inter\n",
    "        self.travel_time = travel_time\n",
    "        self.TOS = TOS\n",
    "        self.response_time = response_time \n",
    "        self.boat = boat\n",
    "        self.call = call"
   ]
  },
  {
   "cell_type": "code",
   "execution_count": 39,
   "metadata": {},
   "outputs": [],
   "source": [
    "class Boat: \n",
    "    nb_boat = 0 \n",
    "    def __init__(self, env, speed=None, status=None): \n",
    "        Boat.nb_boat = Boat.nb_boat + 1 \n",
    "        self.ID = Boat.nb_boat \n",
    "        self.speed = speed \n",
    "        self.status = status "
   ]
  },
  {
   "cell_type": "code",
   "execution_count": 40,
   "metadata": {},
   "outputs": [],
   "source": [
    "def source(env, counter): \n",
    "    yield env.timeout(0)\n",
    "    print('%7.4f Start' % (env.now))\n",
    "    for i in range(5):\n",
    "        call_list.append(Call())\n",
    "        if i == 0: \n",
    "            env.process(call_list[i].generate_Call(env, 15,locations, distance, p, counter, boat_list))\n",
    "        else: \n",
    "            env.process(call_list[i].generate_Call(env, 15, locations, distance, p, counter, boat_list, call_list[i-1]))"
   ]
  },
  {
   "cell_type": "code",
   "execution_count": 41,
   "metadata": {},
   "outputs": [],
   "source": [
    "#Define the variables\n",
    "locations = ['pooh', 'rabbit', 'piglet', 'Christopher']\n",
    "distance = {\"pooh\":100, \"rabbit\":200, \"piglet\":300, \"Christopher\":400}\n",
    "p=[0.5, 0.1, 0.1, 0.3]\n",
    "nb_boat = 2\n",
    "\n",
    "call_list = []\n",
    "boat_list = []"
   ]
  },
  {
   "cell_type": "code",
   "execution_count": 42,
   "metadata": {},
   "outputs": [
    {
     "name": "stdout",
     "output_type": "stream",
     "text": [
      " 0.0000 Debut de la simulation\n",
      " 4.6156 Call 1 received from ['piglet'] at a distance of 300\n",
      " 4.6156 Call 1: Waited  0.000\n",
      "Boat 1 with a speed of 40 respond to the call 1 \n",
      " 6.7856 Call 2 received from ['piglet'] at a distance of 300\n",
      " 6.7856 Call 2: Waited  0.000\n",
      "Boat 2 with a speed of 30 respond to the call 2 \n",
      "10.3121 Call 3 received from ['pooh'] at a distance of 100\n",
      "15.3309 Call 4 received from ['Christopher'] at a distance of 400\n",
      "Duration of the intervention 1 : 15.25 \n",
      "19.8656 Call 1: Finished\n",
      "19.8656 Call 3: Waited  9.553\n",
      "Boat 1 with a speed of 40 respond to the call 3 \n",
      "Duration of the intervention 3 : 5.25 \n",
      "25.1156 Call 3: Finished\n",
      "25.1156 Call 4: Waited  9.785\n",
      "Boat 1 with a speed of 40 respond to the call 4 \n",
      "Duration of the intervention 2 : 20.25 \n",
      "27.0356 Call 2: Finished\n",
      "33.4476 Call 5 received from ['piglet'] at a distance of 300\n",
      "33.4476 Call 5: Waited  0.000\n",
      "Boat 2 with a speed of 30 respond to the call 5 \n",
      "Duration of the intervention 4 : 20.25 \n",
      "45.3656 Call 4: Finished\n",
      "Duration of the intervention 5 : 20.25 \n",
      "53.6976 Call 5: Finished\n"
     ]
    }
   ],
   "source": [
    "#Setup and lauch of the simulation \n",
    "env = simpy.Environment()\n",
    "boat_list.append(Boat(env,40,0))\n",
    "boat_list.append(Boat(env,30,0))\n",
    "counter = simpy.Resource(env, capacity=nb_boat)\n",
    "env.process(source(env, counter))\n",
    "env.run()"
   ]
  },
  {
   "cell_type": "code",
   "execution_count": null,
   "metadata": {},
   "outputs": [],
   "source": []
  }
 ],
 "metadata": {
  "kernelspec": {
   "display_name": "Python 3",
   "language": "python",
   "name": "python3"
  },
  "language_info": {
   "codemirror_mode": {
    "name": "ipython",
    "version": 3
   },
   "file_extension": ".py",
   "mimetype": "text/x-python",
   "name": "python",
   "nbconvert_exporter": "python",
   "pygments_lexer": "ipython3",
   "version": "3.6.4"
  }
 },
 "nbformat": 4,
 "nbformat_minor": 2
}
