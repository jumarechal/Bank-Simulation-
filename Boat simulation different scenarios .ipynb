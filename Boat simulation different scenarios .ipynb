{
 "cells": [
  {
   "cell_type": "code",
   "execution_count": 2,
   "metadata": {},
   "outputs": [],
   "source": [
    "import numpy as np\n",
    "import matplotlib.pyplot as plt\n",
    "import tkinter\n",
    "import simpy\n",
    "import random\n",
    "import time \n",
    "import pandas as pd\n",
    "import csv\n",
    "import math"
   ]
  },
  {
   "cell_type": "code",
   "execution_count": 3,
   "metadata": {},
   "outputs": [],
   "source": [
    "class Location:\n",
    "    def __init__(self, name=None, distance=None):\n",
    "        self.name = name\n",
    "        self.distance = distance"
   ]
  },
  {
   "cell_type": "code",
   "execution_count": 4,
   "metadata": {},
   "outputs": [],
   "source": [
    "class Call:\n",
    "    id_call = 0 \n",
    "    def __init__(self, ID=None, initial_time=None, final_time=None, status=None, location=None):\n",
    "        Call.id_call = Call.id_call + 1\n",
    "        self.ID = Call.id_call\n",
    "        self.initial_time = initial_time\n",
    "        self.final_time = final_time\n",
    "        self.status = status \n",
    "        self.location = location\n",
    "         \n",
    "        \n",
    "    def detail(self):\n",
    "        print('Call from {} received at {}'.format(self.location.name, self.initial_time))\n",
    "        \n",
    "    def generate_Call(self, env, beta, distance, p, counter, boat_list, lastCall=None):\n",
    "        self.location = Location()\n",
    "        self.location.name = random.choices([*distance], p)[0]\n",
    "        #self.location.distance = distance[' '.join(self.location.name)]\n",
    "        self.location.distance = distance[self.location.name]\n",
    "\n",
    "        if (lastCall==None):\n",
    "            self.initial_time = float (np.random.exponential(scale=beta, size=1))\n",
    "            yield env.timeout(self.initial_time)\n",
    "        else:    \n",
    "            self.initial_time = float (lastCall.initial_time + np.random.exponential(scale=beta, size=1))\n",
    "            yield env.timeout(self.initial_time)\n",
    "\n",
    "        #print('%7.4f Call %d received from %s at a distance of %d' % (env.now, self.ID, self.location.name, self.location.distance))\n",
    "        \n",
    "        with counter.request() as req:\n",
    "            yield req\n",
    "            wait = env.now - self.initial_time #waiting time \n",
    "            #print('%7.4f Call %d: Waited %6.3f' % (env.now, self.ID, wait))\n",
    "            yield env.process(trajet(env, boat_list, self, wait))\n",
    "            #print('%7.4f Call %d: Finished' % (env.now, self.ID))\n",
    "\n",
    "        self.status = 1\n",
    "        "
   ]
  },
  {
   "cell_type": "code",
   "execution_count": 5,
   "metadata": {},
   "outputs": [],
   "source": [
    "def trajet(env, boat_list, call, wait): \n",
    "    i = 0 \n",
    "    while(i != len(boat_list) and boat_list[i].status != 0): #while you don't have a boat available \n",
    "        i = i + 1\n",
    "    if(i != len(boat_list) and boat_list[i].status == 0): #if you have a boat available\n",
    "        boat_list[i].status = 1 \n",
    "        intervention = Intervention()\n",
    "        #print('Boat {} with a speed of {} respond to the call {} '.format(boat_list[i].ID, boat_list[i].speed, call.ID))\n",
    "        intervention.boat = boat_list[i]\n",
    "        intervention.call = call\n",
    "        intervention.travel_time = call.location.distance/boat_list[i].speed\n",
    "        intervention.TOS = 0.25\n",
    "        intervention.waited_time = wait \n",
    "        intervention.response_time = intervention.travel_time + wait \n",
    "        intervention.road_time = 2*intervention.travel_time + intervention.TOS \n",
    "        inter_list.append(intervention)\n",
    "        yield env.timeout(intervention.road_time)\n",
    "        call.final_time = call.initial_time + intervention.road_time \n",
    "        #print('Duration of the intervention {} : {} '.format(intervention.ID, intervention.road_time))\n",
    "        boat_list[i].status = 0\n",
    "    "
   ]
  },
  {
   "cell_type": "code",
   "execution_count": 6,
   "metadata": {},
   "outputs": [],
   "source": [
    "class Intervention: \n",
    "    nb_inter = 0 \n",
    "    def __init__(self, travel_time=None, TOS=None, response_time=None, road_time = None, waited_time=None, boat=None, call=None):\n",
    "        Intervention.nb_inter = Intervention.nb_inter + 1 \n",
    "        self.ID = Intervention.nb_inter\n",
    "        self.travel_time = travel_time\n",
    "        self.TOS = TOS\n",
    "        self.response_time = response_time \n",
    "        self.road_time = road_time \n",
    "        self.waited_time = waited_time \n",
    "        self.boat = boat\n",
    "        self.call = call\n",
    "        \n",
    "    def to_dict(self): \n",
    "        return {\n",
    "            'ID intervention': self.ID,\n",
    "            'Boat associated': self.boat.ID,\n",
    "            'Call traited': self.call.ID,\n",
    "            'Call location': self.call.location.name, \n",
    "            'travel time': self.travel_time,\n",
    "            'Time On Scene': self.TOS,\n",
    "            'response time': self.response_time,\n",
    "            'waited time': self.waited_time,\n",
    "            'total time': self.road_time, \n",
    "        }"
   ]
  },
  {
   "cell_type": "code",
   "execution_count": 7,
   "metadata": {},
   "outputs": [],
   "source": [
    "class Boat: \n",
    "    nb_boat = 0 \n",
    "    def __init__(self, env, speed=None, status=None): \n",
    "        Boat.nb_boat = Boat.nb_boat + 1 \n",
    "        self.ID = Boat.nb_boat \n",
    "        self.speed = speed \n",
    "        self.status = status "
   ]
  },
  {
   "cell_type": "code",
   "execution_count": 8,
   "metadata": {},
   "outputs": [],
   "source": [
    "def source(env, counter, p, boat_list, call_list, coeff_call): \n",
    "    yield env.timeout(0)\n",
    "    #print('%7.4f Start' % (env.now))\n",
    "    for i in range(nb_call):\n",
    "        call_list.append(Call())\n",
    "        if i == 0: \n",
    "            env.process(call_list[i].generate_Call(env, coeff_call, distance, p, counter, boat_list))\n",
    "        else: \n",
    "            env.process(call_list[i].generate_Call(env, coeff_call, distance, p, counter, boat_list, call_list[i-1]))"
   ]
  },
  {
   "cell_type": "code",
   "execution_count": 9,
   "metadata": {},
   "outputs": [],
   "source": [
    "#Define the variables\n",
    "p_2015 = [0.07246376812, 0.03623188406, 0.02898550725, 0.05797101449, 0.007246376812, 0.1086956522, 0.007246376812, 0.1449275362, 0.1231884058, 0.04347826087, 0.04347826087, 0.09420289855, 0.04347826087, 0.1231884058, 0.0652173913]\n",
    "p_2016 = [0.04255319149, 0.01418439716, 0.007092198582, 0.07092198582, 0.04964539007, 0.09929078014, 0.01418439716, 0.06382978723, 0.09929078014, 0.09219858156, 0.134751773, 0.07092198582, 0.03546099291, 0.1843971631, 0.02127659574]\n",
    "distance = {'N SRA CARMO':100, 'N SRA P. SOCORRO':90, 'BONSUCESSO':80, 'ASS. NAZARE':70, 'GUAJARA':60, \n",
    "            'ARUAU':100, 'MIPINDIAU':90, 'CUIEIRAS':75, 'SANTA MARIA':60, 'JARAQUI':52, 'COSTA DOS ARARAS':50, \n",
    "            'COSTA DO TATU':30, 'AGROVILA':20, 'N. SRA. FATIMA':15, 'LIVRAMENTO':15}\n",
    "\n",
    "nb_boat = 3\n",
    "nb_call = 164\n",
    "nb_repet = 100\n",
    "inter_list = []\n",
    "df = []\n",
    "call_list = []\n",
    "interval = []\n",
    "test = []"
   ]
  },
  {
   "cell_type": "code",
   "execution_count": 10,
   "metadata": {},
   "outputs": [],
   "source": [
    "#Setup and lauch of the simulation \n",
    "def model(nb_boat, coeff, speed):\n",
    "    env = simpy.Environment()\n",
    "    boat_list = []\n",
    "    for i in range(nb_boat): \n",
    "        boat_list.append(Boat(env,speed,0))\n",
    "    counter = simpy.Resource(env, capacity=nb_boat)\n",
    "    env.process(source(env, counter, p_2015, boat_list, call_list, coeff))\n",
    "    env.run()"
   ]
  },
  {
   "cell_type": "code",
   "execution_count": 11,
   "metadata": {},
   "outputs": [
    {
     "name": "stdout",
     "output_type": "stream",
     "text": [
      "lambda: 4 temps d'attente moyen: 4.205785042037129 with 1\n",
      "lambda: 6 temps d'attente moyen: 1.637475858313145 with 1\n",
      "lambda: 8 temps d'attente moyen: 0.9283509303190175 with 1\n",
      "lambda: 10 temps d'attente moyen: 0.644730524522888 with 1\n",
      "lambda: 12 temps d'attente moyen: 0.4803013409759215 with 1\n",
      "lambda: 14 temps d'attente moyen: 0.3748366967423893 with 1\n",
      "lambda: 16 temps d'attente moyen: 0.2996992247578285 with 1\n",
      "lambda: 18 temps d'attente moyen: 0.24335732003456495 with 1\n",
      "lambda: 20 temps d'attente moyen: 0.20896749367590145 with 1\n",
      "lambda: 22 temps d'attente moyen: 0.18415372983376319 with 1\n",
      "lambda: 24 temps d'attente moyen: 0.16548495006131872 with 1\n",
      "lambda: 26 temps d'attente moyen: 0.14761450633489537 with 1\n",
      "lambda: 28 temps d'attente moyen: 0.13381042562489762 with 1\n",
      "lambda: 30 temps d'attente moyen: 0.12380254406987767 with 1\n",
      "lambda: 32 temps d'attente moyen: 0.1142980052970097 with 1\n",
      "lambda: 34 temps d'attente moyen: 0.10491077754406007 with 1\n",
      "lambda: 36 temps d'attente moyen: 0.09597065298689522 with 1\n",
      "lambda: 38 temps d'attente moyen: 0.09055633056523817 with 1\n",
      "lambda: 4 temps d'attente moyen: 0.2699777963680164 with 2\n",
      "lambda: 6 temps d'attente moyen: 0.10367026434282396 with 2\n",
      "lambda: 8 temps d'attente moyen: 0.05169224171766412 with 2\n",
      "lambda: 10 temps d'attente moyen: 0.02324060481975543 with 2\n",
      "lambda: 12 temps d'attente moyen: 0.009309916293966027 with 2\n",
      "lambda: 14 temps d'attente moyen: 0.007789397642096397 with 2\n",
      "lambda: 16 temps d'attente moyen: 0.0056261499487931825 with 2\n",
      "lambda: 18 temps d'attente moyen: 0.003112454823681718 with 2\n",
      "lambda: 20 temps d'attente moyen: 0.0003432248129270858 with 2\n",
      "lambda: 22 temps d'attente moyen: 0.0 with 2\n",
      "lambda: 24 temps d'attente moyen: 0.0 with 2\n",
      "lambda: 26 temps d'attente moyen: 0.0 with 2\n",
      "lambda: 28 temps d'attente moyen: 0.0 with 2\n",
      "lambda: 30 temps d'attente moyen: 0.0 with 2\n",
      "lambda: 32 temps d'attente moyen: 0.0 with 2\n",
      "lambda: 34 temps d'attente moyen: 0.0 with 2\n",
      "lambda: 36 temps d'attente moyen: 0.0 with 2\n",
      "lambda: 38 temps d'attente moyen: 0.0 with 2\n",
      "lambda: 4 temps d'attente moyen: 0.021490132519404542 with 3\n",
      "lambda: 6 temps d'attente moyen: 0.006162772618010757 with 3\n",
      "lambda: 8 temps d'attente moyen: 0.0 with 3\n",
      "lambda: 10 temps d'attente moyen: 0.0 with 3\n",
      "lambda: 12 temps d'attente moyen: 0.0 with 3\n",
      "lambda: 14 temps d'attente moyen: 0.0 with 3\n",
      "lambda: 16 temps d'attente moyen: 0.0 with 3\n",
      "lambda: 18 temps d'attente moyen: 0.0 with 3\n",
      "lambda: 20 temps d'attente moyen: 0.0 with 3\n",
      "lambda: 22 temps d'attente moyen: 0.0 with 3\n",
      "lambda: 24 temps d'attente moyen: 0.0 with 3\n",
      "lambda: 26 temps d'attente moyen: 0.0 with 3\n",
      "lambda: 28 temps d'attente moyen: 0.0 with 3\n",
      "lambda: 30 temps d'attente moyen: 0.0 with 3\n",
      "lambda: 32 temps d'attente moyen: 0.0 with 3\n",
      "lambda: 34 temps d'attente moyen: 0.0 with 3\n",
      "lambda: 36 temps d'attente moyen: 0.0 with 3\n",
      "lambda: 38 temps d'attente moyen: 0.0 with 3\n"
     ]
    }
   ],
   "source": [
    "#Allow to launch nb_repet of repetitions fixing the seed \n",
    "#variation of the lambda and of the number of boats \n",
    "coeff_call_list = [(i*2) for i in range(2, 20)]\n",
    "speed = 46\n",
    "for i in range(1, nb_boat+1): \n",
    "    j = 0 \n",
    "    for coeff in coeff_call_list: \n",
    "        random.seed(42)\n",
    "        np.random.seed(42)\n",
    "        model(i, coeff, speed)\n",
    "        df.append(pd.DataFrame.from_records([inter.to_dict() for inter in inter_list]))\n",
    "        \n",
    "        interval.append(df[j][\"waited time\"].mean())\n",
    "        \n",
    "        print(\"lambda: {} temps d'attente moyen: {} with {}\".format(coeff, df[j][\"waited time\"].mean(), i))\n",
    "        #reset the global variables \n",
    "        inter_list = []\n",
    "        call_list = []\n",
    "        j = j + 1 \n",
    "        \n",
    "    test.append(interval)\n",
    "    interval = []\n",
    "    df = []"
   ]
  },
  {
   "cell_type": "code",
   "execution_count": 12,
   "metadata": {},
   "outputs": [
    {
     "name": "stdout",
     "output_type": "stream",
     "text": [
      "lambda: 4 temps d'attente moyen: 3.640542112578434 with 1 boat(s)\n",
      "lambda: 6 temps d'attente moyen: 1.4037692535296145 with 1 boat(s)\n",
      "lambda: 8 temps d'attente moyen: 0.9334075427342454 with 1 boat(s)\n",
      "lambda: 10 temps d'attente moyen: 0.64851920998218 with 1 boat(s)\n",
      "lambda: 12 temps d'attente moyen: 0.4880104285522248 with 1 boat(s)\n",
      "lambda: 14 temps d'attente moyen: 0.4370042099321114 with 1 boat(s)\n",
      "lambda: 16 temps d'attente moyen: 0.3666721144918564 with 1 boat(s)\n",
      "lambda: 18 temps d'attente moyen: 0.3072753403590247 with 1 boat(s)\n",
      "lambda: 20 temps d'attente moyen: 0.2600955748130461 with 1 boat(s)\n",
      "lambda: 22 temps d'attente moyen: 0.23145547708628633 with 1 boat(s)\n",
      "lambda: 24 temps d'attente moyen: 0.22066127474844066 with 1 boat(s)\n",
      "lambda: 26 temps d'attente moyen: 0.20139524236729922 with 1 boat(s)\n",
      "lambda: 28 temps d'attente moyen: 0.1930454356766964 with 1 boat(s)\n",
      "lambda: 30 temps d'attente moyen: 0.16461293347049064 with 1 boat(s)\n",
      "lambda: 32 temps d'attente moyen: 0.16473927816287529 with 1 boat(s)\n",
      "lambda: 34 temps d'attente moyen: 0.14578895763247132 with 1 boat(s)\n",
      "lambda: 36 temps d'attente moyen: 0.13872663550671224 with 1 boat(s)\n",
      "lambda: 38 temps d'attente moyen: 0.14023728486352285 with 1 boat(s)\n",
      "lambda: 4 temps d'attente moyen: 0.23312225518226787 with 2 boat(s)\n",
      "lambda: 6 temps d'attente moyen: 0.10846881115689622 with 2 boat(s)\n",
      "lambda: 8 temps d'attente moyen: 0.05236202586123229 with 2 boat(s)\n",
      "lambda: 10 temps d'attente moyen: 0.03935562578964261 with 2 boat(s)\n",
      "lambda: 12 temps d'attente moyen: 0.029105837795723434 with 2 boat(s)\n",
      "lambda: 14 temps d'attente moyen: 0.019797758889780397 with 2 boat(s)\n",
      "lambda: 16 temps d'attente moyen: 0.016649928133749936 with 2 boat(s)\n",
      "lambda: 18 temps d'attente moyen: 0.012555130250556306 with 2 boat(s)\n",
      "lambda: 20 temps d'attente moyen: 0.010415753584322292 with 2 boat(s)\n",
      "lambda: 22 temps d'attente moyen: 0.0067040051274498145 with 2 boat(s)\n",
      "lambda: 24 temps d'attente moyen: 0.0055652369071186245 with 2 boat(s)\n",
      "lambda: 26 temps d'attente moyen: 0.007480969020069109 with 2 boat(s)\n",
      "lambda: 28 temps d'attente moyen: 0.003960454777961912 with 2 boat(s)\n",
      "lambda: 30 temps d'attente moyen: 0.004099309946181293 with 2 boat(s)\n",
      "lambda: 32 temps d'attente moyen: 0.003627052493781878 with 2 boat(s)\n",
      "lambda: 34 temps d'attente moyen: 0.003730488482801597 with 2 boat(s)\n",
      "lambda: 36 temps d'attente moyen: 0.0026912347096648102 with 2 boat(s)\n",
      "lambda: 38 temps d'attente moyen: 0.0026935184838643173 with 2 boat(s)\n",
      "lambda: 4 temps d'attente moyen: 0.026844029260261294 with 3 boat(s)\n",
      "lambda: 6 temps d'attente moyen: 0.0081773924270169 with 3 boat(s)\n",
      "lambda: 8 temps d'attente moyen: 0.003485614655989775 with 3 boat(s)\n",
      "lambda: 10 temps d'attente moyen: 0.0020205177644386494 with 3 boat(s)\n",
      "lambda: 12 temps d'attente moyen: 0.0012232583427441465 with 3 boat(s)\n",
      "lambda: 14 temps d'attente moyen: 0.0007220418116887048 with 3 boat(s)\n",
      "lambda: 16 temps d'attente moyen: 0.00043668755338003624 with 3 boat(s)\n",
      "lambda: 18 temps d'attente moyen: 0.0004327783645590491 with 3 boat(s)\n",
      "lambda: 20 temps d'attente moyen: 0.0001627467487675183 with 3 boat(s)\n",
      "lambda: 22 temps d'attente moyen: 0.00010560608091596839 with 3 boat(s)\n",
      "lambda: 24 temps d'attente moyen: 0.00021576214480548085 with 3 boat(s)\n",
      "lambda: 26 temps d'attente moyen: 6.393411203061353e-05 with 3 boat(s)\n",
      "lambda: 28 temps d'attente moyen: 0.00014408145316343595 with 3 boat(s)\n",
      "lambda: 30 temps d'attente moyen: 2.953567373954063e-06 with 3 boat(s)\n",
      "lambda: 32 temps d'attente moyen: 0.00011524185062271277 with 3 boat(s)\n",
      "lambda: 34 temps d'attente moyen: 0.00016722141337853404 with 3 boat(s)\n",
      "lambda: 36 temps d'attente moyen: 0.0 with 3 boat(s)\n",
      "lambda: 38 temps d'attente moyen: 0.0 with 3 boat(s)\n"
     ]
    }
   ],
   "source": [
    "#Allow to launch nb_repet of repetitions for each lambda \n",
    "#variation of the lambda and of the number of boats \n",
    "coeff_call_list = [(i*2) for i in range(2, 20)]\n",
    "speed = 46\n",
    "inter = []\n",
    "result = []\n",
    "for i in range(1, nb_boat+1): \n",
    "    for coeff in coeff_call_list: \n",
    "        for j in range(nb_repet):\n",
    "            model(i, coeff, speed)\n",
    "            df.append(pd.DataFrame.from_records([inter.to_dict() for inter in inter_list]))\n",
    "            interval.append(df[j][\"waited time\"].mean())\n",
    "            inter_list = []\n",
    "            call_list = []\n",
    "        inter.append(sum(interval)/len(interval))\n",
    "        print(\"lambda: {} temps d'attente moyen: {} with {} boat(s)\".format(coeff, sum(interval)/len(interval), i)) \n",
    "        interval = []\n",
    "        df = []\n",
    "    result.append(inter)\n",
    "    inter = []"
   ]
  },
  {
   "cell_type": "code",
   "execution_count": 13,
   "metadata": {},
   "outputs": [
    {
     "data": {
      "image/png": "[encoded data removed]",
      "text/plain": [
       "<matplotlib.figure.Figure at 0x1aeecb162e8>"
      ]
     },
     "metadata": {},
     "output_type": "display_data"
    }
   ],
   "source": [
    "#Result of the first set of simulations \n",
    "for i in range(nb_boat): \n",
    "    plt.plot(coeff_call_list, test[i], marker='*', label=\"nb of boat : {}\".format(i+1))\n",
    "plt.legend(loc=\"upper right\")\n",
    "plt.xlabel('Lambda (interval between calls)')\n",
    "plt.ylabel('Waited time average (h)')\n",
    "plt.show()"
   ]
  },
  {
   "cell_type": "code",
   "execution_count": 14,
   "metadata": {},
   "outputs": [
    {
     "data": {
      "image/png": "[encoded data removed]",
      "text/plain": [
       "<matplotlib.figure.Figure at 0x1aeecb167b8>"
      ]
     },
     "metadata": {},
     "output_type": "display_data"
    }
   ],
   "source": [
    "#Result of the second set of simulations \n",
    "for i in range(nb_boat): \n",
    "    plt.plot(coeff_call_list, result[i], marker='*', label=\"nb of boat : {}\".format(i+1))\n",
    "plt.legend(loc=\"upper right\")\n",
    "plt.xlabel('Lambda (interval between calls)')\n",
    "plt.ylabel('Waited time average (h)')\n",
    "plt.show()"
   ]
  },
  {
   "cell_type": "code",
   "execution_count": 15,
   "metadata": {},
   "outputs": [
    {
     "data": {
      "image/png": "[encoded data removed]",
      "text/plain": [
       "<matplotlib.figure.Figure at 0x1aeecc537f0>"
      ]
     },
     "metadata": {},
     "output_type": "display_data"
    }
   ],
   "source": [
    "#Zoom of the second set of simulations \n",
    "for i in range(nb_boat): \n",
    "    plt.plot(coeff_call_list, result[i], marker='*', label=\"nb of boat : {}\".format(i+1))\n",
    "axes = plt.gca()\n",
    "plt.legend(loc=\"upper right\")\n",
    "axes.set_xlim(3, 28)\n",
    "axes.set_ylim(-0.01, 0.5)\n",
    "plt.xlabel('Lambda (interval between calls)')\n",
    "plt.ylabel('Waited time average (h)')\n",
    "plt.show()"
   ]
  },
  {
   "cell_type": "code",
   "execution_count": 16,
   "metadata": {},
   "outputs": [
    {
     "name": "stdout",
     "output_type": "stream",
     "text": [
      "lambda: 38 temps d'intervention total moyen: 24.857317073170734 speed:5\n",
      "lambda: 38 temps d'intervention total moyen: 12.553658536585367 speed:10\n",
      "lambda: 38 temps d'intervention total moyen: 8.452439024390241 speed:15\n",
      "lambda: 38 temps d'intervention total moyen: 6.401829268292683 speed:20\n",
      "lambda: 38 temps d'intervention total moyen: 5.171463414634146 speed:25\n",
      "lambda: 38 temps d'intervention total moyen: 4.3512195121951205 speed:30\n",
      "lambda: 38 temps d'intervention total moyen: 3.7653310104529605 speed:35\n",
      "lambda: 38 temps d'intervention total moyen: 3.3259146341463417 speed:40\n",
      "lambda: 38 temps d'intervention total moyen: 2.984146341463419 speed:45\n",
      "lambda: 38 temps d'intervention total moyen: 2.7107317073170734 speed:50\n",
      "lambda: 38 temps d'intervention total moyen: 2.487028824833702 speed:55\n",
      "lambda: 38 temps d'intervention total moyen: 2.30060975609756 speed:60\n",
      "lambda: 38 temps d'intervention total moyen: 2.1428705440900577 speed:65\n",
      "lambda: 38 temps d'intervention total moyen: 2.00766550522648 speed:70\n",
      "lambda: 38 temps d'intervention total moyen: 1.8904878048780493 speed:75\n",
      "lambda: 38 temps d'intervention total moyen: 1.7879573170731708 speed:80\n",
      "lambda: 38 temps d'intervention total moyen: 1.6974892395982775 speed:85\n"
     ]
    }
   ],
   "source": [
    "#Variation of the speed of the boat \n",
    "#Impact on the intervention time \n",
    "speed_list = [i*5 for i in range(1,18)]\n",
    "coeff = 38\n",
    "j = 0 \n",
    "df = []\n",
    "interval = []\n",
    "for i in speed_list:\n",
    "    random.seed(42)\n",
    "    np.random.seed(42)\n",
    "    model(1, coeff, i)\n",
    "    df.append(pd.DataFrame.from_records([inter.to_dict() for inter in inter_list]))\n",
    "        \n",
    "    interval.append(df[j][\"total time\"].mean())\n",
    "        \n",
    "    print(\"lambda: {} temps d'intervention total moyen: {} speed:{}\".format(coeff, df[j][\"total time\"].mean(), i))\n",
    "    #reset the global variables \n",
    "    inter_list = []\n",
    "    call_list = []\n",
    "    j = j + 1 \n",
    "    "
   ]
  },
  {
   "cell_type": "code",
   "execution_count": 17,
   "metadata": {},
   "outputs": [
    {
     "data": {
      "image/png": "[encoded data removed]",
      "text/plain": [
       "<matplotlib.figure.Figure at 0x1aeecc50898>"
      ]
     },
     "metadata": {},
     "output_type": "display_data"
    }
   ],
   "source": [
    "#Result of the variation of the speed of the boat on the intervention time \n",
    "plt.plot(speed_list, interval, marker='*')\n",
    "plt.xlabel('Speed of the boat (km/h)')\n",
    "plt.ylabel('Total time average of an intervention (h)')\n",
    "plt.show()"
   ]
  },
  {
   "cell_type": "code",
   "execution_count": 18,
   "metadata": {},
   "outputs": [
    {
     "name": "stdout",
     "output_type": "stream",
     "text": [
      "lambda: 38 temps d'attente moyen: 3.4230923842528265 speed:10\n",
      "lambda: 38 temps d'attente moyen: 1.2091879454906174 speed:15\n",
      "lambda: 38 temps d'attente moyen: 0.5740402867450466 speed:20\n",
      "lambda: 38 temps d'attente moyen: 0.33505678040316256 speed:25\n",
      "lambda: 38 temps d'attente moyen: 0.2252753712920347 speed:30\n",
      "lambda: 38 temps d'attente moyen: 0.16327264833308713 speed:35\n",
      "lambda: 38 temps d'attente moyen: 0.12282056024309826 speed:40\n",
      "lambda: 38 temps d'attente moyen: 0.09418102943354881 speed:45\n",
      "lambda: 38 temps d'attente moyen: 0.07783098592049363 speed:50\n",
      "lambda: 38 temps d'attente moyen: 0.06532147369231935 speed:55\n",
      "lambda: 38 temps d'attente moyen: 0.05672945595395791 speed:60\n",
      "lambda: 38 temps d'attente moyen: 0.049459287098420505 speed:65\n",
      "lambda: 38 temps d'attente moyen: 0.043227713793678076 speed:70\n",
      "lambda: 38 temps d'attente moyen: 0.0379941897842179 speed:75\n",
      "lambda: 38 temps d'attente moyen: 0.0342848401907236 speed:80\n",
      "lambda: 38 temps d'attente moyen: 0.031011884667050918 speed:85\n"
     ]
    }
   ],
   "source": [
    "#Variation of the speed of the boat \n",
    "#Impact on the waited time \n",
    "speed_list = [i*5 for i in range(2,18)]\n",
    "coeff = 38\n",
    "j = 0 \n",
    "df = []\n",
    "interval = []\n",
    "for i in speed_list:\n",
    "    random.seed(42)\n",
    "    np.random.seed(42)\n",
    "    model(1, coeff, i)\n",
    "    df.append(pd.DataFrame.from_records([inter.to_dict() for inter in inter_list]))\n",
    "        \n",
    "    interval.append(df[j][\"waited time\"].mean())\n",
    "        \n",
    "    print(\"lambda: {} temps d'attente moyen: {} speed:{}\".format(coeff, df[j][\"waited time\"].mean(), i))\n",
    "    #reset the global variables \n",
    "    inter_list = []\n",
    "    call_list = []\n",
    "    j = j + 1 "
   ]
  },
  {
   "cell_type": "code",
   "execution_count": 19,
   "metadata": {},
   "outputs": [
    {
     "data": {
      "image/png": "[encoded data removed]",
      "text/plain": [
       "<matplotlib.figure.Figure at 0x1aeecc83438>"
      ]
     },
     "metadata": {},
     "output_type": "display_data"
    }
   ],
   "source": [
    "#Result of the variation of the speed of the boat on the waited time \n",
    "plt.plot(speed_list, interval, marker='*')\n",
    "plt.xlabel('Speed of the boat (km/h)')\n",
    "plt.ylabel('Waited time average (h)')\n",
    "plt.show()"
   ]
  },
  {
   "cell_type": "code",
   "execution_count": null,
   "metadata": {},
   "outputs": [],
   "source": []
  }
 ],
 "metadata": {
  "kernelspec": {
   "display_name": "Python 3",
   "language": "python",
   "name": "python3"
  },
  "language_info": {
   "codemirror_mode": {
    "name": "ipython",
    "version": 3
   },
   "file_extension": ".py",
   "mimetype": "text/x-python",
   "name": "python",
   "nbconvert_exporter": "python",
   "pygments_lexer": "ipython3",
   "version": "3.6.4"
  }
 },
 "nbformat": 4,
 "nbformat_minor": 2
}
